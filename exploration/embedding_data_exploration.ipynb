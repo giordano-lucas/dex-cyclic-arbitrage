{
 "cells": [
  {
   "cell_type": "code",
   "execution_count": 1,
   "id": "ae2559b9",
   "metadata": {},
   "outputs": [],
   "source": [
    "import numpy as np\n",
    "import pandas as pd\n",
    "import matplotlib.pyplot as plt\n",
    "%load_ext autoreload\n",
    "%autoreload 2"
   ]
  },
  {
   "cell_type": "code",
   "execution_count": 2,
   "id": "39c89ccb",
   "metadata": {},
   "outputs": [],
   "source": [
    "import sys \n",
    "sys.path.append(\"/scratch/izar/kapps/DEX-Cyclic-Arbitrage/\")\n",
    "from config.get import cfg"
   ]
  },
  {
   "cell_type": "code",
   "execution_count": 3,
   "id": "fbdb0a12",
   "metadata": {},
   "outputs": [
    {
     "data": {
      "text/html": [
       "<div>\n",
       "<style scoped>\n",
       "    .dataframe tbody tr th:only-of-type {\n",
       "        vertical-align: middle;\n",
       "    }\n",
       "\n",
       "    .dataframe tbody tr th {\n",
       "        vertical-align: top;\n",
       "    }\n",
       "\n",
       "    .dataframe thead th {\n",
       "        text-align: right;\n",
       "    }\n",
       "</style>\n",
       "<table border=\"1\" class=\"dataframe\">\n",
       "  <thead>\n",
       "    <tr style=\"text-align: right;\">\n",
       "      <th></th>\n",
       "      <th>cycle_id</th>\n",
       "      <th>token1</th>\n",
       "      <th>token2</th>\n",
       "      <th>baseAmount</th>\n",
       "      <th>quoteAmount</th>\n",
       "      <th>quotePrice</th>\n",
       "      <th>gasPrice</th>\n",
       "      <th>gasValue</th>\n",
       "      <th>time</th>\n",
       "    </tr>\n",
       "  </thead>\n",
       "  <tbody>\n",
       "    <tr>\n",
       "      <th>0</th>\n",
       "      <td>0</td>\n",
       "      <td>WETH</td>\n",
       "      <td>SHUF</td>\n",
       "      <td>0.010000</td>\n",
       "      <td>10.620910</td>\n",
       "      <td>1062.091006</td>\n",
       "      <td>34.100011</td>\n",
       "      <td>0.009516</td>\n",
       "      <td>2020-05-18 17:48:23</td>\n",
       "    </tr>\n",
       "    <tr>\n",
       "      <th>1</th>\n",
       "      <td>0</td>\n",
       "      <td>WETH</td>\n",
       "      <td>SHUF</td>\n",
       "      <td>0.009372</td>\n",
       "      <td>10.000000</td>\n",
       "      <td>1067.003380</td>\n",
       "      <td>33.210001</td>\n",
       "      <td>0.006049</td>\n",
       "      <td>2020-05-18 17:59:48</td>\n",
       "    </tr>\n",
       "    <tr>\n",
       "      <th>2</th>\n",
       "      <td>0</td>\n",
       "      <td>WETH</td>\n",
       "      <td>SHUF</td>\n",
       "      <td>0.010000</td>\n",
       "      <td>10.592990</td>\n",
       "      <td>1059.298991</td>\n",
       "      <td>33.100009</td>\n",
       "      <td>0.005471</td>\n",
       "      <td>2020-05-18 18:01:30</td>\n",
       "    </tr>\n",
       "    <tr>\n",
       "      <th>3</th>\n",
       "      <td>0</td>\n",
       "      <td>WETH</td>\n",
       "      <td>SHUF</td>\n",
       "      <td>0.010000</td>\n",
       "      <td>10.143472</td>\n",
       "      <td>1014.347243</td>\n",
       "      <td>33.100009</td>\n",
       "      <td>0.007748</td>\n",
       "      <td>2020-05-18 18:04:30</td>\n",
       "    </tr>\n",
       "    <tr>\n",
       "      <th>4</th>\n",
       "      <td>0</td>\n",
       "      <td>WETH</td>\n",
       "      <td>SHUF</td>\n",
       "      <td>0.009804</td>\n",
       "      <td>10.000000</td>\n",
       "      <td>1020.026068</td>\n",
       "      <td>33.100009</td>\n",
       "      <td>0.006029</td>\n",
       "      <td>2020-05-18 18:04:54</td>\n",
       "    </tr>\n",
       "  </tbody>\n",
       "</table>\n",
       "</div>"
      ],
      "text/plain": [
       "   cycle_id token1 token2  baseAmount  quoteAmount   quotePrice   gasPrice  \\\n",
       "0         0   WETH   SHUF    0.010000    10.620910  1062.091006  34.100011   \n",
       "1         0   WETH   SHUF    0.009372    10.000000  1067.003380  33.210001   \n",
       "2         0   WETH   SHUF    0.010000    10.592990  1059.298991  33.100009   \n",
       "3         0   WETH   SHUF    0.010000    10.143472  1014.347243  33.100009   \n",
       "4         0   WETH   SHUF    0.009804    10.000000  1020.026068  33.100009   \n",
       "\n",
       "   gasValue                 time  \n",
       "0  0.009516  2020-05-18 17:48:23  \n",
       "1  0.006049  2020-05-18 17:59:48  \n",
       "2  0.005471  2020-05-18 18:01:30  \n",
       "3  0.007748  2020-05-18 18:04:30  \n",
       "4  0.006029  2020-05-18 18:04:54  "
      ]
     },
     "execution_count": 3,
     "metadata": {},
     "output_type": "execute_result"
    }
   ],
   "source": [
    "data = pd.read_csv(cfg['directories']['preprocessed_data'])\n",
    "data.head()"
   ]
  },
  {
   "cell_type": "markdown",
   "id": "7d133341",
   "metadata": {},
   "source": [
    "# Base Amount\n"
   ]
  },
  {
   "cell_type": "code",
   "execution_count": 4,
   "id": "c841c10e",
   "metadata": {},
   "outputs": [
    {
     "data": {
      "text/plain": [
       "<matplotlib.axes._subplots.AxesSubplot at 0x2acdb9038990>"
      ]
     },
     "execution_count": 4,
     "metadata": {},
     "output_type": "execute_result"
    },
    {
     "data": {
      "image/png": "[encoded data removed]",
      "text/plain": [
       "<Figure size 432x288 with 1 Axes>"
      ]
     },
     "metadata": {
      "needs_background": "light"
     },
     "output_type": "display_data"
    }
   ],
   "source": [
    "data.baseAmount.hist()"
   ]
  },
  {
   "cell_type": "code",
   "execution_count": 5,
   "id": "4f5360c7",
   "metadata": {},
   "outputs": [
    {
     "data": {
      "text/plain": [
       "<matplotlib.axes._subplots.AxesSubplot at 0x2acdbaf5ec10>"
      ]
     },
     "execution_count": 5,
     "metadata": {},
     "output_type": "execute_result"
    },
    {
     "data": {
      "image/png": "[encoded data removed]",
      "text/plain": [
       "<Figure size 432x288 with 1 Axes>"
      ]
     },
     "metadata": {
      "needs_background": "light"
     },
     "output_type": "display_data"
    }
   ],
   "source": [
    "data.baseAmount.hist(log=True)"
   ]
  },
  {
   "cell_type": "code",
   "execution_count": 6,
   "id": "d873efa0",
   "metadata": {},
   "outputs": [
    {
     "data": {
      "text/plain": [
       "<matplotlib.axes._subplots.AxesSubplot at 0x2acdbb3a7bd0>"
      ]
     },
     "execution_count": 6,
     "metadata": {},
     "output_type": "execute_result"
    },
    {
     "data": {
      "image/png": "[encoded data removed]",
      "text/plain": [
       "<Figure size 432x288 with 1 Axes>"
      ]
     },
     "metadata": {
      "needs_background": "light"
     },
     "output_type": "display_data"
    }
   ],
   "source": [
    "np.log(data.baseAmount).hist()"
   ]
  },
  {
   "cell_type": "markdown",
   "id": "ddac0aba",
   "metadata": {},
   "source": [
    "# Gas prices"
   ]
  },
  {
   "cell_type": "code",
   "execution_count": 7,
   "id": "1adc2564",
   "metadata": {},
   "outputs": [
    {
     "data": {
      "text/plain": [
       "<matplotlib.axes._subplots.AxesSubplot at 0x2acdbb454b10>"
      ]
     },
     "execution_count": 7,
     "metadata": {},
     "output_type": "execute_result"
    },
    {
     "data": {
      "image/png": "[encoded data removed]",
      "text/plain": [
       "<Figure size 432x288 with 1 Axes>"
      ]
     },
     "metadata": {
      "needs_background": "light"
     },
     "output_type": "display_data"
    }
   ],
   "source": [
    "data.gasPrice.hist()"
   ]
  },
  {
   "cell_type": "code",
   "execution_count": 8,
   "id": "e6718b4f",
   "metadata": {},
   "outputs": [
    {
     "data": {
      "text/plain": [
       "<matplotlib.axes._subplots.AxesSubplot at 0x2acdbb4d2250>"
      ]
     },
     "execution_count": 8,
     "metadata": {},
     "output_type": "execute_result"
    },
    {
     "data": {
      "image/png": "[encoded data removed]",
      "text/plain": [
       "<Figure size 432x288 with 1 Axes>"
      ]
     },
     "metadata": {
      "needs_background": "light"
     },
     "output_type": "display_data"
    }
   ],
   "source": [
    "data.gasPrice.hist(log=True)"
   ]
  },
  {
   "cell_type": "code",
   "execution_count": 9,
   "id": "0af71076",
   "metadata": {},
   "outputs": [
    {
     "data": {
      "text/plain": [
       "<matplotlib.axes._subplots.AxesSubplot at 0x2acdbb68e690>"
      ]
     },
     "execution_count": 9,
     "metadata": {},
     "output_type": "execute_result"
    },
    {
     "data": {
      "image/png": "[encoded data removed]",
      "text/plain": [
       "<Figure size 432x288 with 1 Axes>"
      ]
     },
     "metadata": {
      "needs_background": "light"
     },
     "output_type": "display_data"
    }
   ],
   "source": [
    "(np.log(data.gasPrice) - np.mean(np.log(data.gasPrice))).hist()"
   ]
  },
  {
   "cell_type": "code",
   "execution_count": 13,
   "id": "a54830de",
   "metadata": {},
   "outputs": [
    {
     "data": {
      "text/plain": [
       "<matplotlib.axes._subplots.AxesSubplot at 0x2acdda47fd90>"
      ]
     },
     "execution_count": 13,
     "metadata": {},
     "output_type": "execute_result"
    },
    {
     "data": {
      "image/png": "[encoded data removed]",
      "text/plain": [
       "<Figure size 432x288 with 1 Axes>"
      ]
     },
     "metadata": {
      "needs_background": "light"
     },
     "output_type": "display_data"
    }
   ],
   "source": [
    "data.quotePrice.hist()"
   ]
  },
  {
   "cell_type": "code",
   "execution_count": 14,
   "id": "0899caf1",
   "metadata": {},
   "outputs": [
    {
     "data": {
      "text/plain": [
       "<matplotlib.axes._subplots.AxesSubplot at 0x2ace083df110>"
      ]
     },
     "execution_count": 14,
     "metadata": {},
     "output_type": "execute_result"
    },
    {
     "data": {
      "image/png": "[encoded data removed]",
      "text/plain": [
       "<Figure size 432x288 with 1 Axes>"
      ]
     },
     "metadata": {
      "needs_background": "light"
     },
     "output_type": "display_data"
    }
   ],
   "source": [
    "np.log(data.quotePrice).hist()"
   ]
  },
  {
   "cell_type": "code",
   "execution_count": null,
   "id": "5d619d5c",
   "metadata": {},
   "outputs": [],
   "source": [
    "data.quotePrice.hist()"
   ]
  },
  {
   "cell_type": "code",
   "execution_count": null,
   "id": "8e587de3",
   "metadata": {},
   "outputs": [],
   "source": []
  },
  {
   "cell_type": "code",
   "execution_count": null,
   "id": "3197295a",
   "metadata": {},
   "outputs": [],
   "source": []
  },
  {
   "cell_type": "code",
   "execution_count": null,
   "id": "4b75f043",
   "metadata": {},
   "outputs": [],
   "source": []
  }
 ],
 "metadata": {
  "kernelspec": {
   "display_name": "Python 3 (ipykernel)",
   "language": "python",
   "name": "python3"
  },
  "language_info": {
   "codemirror_mode": {
    "name": "ipython",
    "version": 3
   },
   "file_extension": ".py",
   "mimetype": "text/x-python",
   "name": "python",
   "nbconvert_exporter": "python",
   "pygments_lexer": "ipython3",
   "version": "3.7.7"
  }
 },
 "nbformat": 4,
 "nbformat_minor": 5
}
