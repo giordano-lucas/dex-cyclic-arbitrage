{
 "cells": [
  {
   "cell_type": "code",
   "execution_count": 3,
   "metadata": {},
   "outputs": [],
   "source": [
    "import json\n",
    "import requests\n",
    "import sys \n",
    "sys.path.append(\"/scratch/izar/kapps/DEX-Cyclic-Arbitrage/\")\n",
    "from helper import *"
   ]
  },
  {
   "cell_type": "code",
   "execution_count": 4,
   "metadata": {},
   "outputs": [],
   "source": [
    "\n",
    "\n"
   ]
  },
  {
   "cell_type": "code",
   "execution_count": 5,
   "metadata": {},
   "outputs": [],
   "source": [
    "def load_cycles(type_=\"raw\",to_json=False):\n",
    "    if type_== \"raw\":\n",
    "        data_path = \"/scratch/izar/kapps/DEX-Cyclic-Arbitrage/data/cycles_in_Uniswap.json\"\n",
    "    if type_== \"filtered\":\n",
    "        data_path = \"/scratch/izar/kapps/DEX-Cyclic-Arbitrage/data/filtered_cycles.json\"\n",
    "    data = []\n",
    "    for line in open(data_path):\n",
    "        if to_json:\n",
    "            data.append(json.loads(line))\n",
    "        else :\n",
    "            data.append(line)\n",
    "    return data\n",
    "\n",
    "filtered_cycles = load_cycles(\"filtered\")\n",
    "\n",
    "cycle_paths = []\n",
    "for cycle in filtered_cycles:\n",
    "    cycle = json.loads(cycle)\n",
    "    \n",
    "    block_n  = max([x[\"blockNumber\"] for x in cycle[\"receipt\"][\"logs\"]])\n",
    "    block_n  = int(block_n,16) \n",
    "    cycle_id = cycle[\"cycle_id\"]\n",
    "    path     = cycle[\"path\"]\n",
    "    \n",
    "    cycle_paths.append({\"block_n\":block_n,\"cycle_id\":cycle_id,\"path\":path})"
   ]
  },
  {
   "cell_type": "code",
   "execution_count": 57,
   "metadata": {},
   "outputs": [],
   "source": [
    "def create_query(k,token1,token2,block_n=\"12\"):\n",
    "    return (\"\"\"{\n",
    "  ethereum(network: ethereum) {\n",
    "    dexTrades(\n",
    "      options: {limit: \"\"\"+str(k)+\"\"\", asc: \"timeInterval.minute\"}\n",
    "      exchangeName: {is: \"Uniswap\"}\n",
    "      baseCurrency: {is: \\\"\"\"\"+token1+\"\"\"\\\"}\n",
    "      quoteCurrency: {is: \\\"\"\"\"+token2+\"\"\"\\\"}\n",
    "      hei}\n",
    "    ) {\n",
    "      timeInterval {\n",
    "        minute(count: 5)\n",
    "      }\n",
    "      baseCurrency {\n",
    "        symbol\n",
    "        address\n",
    "      }\n",
    "      baseAmount\n",
    "      quoteCurrency {\n",
    "        symbol\n",
    "        address\n",
    "      }\n",
    "      gasPrice\n",
    "      gasValue\n",
    "      quoteAmount\n",
    "      trades: count\n",
    "      quotePrice\n",
    "      maximum_price: quotePrice(calculate: maximum)\n",
    "      minimum_price: quotePrice(calculate: minimum)\n",
    "      open_price: minimum(of: block, get: quote_price)\n",
    "      close_price: maximum(of: block, get: quote_price)\n",
    "    }\n",
    "  }\n",
    "}\"\"\")"
   ]
  },
  {
   "cell_type": "code",
   "execution_count": 58,
   "metadata": {},
   "outputs": [
    {
     "name": "stdout",
     "output_type": "stream",
     "text": [
      "DONE\n"
     ]
    }
   ],
   "source": [
    "k = 1000\n",
    "\n",
    "uniswap_raw_data_path = \"/scratch/izar/kapps/DEX-Cyclic-Arbitrage/data/uniswap_raw_data.json.bz2\"\n",
    "f_out = gzip.open(uniswap_raw_data_path,\"a\")\n",
    "n_query = 0\n",
    "for cycle_path in cycle_paths:\n",
    "    block_n = cycle_path[\"block_n\"]\n",
    "    cycle_id = cycle_path[\"cycle_id\"]\n",
    "    path = cycle_path[\"path\"]\n",
    "    for i in range(0,len(path),2):\n",
    "        if n_query>0 and n_query%10==0:\n",
    "            time.sleep(60)\n",
    "        \n",
    "        pair = (path[i:i+2])\n",
    "        fetched_data = {}\n",
    "        fetched_data[\"pair\"] = pair\n",
    "        fetched_data[\"cycle_id\"] = cycle_id\n",
    "        query = create_query(k,token1=pair[0]\n",
    "                                     ,token2=pair[1],\n",
    "                                      block_n=block_n)\n",
    "        if n_query%2==0:\n",
    "            fetched_data[\"data\"] = run_query(query,API_KEY1)\n",
    "        else:\n",
    "            fetched_data[\"data\"] = run_query(query,API_KEY2)\n",
    "            \n",
    "        n_query+=1\n",
    "        f_out.write(json.dumps(fetched_data)+\"\\n\")\n",
    "        print(f\"{n_query}\",end=\"\\r\")\n",
    "        \n",
    "    break\n",
    "f_out.close()\n",
    "print(\"DONE\")"
   ]
  },
  {
   "cell_type": "code",
   "execution_count": 42,
   "metadata": {},
   "outputs": [],
   "source": [
    "import time \n",
    "time.sleep(5)"
   ]
  },
  {
   "cell_type": "code",
   "execution_count": 45,
   "metadata": {},
   "outputs": [
    {
     "data": {
      "text/plain": [
       "'10100398'"
      ]
     },
     "execution_count": 45,
     "metadata": {},
     "output_type": "execute_result"
    }
   ],
   "source": [
    "str(str(block_n))"
   ]
  },
  {
   "cell_type": "code",
   "execution_count": 98,
   "metadata": {},
   "outputs": [],
   "source": [
    "uniswap_raw_data_path = \"/scratch/izar/kapps/DEX-Cyclic-Arbitrage/data/uniswap_raw_data_0_10.json.gz\"\n",
    "import gzip\n",
    "data = []\n",
    "for line in  gzip.open(uniswap_raw_data_path,\"rt\"):\n",
    "    data.append(json.loads(line))"
   ]
  }
 ],
 "metadata": {
  "kernelspec": {
   "display_name": "Python 2",
   "language": "python",
   "name": "python2"
  },
  "language_info": {
   "codemirror_mode": {
    "name": "ipython",
    "version": 2
   },
   "file_extension": ".py",
   "mimetype": "text/x-python",
   "name": "python",
   "nbconvert_exporter": "python",
   "pygments_lexer": "ipython2",
   "version": "2.7.5"
  }
 },
 "nbformat": 4,
 "nbformat_minor": 2
}
