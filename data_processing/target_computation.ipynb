{
 "cells": [
  {
   "cell_type": "code",
   "execution_count": 1,
   "metadata": {},
   "outputs": [
    {
     "name": "stdout",
     "output_type": "stream",
     "text": [
      "===============================================\n",
      "Loading filtered cycles...\n"
     ]
    }
   ],
   "source": [
    "import json\n",
    "import seaborn as sns\n",
    "import requests\n",
    "import time \n",
    "import gzip\n",
    "import matplotlib.pyplot as plt\n",
    "import sys \n",
    "sys.path.append(\"/scratch/izar/kapps/DEX-Cyclic-Arbitrage/\")\n",
    "from helper import *\n",
    "from config.get import cfg\n",
    "import pandas as pd\n",
    "API_KEY1 = 'BQYd6qf95gjz6MU3FTP9yQegkGVkuQ4r' # Augustin's KEY\n",
    "API_KEY2 = 'BQYt1q57Typ8HsY7nxzqsGzmKA0u7FzS' # Lucas's KEY\n",
    "print(\"===============================================\")\n",
    "\n",
    "print(\"Loading filtered cycles...\")\n",
    "filtered_cycles = load_cycles(\"filtered\")"
   ]
  },
  {
   "cell_type": "code",
   "execution_count": 103,
   "metadata": {},
   "outputs": [],
   "source": [
    "cycle_ids = []\n",
    "revenues = []\n",
    "costs = []\n",
    "token1 = []\n",
    "token2 = []\n",
    "token3 = []\n",
    "for line in filtered_cycles:\n",
    "    line = json.loads(line)\n",
    "    cycle_ids.append(line[\"cycle_id\"])\n",
    "    revenues.append(line[\"revenue\"])\n",
    "    costs.append(line[\"cost\"])\n",
    "    token1.append(line[\"path\"][0])\n",
    "    token2.append(line[\"path\"][2])\n",
    "    token3.append(line[\"path\"][4])"
   ]
  },
  {
   "cell_type": "code",
   "execution_count": 107,
   "metadata": {},
   "outputs": [],
   "source": [
    "targets = pd.DataFrame({\"cycle_id\":cycle_ids,\"revenues\":revenues,\"costs\":costs,\"token1\":token1,\"token2\":token2,\"token3\":token3})\n",
    "targets = targets.astype({'cycle_id': 'int32',\"revenues\":np.float64,\"costs\":np.float64})\n"
   ]
  },
  {
   "cell_type": "code",
   "execution_count": 108,
   "metadata": {},
   "outputs": [],
   "source": [
    "targets[\"profits\"] = targets[\"revenues\"]-targets[\"costs\"] \n",
    "targets[\"profitability\"] = targets[\"profits\"]>0"
   ]
  },
  {
   "cell_type": "code",
   "execution_count": 109,
   "metadata": {},
   "outputs": [],
   "source": [
    "targets.to_csv(cfg[\"files\"][\"target\"])"
   ]
  }
 ],
 "metadata": {
  "kernelspec": {
   "display_name": "Python 3 (ipykernel)",
   "language": "python",
   "name": "python3"
  },
  "language_info": {
   "codemirror_mode": {
    "name": "ipython",
    "version": 3
   },
   "file_extension": ".py",
   "mimetype": "text/x-python",
   "name": "python",
   "nbconvert_exporter": "python",
   "pygments_lexer": "ipython3",
   "version": "3.7.7"
  }
 },
 "nbformat": 4,
 "nbformat_minor": 2
}
