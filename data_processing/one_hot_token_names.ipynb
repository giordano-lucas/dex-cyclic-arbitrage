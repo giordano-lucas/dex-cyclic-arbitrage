{
 "cells": [
  {
   "cell_type": "markdown",
   "id": "58e23e1d",
   "metadata": {},
   "source": [
    "## Transform `tokens` into dummy variables (one hot encoding)"
   ]
  },
  {
   "cell_type": "code",
   "execution_count": null,
   "id": "8a13a88b",
   "metadata": {},
   "outputs": [],
   "source": [
    "# transform tokens into dummies\n",
    "from sklearn.preprocessing import OneHotEncoder\n",
    "token_columns = list(filter(lambda c: c.startswith('token'),log_data.columns))\n",
    "def one_hot_tokens():\n",
    "    one_enc = OneHotEncoder(sparse=False) \n",
    "    unique_tokens = np.unique(pd.concat([log_data[token] for token in token_columns],axis=0))\n",
    "    one_enc.fit(unique_tokens.reshape(-1, 1))\n",
    "    # transform\n",
    "    encode = lambda col: one_enc.transform(log_data[col].to_numpy().reshape(-1, 1))\n",
    "    # encode and convert as dataframes\n",
    "    \n",
    "    encoded = [pd.DataFrame(encode(token)).add_prefix(f\"token_{key}_\") for key,token in enumerate(token_columns)]\n",
    "    return pd.concat(encoded, axis='columns')"
   ]
  },
  {
   "cell_type": "code",
   "execution_count": null,
   "id": "0d6955da",
   "metadata": {},
   "outputs": [],
   "source": [
    "X = pd.concat([log_data.drop(columns=token_columns),one_hot_tokens()], axis='columns')"
   ]
  }
 ],
 "metadata": {
  "kernelspec": {
   "display_name": "Python 3 (ipykernel)",
   "language": "python",
   "name": "python3"
  },
  "language_info": {
   "codemirror_mode": {
    "name": "ipython",
    "version": 3
   },
   "file_extension": ".py",
   "mimetype": "text/x-python",
   "name": "python",
   "nbconvert_exporter": "python",
   "pygments_lexer": "ipython3",
   "version": "3.7.7"
  }
 },
 "nbformat": 4,
 "nbformat_minor": 5
}
