{
 "cells": [
  {
   "cell_type": "code",
   "execution_count": 288,
   "id": "ec764418",
   "metadata": {},
   "outputs": [
    {
     "name": "stdout",
     "output_type": "stream",
     "text": [
      "===================================\n"
     ]
    }
   ],
   "source": [
    "import sys \n",
    "sys.path.append(\"/scratch/izar/kapps/DEX-Cyclic-Arbitrage/\")\n",
    "from config.get import cfg\n",
    "import pandas as pd\n",
    "import numpy as np\n",
    "from sklearn.preprocessing import StandardScaler\n",
    "from TokenStandardScaler import TokenStandardScaler\n",
    "print(\"===================================\")     \n",
    "from sklearn.model_selection import train_test_split\n",
    "data = pd.read_csv(cfg['files']['preprocessed_data'],nrows=10000).drop(columns=[\"time\"])"
   ]
  },
  {
   "cell_type": "code",
   "execution_count": 289,
   "id": "abe52ce8",
   "metadata": {},
   "outputs": [],
   "source": [
    "data = data.set_index([\"cycle_id\",\"token1\",\"token2\"])"
   ]
  },
  {
   "cell_type": "code",
   "execution_count": 291,
   "id": "8e292c46",
   "metadata": {},
   "outputs": [],
   "source": [
    "a , b = train_test_split(data,train_size=0.8)"
   ]
  },
  {
   "cell_type": "code",
   "execution_count": 293,
   "id": "f083434c",
   "metadata": {},
   "outputs": [
    {
     "data": {
      "text/html": [
       "<div>\n",
       "<style scoped>\n",
       "    .dataframe tbody tr th:only-of-type {\n",
       "        vertical-align: middle;\n",
       "    }\n",
       "\n",
       "    .dataframe tbody tr th {\n",
       "        vertical-align: top;\n",
       "    }\n",
       "\n",
       "    .dataframe thead th {\n",
       "        text-align: right;\n",
       "    }\n",
       "</style>\n",
       "<table border=\"1\" class=\"dataframe\">\n",
       "  <thead>\n",
       "    <tr style=\"text-align: right;\">\n",
       "      <th></th>\n",
       "      <th></th>\n",
       "      <th></th>\n",
       "      <th>baseAmount</th>\n",
       "      <th>quoteAmount</th>\n",
       "      <th>quotePrice</th>\n",
       "      <th>gasPrice</th>\n",
       "      <th>gasValue</th>\n",
       "    </tr>\n",
       "    <tr>\n",
       "      <th>cycle_id</th>\n",
       "      <th>token1</th>\n",
       "      <th>token2</th>\n",
       "      <th></th>\n",
       "      <th></th>\n",
       "      <th></th>\n",
       "      <th></th>\n",
       "      <th></th>\n",
       "    </tr>\n",
       "  </thead>\n",
       "  <tbody>\n",
       "    <tr>\n",
       "      <th>1003</th>\n",
       "      <th>BPT</th>\n",
       "      <th>STA</th>\n",
       "      <td>0.121335</td>\n",
       "      <td>2342.851067</td>\n",
       "      <td>19308.897064</td>\n",
       "      <td>23.350000</td>\n",
       "      <td>0.007640</td>\n",
       "    </tr>\n",
       "    <tr>\n",
       "      <th>1001</th>\n",
       "      <th>WETH</th>\n",
       "      <th>BPT</th>\n",
       "      <td>0.960311</td>\n",
       "      <td>0.208190</td>\n",
       "      <td>0.216794</td>\n",
       "      <td>30.000001</td>\n",
       "      <td>0.004868</td>\n",
       "    </tr>\n",
       "    <tr>\n",
       "      <th>1004</th>\n",
       "      <th>USDC</th>\n",
       "      <th>LEND</th>\n",
       "      <td>89.365792</td>\n",
       "      <td>625.826412</td>\n",
       "      <td>7.002975</td>\n",
       "      <td>20.000000</td>\n",
       "      <td>0.004684</td>\n",
       "    </tr>\n",
       "    <tr>\n",
       "      <th>1005</th>\n",
       "      <th>WETH</th>\n",
       "      <th>DZAR</th>\n",
       "      <td>6.267027</td>\n",
       "      <td>27579.600000</td>\n",
       "      <td>4400.746736</td>\n",
       "      <td>22.000001</td>\n",
       "      <td>0.015643</td>\n",
       "    </tr>\n",
       "    <tr>\n",
       "      <th>1002</th>\n",
       "      <th>STA</th>\n",
       "      <th>WETH</th>\n",
       "      <td>7068.533306</td>\n",
       "      <td>0.254957</td>\n",
       "      <td>0.000036</td>\n",
       "      <td>32.000000</td>\n",
       "      <td>0.005626</td>\n",
       "    </tr>\n",
       "    <tr>\n",
       "      <th>...</th>\n",
       "      <th>...</th>\n",
       "      <th>...</th>\n",
       "      <td>...</td>\n",
       "      <td>...</td>\n",
       "      <td>...</td>\n",
       "      <td>...</td>\n",
       "      <td>...</td>\n",
       "    </tr>\n",
       "    <tr>\n",
       "      <th>1003</th>\n",
       "      <th>STA</th>\n",
       "      <th>WETH</th>\n",
       "      <td>4898.432444</td>\n",
       "      <td>0.397208</td>\n",
       "      <td>0.000081</td>\n",
       "      <td>17.999999</td>\n",
       "      <td>0.002445</td>\n",
       "    </tr>\n",
       "    <tr>\n",
       "      <th rowspan=\"2\" valign=\"top\">1005</th>\n",
       "      <th rowspan=\"2\" valign=\"top\">BPT</th>\n",
       "      <th>WETH</th>\n",
       "      <td>0.037081</td>\n",
       "      <td>0.162704</td>\n",
       "      <td>4.387798</td>\n",
       "      <td>22.550000</td>\n",
       "      <td>0.007300</td>\n",
       "    </tr>\n",
       "    <tr>\n",
       "      <th>WETH</th>\n",
       "      <td>0.080000</td>\n",
       "      <td>0.405671</td>\n",
       "      <td>5.070883</td>\n",
       "      <td>52.999999</td>\n",
       "      <td>0.006481</td>\n",
       "    </tr>\n",
       "    <tr>\n",
       "      <th>1004</th>\n",
       "      <th>USDC</th>\n",
       "      <th>LEND</th>\n",
       "      <td>803.509762</td>\n",
       "      <td>5613.938670</td>\n",
       "      <td>6.986771</td>\n",
       "      <td>40.020001</td>\n",
       "      <td>0.034558</td>\n",
       "    </tr>\n",
       "    <tr>\n",
       "      <th>1006</th>\n",
       "      <th>WETH</th>\n",
       "      <th>BUIDL</th>\n",
       "      <td>0.019296</td>\n",
       "      <td>31.782277</td>\n",
       "      <td>1647.125601</td>\n",
       "      <td>20.000000</td>\n",
       "      <td>0.002648</td>\n",
       "    </tr>\n",
       "  </tbody>\n",
       "</table>\n",
       "<p>8000 rows × 5 columns</p>\n",
       "</div>"
      ],
      "text/plain": [
       "                         baseAmount   quoteAmount    quotePrice   gasPrice  \\\n",
       "cycle_id token1 token2                                                       \n",
       "1003     BPT    STA        0.121335   2342.851067  19308.897064  23.350000   \n",
       "1001     WETH   BPT        0.960311      0.208190      0.216794  30.000001   \n",
       "1004     USDC   LEND      89.365792    625.826412      7.002975  20.000000   \n",
       "1005     WETH   DZAR       6.267027  27579.600000   4400.746736  22.000001   \n",
       "1002     STA    WETH    7068.533306      0.254957      0.000036  32.000000   \n",
       "...                             ...           ...           ...        ...   \n",
       "1003     STA    WETH    4898.432444      0.397208      0.000081  17.999999   \n",
       "1005     BPT    WETH       0.037081      0.162704      4.387798  22.550000   \n",
       "                WETH       0.080000      0.405671      5.070883  52.999999   \n",
       "1004     USDC   LEND     803.509762   5613.938670      6.986771  40.020001   \n",
       "1006     WETH   BUIDL      0.019296     31.782277   1647.125601  20.000000   \n",
       "\n",
       "                        gasValue  \n",
       "cycle_id token1 token2            \n",
       "1003     BPT    STA     0.007640  \n",
       "1001     WETH   BPT     0.004868  \n",
       "1004     USDC   LEND    0.004684  \n",
       "1005     WETH   DZAR    0.015643  \n",
       "1002     STA    WETH    0.005626  \n",
       "...                          ...  \n",
       "1003     STA    WETH    0.002445  \n",
       "1005     BPT    WETH    0.007300  \n",
       "                WETH    0.006481  \n",
       "1004     USDC   LEND    0.034558  \n",
       "1006     WETH   BUIDL   0.002648  \n",
       "\n",
       "[8000 rows x 5 columns]"
      ]
     },
     "execution_count": 293,
     "metadata": {},
     "output_type": "execute_result"
    }
   ],
   "source": [
    "data.sample(frac=0.8)"
   ]
  },
  {
   "cell_type": "code",
   "execution_count": 297,
   "id": "3ebd547f",
   "metadata": {},
   "outputs": [],
   "source": [
    "train_ix, test_ix = train_test_split(data.index.levels[0],train_size=0.8)\n",
    "X_train = data.loc[train_ix]\n",
    "X_test = data.loc[test_ix]"
   ]
  },
  {
   "cell_type": "code",
   "execution_count": 182,
   "id": "d9a8e5c6",
   "metadata": {
    "scrolled": true
   },
   "outputs": [],
   "source": [
    "scaler   = TokenStandardScaler()\n",
    "tX_train = scaler.fit_transform(X_train)\n",
    "tX_test  = scaler.transform(X_test)"
   ]
  },
  {
   "cell_type": "code",
   "execution_count": 299,
   "id": "9f074dbb",
   "metadata": {},
   "outputs": [
    {
     "data": {
      "text/plain": [
       "(5000, 5)"
      ]
     },
     "execution_count": 299,
     "metadata": {},
     "output_type": "execute_result"
    }
   ],
   "source": [
    "data.shape"
   ]
  },
  {
   "cell_type": "code",
   "execution_count": 184,
   "id": "ba14e463",
   "metadata": {},
   "outputs": [],
   "source": []
  },
  {
   "cell_type": "code",
   "execution_count": 284,
   "id": "d11a444f",
   "metadata": {},
   "outputs": [],
   "source": [
    "def build_tensor(X_padded):\n",
    "    N = len(X_padded.index.levels[0])\n",
    "    N_TOKEN = 3 # cycle length\n",
    "    K = 2       # quote price & gasPrice\n",
    "    P = 600     # max time series length per cycle\n",
    "\n",
    "    cycle_ids = np.zeros(N)\n",
    "    tensor = np.zeros((N, N_TOKEN,P, K))\n",
    "    i = 0\n",
    "    for cycle_id, group in iter(X_padded.groupby(\"cycle_id\")):\n",
    "            token_map = group\n",
    "            cycle_ids[i] =cycle_id\n",
    "            tensor[i]    = group[[\"quotePrice\",\"gasPrice\"]].values.reshape((3, 600, 2))\n",
    "            i+=1\n",
    "            if i>=N-1 : break\n",
    "    return cycle_ids[:-1],tensor[:-1] # last datapoint migh not be complete"
   ]
  },
  {
   "cell_type": "code",
   "execution_count": 279,
   "id": "5c0b8971",
   "metadata": {},
   "outputs": [],
   "source": [
    "train_padded = pad(tX_train)\n",
    "test_padded = pad(tX_test)"
   ]
  },
  {
   "cell_type": "code",
   "execution_count": 287,
   "id": "05344697",
   "metadata": {},
   "outputs": [
    {
     "data": {
      "text/plain": [
       "{'cycles_in_Uniswap': '/scratch/izar/kapps/DEX-Cyclic-Arbitrage/data/cycles_in_Uniswap.json',\n",
       " 'preprocessed_data': '/scratch/izar/kapps/DEX-Cyclic-Arbitrage/data/uniswap_data.csv',\n",
       " 'raw_features': '/scratch/izar/kapps/DEX-Cyclic-Arbitrage/data/ML_features/raw_features.npy',\n",
       " 'raw_test_features': '/scratch/izar/kapps/DEX-Cyclic-Arbitrage/data/ML_features/raw_test_features.npy',\n",
       " 'raw_train_features': '/scratch/izar/kapps/DEX-Cyclic-Arbitrage/data/ML_features/raw_train_features.npy',\n",
       " 'test_ids': '/scratch/izar/kapps/DEX-Cyclic-Arbitrage/data/ML_features/test_ids.npy',\n",
       " 'train_ids': '/scratch/izar/kapps/DEX-Cyclic-Arbitrage/data/ML_features/train_ids.npy',\n",
       " 'encoded_test_features': '/scratch/izar/kapps/DEX-Cyclic-Arbitrage/data/ML_features/encoded_test_features.npy',\n",
       " 'encoded_train_features': '/scratch/izar/kapps/DEX-Cyclic-Arbitrage/data/ML_features/encoded_train_features.npy',\n",
       " 'cycle_ids': '/scratch/izar/kapps/DEX-Cyclic-Arbitrage/data/ML_features/cycle_ids.npy',\n",
       " 'all_cycles': '/scratch/izar/kapps/DEX-Cyclic-Arbitrage/data/cycles_in_Uniswap.json',\n",
       " 'filtered_cycles': '/scratch/izar/kapps/DEX-Cyclic-Arbitrage/data/filtered_cycles.json',\n",
       " 'features': '/scratch/izar/kapps/DEX-Cyclic-Arbitrage/data/features.csv',\n",
       " 'features_train': '/scratch/izar/kapps/DEX-Cyclic-Arbitrage/data/features_train.csv',\n",
       " 'features_test': '/scratch/izar/kapps/DEX-Cyclic-Arbitrage/data/features_test.csv'}"
      ]
     },
     "execution_count": 287,
     "metadata": {},
     "output_type": "execute_result"
    }
   ],
   "source": [
    "train_ids , train_tensor = build_tensor(train_padded)\n",
    "test_ids   , test_tensor = build_tensor(test_padded)\n",
    "\n",
    "cfg['files']"
   ]
  },
  {
   "cell_type": "code",
   "execution_count": 296,
   "id": "2a8d7e41",
   "metadata": {},
   "outputs": [
    {
     "name": "stdout",
     "output_type": "stream",
     "text": [
      "===================================\n",
      "splitting\n",
      "Shapes : X_train=(3306, 5), X_test=(1694, 5)\n"
     ]
    }
   ],
   "source": [
    "print(\"===================================\")     \n",
    "data = pd.read_csv(cfg['files']['preprocessed_data'],nrows=5000).drop(columns=[\"time\"])\n",
    "data = data.set_index([\"cycle_id\",\"token1\",\"token2\"])\n",
    "\n",
    "\n",
    "# train test split\n",
    "print(\"splitting\")\n",
    "train_ix, test_ix = train_test_split(data.index.levels[0],train_size=0.8)\n",
    "X_train = data.loc[train_ix, :]\n",
    "X_test = data.loc[test_ix, :]\n",
    "print(f\"Shapes : X_train={X_train.shape}, X_test={X_test.shape}\")"
   ]
  },
  {
   "cell_type": "code",
   "execution_count": 301,
   "id": "2ba073e3",
   "metadata": {},
   "outputs": [],
   "source": [
    "train_ix, test_ix = train_test_split(data.index.levels[0])\n",
    "train_df = data.loc[train_ix]\n",
    "test_df = data.loc[test_ix]"
   ]
  },
  {
   "cell_type": "code",
   "execution_count": 302,
   "id": "78ff096c",
   "metadata": {},
   "outputs": [
    {
     "data": {
      "text/plain": [
       "(3306, 5)"
      ]
     },
     "execution_count": 302,
     "metadata": {},
     "output_type": "execute_result"
    }
   ],
   "source": [
    "train_df.shape"
   ]
  },
  {
   "cell_type": "code",
   "execution_count": 303,
   "id": "175f6fba",
   "metadata": {},
   "outputs": [
    {
     "data": {
      "text/plain": [
       "Int64Index([1003, 1000, 1002], dtype='int64', name='cycle_id')"
      ]
     },
     "execution_count": 303,
     "metadata": {},
     "output_type": "execute_result"
    }
   ],
   "source": [
    "train_ix"
   ]
  },
  {
   "cell_type": "code",
   "execution_count": 304,
   "id": "1ed659b8",
   "metadata": {},
   "outputs": [
    {
     "data": {
      "text/html": [
       "<div>\n",
       "<style scoped>\n",
       "    .dataframe tbody tr th:only-of-type {\n",
       "        vertical-align: middle;\n",
       "    }\n",
       "\n",
       "    .dataframe tbody tr th {\n",
       "        vertical-align: top;\n",
       "    }\n",
       "\n",
       "    .dataframe thead th {\n",
       "        text-align: right;\n",
       "    }\n",
       "</style>\n",
       "<table border=\"1\" class=\"dataframe\">\n",
       "  <thead>\n",
       "    <tr style=\"text-align: right;\">\n",
       "      <th></th>\n",
       "      <th></th>\n",
       "      <th></th>\n",
       "      <th>baseAmount</th>\n",
       "      <th>quoteAmount</th>\n",
       "      <th>quotePrice</th>\n",
       "      <th>gasPrice</th>\n",
       "      <th>gasValue</th>\n",
       "    </tr>\n",
       "    <tr>\n",
       "      <th>cycle_id</th>\n",
       "      <th>token1</th>\n",
       "      <th>token2</th>\n",
       "      <th></th>\n",
       "      <th></th>\n",
       "      <th></th>\n",
       "      <th></th>\n",
       "      <th></th>\n",
       "    </tr>\n",
       "  </thead>\n",
       "  <tbody>\n",
       "    <tr>\n",
       "      <th rowspan=\"11\" valign=\"top\">1001</th>\n",
       "      <th rowspan=\"5\" valign=\"top\">WETH</th>\n",
       "      <th>BPT</th>\n",
       "      <td>5.899406</td>\n",
       "      <td>0.028860</td>\n",
       "      <td>0.004892</td>\n",
       "      <td>17.999999</td>\n",
       "      <td>0.002471</td>\n",
       "    </tr>\n",
       "    <tr>\n",
       "      <th>BPT</th>\n",
       "      <td>0.100000</td>\n",
       "      <td>0.001160</td>\n",
       "      <td>0.011598</td>\n",
       "      <td>16.999999</td>\n",
       "      <td>0.002129</td>\n",
       "    </tr>\n",
       "    <tr>\n",
       "      <th>BPT</th>\n",
       "      <td>0.050000</td>\n",
       "      <td>0.000559</td>\n",
       "      <td>0.011189</td>\n",
       "      <td>16.999999</td>\n",
       "      <td>0.001874</td>\n",
       "    </tr>\n",
       "    <tr>\n",
       "      <th>BPT</th>\n",
       "      <td>1.000000</td>\n",
       "      <td>0.008956</td>\n",
       "      <td>0.008956</td>\n",
       "      <td>19.000001</td>\n",
       "      <td>0.002380</td>\n",
       "    </tr>\n",
       "    <tr>\n",
       "      <th>BPT</th>\n",
       "      <td>0.213296</td>\n",
       "      <td>0.010674</td>\n",
       "      <td>0.050041</td>\n",
       "      <td>60.999999</td>\n",
       "      <td>0.007058</td>\n",
       "    </tr>\n",
       "    <tr>\n",
       "      <th>...</th>\n",
       "      <th>...</th>\n",
       "      <td>...</td>\n",
       "      <td>...</td>\n",
       "      <td>...</td>\n",
       "      <td>...</td>\n",
       "      <td>...</td>\n",
       "    </tr>\n",
       "    <tr>\n",
       "      <th rowspan=\"5\" valign=\"top\">STA</th>\n",
       "      <th>WETH</th>\n",
       "      <td>12316.876138</td>\n",
       "      <td>0.492447</td>\n",
       "      <td>0.000040</td>\n",
       "      <td>40.000000</td>\n",
       "      <td>0.007911</td>\n",
       "    </tr>\n",
       "    <tr>\n",
       "      <th>WETH</th>\n",
       "      <td>8777.103031</td>\n",
       "      <td>0.356534</td>\n",
       "      <td>0.000041</td>\n",
       "      <td>23.928320</td>\n",
       "      <td>0.004198</td>\n",
       "    </tr>\n",
       "    <tr>\n",
       "      <th>WETH</th>\n",
       "      <td>10283.666585</td>\n",
       "      <td>0.424396</td>\n",
       "      <td>0.000041</td>\n",
       "      <td>20.999999</td>\n",
       "      <td>0.002853</td>\n",
       "    </tr>\n",
       "    <tr>\n",
       "      <th>WETH</th>\n",
       "      <td>7738.232655</td>\n",
       "      <td>0.322581</td>\n",
       "      <td>0.000042</td>\n",
       "      <td>18.749999</td>\n",
       "      <td>0.003294</td>\n",
       "    </tr>\n",
       "    <tr>\n",
       "      <th>WETH</th>\n",
       "      <td>1242.962529</td>\n",
       "      <td>0.050000</td>\n",
       "      <td>0.000040</td>\n",
       "      <td>28.000000</td>\n",
       "      <td>0.003803</td>\n",
       "    </tr>\n",
       "  </tbody>\n",
       "</table>\n",
       "<p>1694 rows × 5 columns</p>\n",
       "</div>"
      ],
      "text/plain": [
       "                          baseAmount  quoteAmount  quotePrice   gasPrice  \\\n",
       "cycle_id token1 token2                                                     \n",
       "1001     WETH   BPT         5.899406     0.028860    0.004892  17.999999   \n",
       "                BPT         0.100000     0.001160    0.011598  16.999999   \n",
       "                BPT         0.050000     0.000559    0.011189  16.999999   \n",
       "                BPT         1.000000     0.008956    0.008956  19.000001   \n",
       "                BPT         0.213296     0.010674    0.050041  60.999999   \n",
       "...                              ...          ...         ...        ...   \n",
       "         STA    WETH    12316.876138     0.492447    0.000040  40.000000   \n",
       "                WETH     8777.103031     0.356534    0.000041  23.928320   \n",
       "                WETH    10283.666585     0.424396    0.000041  20.999999   \n",
       "                WETH     7738.232655     0.322581    0.000042  18.749999   \n",
       "                WETH     1242.962529     0.050000    0.000040  28.000000   \n",
       "\n",
       "                        gasValue  \n",
       "cycle_id token1 token2            \n",
       "1001     WETH   BPT     0.002471  \n",
       "                BPT     0.002129  \n",
       "                BPT     0.001874  \n",
       "                BPT     0.002380  \n",
       "                BPT     0.007058  \n",
       "...                          ...  \n",
       "         STA    WETH    0.007911  \n",
       "                WETH    0.004198  \n",
       "                WETH    0.002853  \n",
       "                WETH    0.003294  \n",
       "                WETH    0.003803  \n",
       "\n",
       "[1694 rows x 5 columns]"
      ]
     },
     "execution_count": 304,
     "metadata": {},
     "output_type": "execute_result"
    }
   ],
   "source": [
    "test_df"
   ]
  },
  {
   "cell_type": "code",
   "execution_count": null,
   "id": "5be8dfde",
   "metadata": {},
   "outputs": [],
   "source": []
  }
 ],
 "metadata": {
  "kernelspec": {
   "display_name": "Python 3 (ipykernel)",
   "language": "python",
   "name": "python3"
  },
  "language_info": {
   "codemirror_mode": {
    "name": "ipython",
    "version": 3
   },
   "file_extension": ".py",
   "mimetype": "text/x-python",
   "name": "python",
   "nbconvert_exporter": "python",
   "pygments_lexer": "ipython3",
   "version": "3.7.7"
  }
 },
 "nbformat": 4,
 "nbformat_minor": 5
}
