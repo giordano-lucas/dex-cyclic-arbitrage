{
 "cells": [
  {
   "cell_type": "code",
   "execution_count": 1,
   "metadata": {},
   "outputs": [],
   "source": [
    "import json\n",
    "import pandas as pd"
   ]
  },
  {
   "cell_type": "code",
   "execution_count": 6,
   "metadata": {},
   "outputs": [],
   "source": [
    "import sys \n",
    "sys.path.append(\"/scratch/izar/kapps/DEX-Cyclic-Arbitrage/\")\n",
    "from config.get import cfg\n",
    "import pandas as pd\n",
    "import numpy as np\n",
    "\n",
    "     \n",
    "cycle_length = 6\n"
   ]
  },
  {
   "cell_type": "code",
   "execution_count": 3,
   "metadata": {},
   "outputs": [],
   "source": [
    "def load_cycles(type_=\"raw\"):\n",
    "    if type_== \"raw\":\n",
    "        data_path = \"/scratch/izar/kapps/DEX-Cyclic-Arbitrage/data/cycles_in_Uniswap.json\"\n",
    "    data = []\n",
    "    for line in open(cfg['files']['all_cycles']):\n",
    "        data.append(line)\n",
    "    return data"
   ]
  },
  {
   "cell_type": "code",
   "execution_count": 4,
   "metadata": {},
   "outputs": [],
   "source": [
    "raw_cycles = load_cycles(type_=\"raw\")"
   ]
  },
  {
   "cell_type": "code",
   "execution_count": 7,
   "metadata": {},
   "outputs": [
    {
     "name": "stdout",
     "output_type": "stream",
     "text": [
      "248604  cycles saved\n"
     ]
    }
   ],
   "source": [
    "f_out = open(cfg['files']['filtered_cycles'],\"wt\")\n",
    "cycle_id = 0\n",
    "for cycle in raw_cycles:\n",
    "    cycle = json.loads(cycle)\n",
    "    if len(cycle[\"path\"])==cycle_length:\n",
    "        cycle[\"cycle_id\"] = cycle_id\n",
    "        cycle_id+=1\n",
    "        f_out.write(json.dumps(cycle)+\"\\n\")\n",
    "f_out.close()\n",
    "print(cycle_id,\" cycles saved\")"
   ]
  },
  {
   "cell_type": "code",
   "execution_count": null,
   "metadata": {},
   "outputs": [],
   "source": []
  }
 ],
 "metadata": {
  "kernelspec": {
   "display_name": "Python 3 (ipykernel)",
   "language": "python",
   "name": "python3"
  },
  "language_info": {
   "codemirror_mode": {
    "name": "ipython",
    "version": 3
   },
   "file_extension": ".py",
   "mimetype": "text/x-python",
   "name": "python",
   "nbconvert_exporter": "python",
   "pygments_lexer": "ipython3",
   "version": "3.7.7"
  }
 },
 "nbformat": 4,
 "nbformat_minor": 2
}
