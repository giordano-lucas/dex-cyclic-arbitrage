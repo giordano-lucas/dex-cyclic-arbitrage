{
 "cells": [
  {
   "cell_type": "code",
   "execution_count": 2,
   "metadata": {},
   "outputs": [],
   "source": [
    "import json\n",
    "import pandas as pd"
   ]
  },
  {
   "cell_type": "code",
   "execution_count": 3,
   "metadata": {},
   "outputs": [],
   "source": [
    "cycles_raw_data_path = \"/home/kapps/DEX-Cyclic-Arbitrage/data/cycles_in_Uniswap.json\"\n",
    "\n",
    "cycle_length = 6 # (3 swaps)"
   ]
  },
  {
   "cell_type": "code",
   "execution_count": 4,
   "metadata": {},
   "outputs": [],
   "source": [
    "def load_cycles(type_=\"raw\"):\n",
    "    if type_== \"raw\":\n",
    "        data_path = \"/home/kapps/DEX-Cyclic-Arbitrage/data/cycles_in_Uniswap.json\"\n",
    "    data = []\n",
    "    for line in open(data_path):\n",
    "        data.append(line)\n",
    "    return data"
   ]
  },
  {
   "cell_type": "code",
   "execution_count": 5,
   "metadata": {},
   "outputs": [],
   "source": [
    "raw_cycles = load_cycles(type_=\"raw\")"
   ]
  },
  {
   "cell_type": "code",
   "execution_count": 15,
   "metadata": {},
   "outputs": [
    {
     "name": "stdout",
     "output_type": "stream",
     "text": [
      "(248604, ' cycles saved')\n"
     ]
    }
   ],
   "source": [
    "filtered_dataset_path = \"/home/kapps/DEX-Cyclic-Arbitrage/data/filtered_cycles.json\"\n",
    "f_out = open(filtered_dataset_path,\"wt\")\n",
    "cycle_id = 0\n",
    "for cycle in raw_cycles:\n",
    "    cycle = json.loads(cycle)\n",
    "    if len(cycle[\"path\"])==cycle_length:\n",
    "        cycle[\"cycle_id\"] = cycle_id\n",
    "        cycle_id+=1\n",
    "        f_out.write(json.dumps(cycle)+\"\\n\")\n",
    "f_out.close()\n",
    "print(cycle_id,\" cycles saved\")"
   ]
  },
  {
   "cell_type": "code",
   "execution_count": null,
   "metadata": {},
   "outputs": [],
   "source": []
  }
 ],
 "metadata": {
  "kernelspec": {
   "display_name": "Python 2",
   "language": "python",
   "name": "python2"
  },
  "language_info": {
   "codemirror_mode": {
    "name": "ipython",
    "version": 2
   },
   "file_extension": ".py",
   "mimetype": "text/x-python",
   "name": "python",
   "nbconvert_exporter": "python",
   "pygments_lexer": "ipython2",
   "version": "2.7.5"
  }
 },
 "nbformat": 4,
 "nbformat_minor": 2
}
