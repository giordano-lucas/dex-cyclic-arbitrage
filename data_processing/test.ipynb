{
 "cells": [
  {
   "cell_type": "code",
   "execution_count": 5,
   "metadata": {},
   "outputs": [],
   "source": [
    "import sys \n",
    "sys.path.append(\"/scratch/izar/kapps/DEX-Cyclic-Arbitrage/\")\n",
    "from config.get import cfg\n",
    "import pandas as pd\n",
    "import numpy as np"
   ]
  },
  {
   "cell_type": "code",
   "execution_count": 6,
   "metadata": {},
   "outputs": [
    {
     "data": {
      "text/html": [
       "<div>\n",
       "<style scoped>\n",
       "    .dataframe tbody tr th:only-of-type {\n",
       "        vertical-align: middle;\n",
       "    }\n",
       "\n",
       "    .dataframe tbody tr th {\n",
       "        vertical-align: top;\n",
       "    }\n",
       "\n",
       "    .dataframe thead th {\n",
       "        text-align: right;\n",
       "    }\n",
       "</style>\n",
       "<table border=\"1\" class=\"dataframe\">\n",
       "  <thead>\n",
       "    <tr style=\"text-align: right;\">\n",
       "      <th></th>\n",
       "      <th>cycle_id</th>\n",
       "      <th>token1</th>\n",
       "      <th>token2</th>\n",
       "      <th>baseAmount</th>\n",
       "      <th>quoteAmount</th>\n",
       "      <th>quotePrice</th>\n",
       "      <th>gasPrice</th>\n",
       "      <th>gasValue</th>\n",
       "      <th>time</th>\n",
       "    </tr>\n",
       "  </thead>\n",
       "  <tbody>\n",
       "    <tr>\n",
       "      <th>0</th>\n",
       "      <td>0</td>\n",
       "      <td>WETH</td>\n",
       "      <td>SHUF</td>\n",
       "      <td>0.010000</td>\n",
       "      <td>10.620910</td>\n",
       "      <td>1062.091006</td>\n",
       "      <td>34.100011</td>\n",
       "      <td>0.009516</td>\n",
       "      <td>2020-05-18 17:48:23</td>\n",
       "    </tr>\n",
       "    <tr>\n",
       "      <th>1</th>\n",
       "      <td>0</td>\n",
       "      <td>WETH</td>\n",
       "      <td>SHUF</td>\n",
       "      <td>0.009372</td>\n",
       "      <td>10.000000</td>\n",
       "      <td>1067.003380</td>\n",
       "      <td>33.210001</td>\n",
       "      <td>0.006049</td>\n",
       "      <td>2020-05-18 17:59:48</td>\n",
       "    </tr>\n",
       "    <tr>\n",
       "      <th>2</th>\n",
       "      <td>0</td>\n",
       "      <td>WETH</td>\n",
       "      <td>SHUF</td>\n",
       "      <td>0.010000</td>\n",
       "      <td>10.592990</td>\n",
       "      <td>1059.298991</td>\n",
       "      <td>33.100009</td>\n",
       "      <td>0.005471</td>\n",
       "      <td>2020-05-18 18:01:30</td>\n",
       "    </tr>\n",
       "    <tr>\n",
       "      <th>3</th>\n",
       "      <td>0</td>\n",
       "      <td>WETH</td>\n",
       "      <td>SHUF</td>\n",
       "      <td>0.010000</td>\n",
       "      <td>10.143472</td>\n",
       "      <td>1014.347243</td>\n",
       "      <td>33.100009</td>\n",
       "      <td>0.007748</td>\n",
       "      <td>2020-05-18 18:04:30</td>\n",
       "    </tr>\n",
       "    <tr>\n",
       "      <th>4</th>\n",
       "      <td>0</td>\n",
       "      <td>WETH</td>\n",
       "      <td>SHUF</td>\n",
       "      <td>0.009804</td>\n",
       "      <td>10.000000</td>\n",
       "      <td>1020.026068</td>\n",
       "      <td>33.100009</td>\n",
       "      <td>0.006029</td>\n",
       "      <td>2020-05-18 18:04:54</td>\n",
       "    </tr>\n",
       "  </tbody>\n",
       "</table>\n",
       "</div>"
      ],
      "text/plain": [
       "   cycle_id token1 token2  baseAmount  quoteAmount   quotePrice   gasPrice  \\\n",
       "0         0   WETH   SHUF    0.010000    10.620910  1062.091006  34.100011   \n",
       "1         0   WETH   SHUF    0.009372    10.000000  1067.003380  33.210001   \n",
       "2         0   WETH   SHUF    0.010000    10.592990  1059.298991  33.100009   \n",
       "3         0   WETH   SHUF    0.010000    10.143472  1014.347243  33.100009   \n",
       "4         0   WETH   SHUF    0.009804    10.000000  1020.026068  33.100009   \n",
       "\n",
       "   gasValue                 time  \n",
       "0  0.009516  2020-05-18 17:48:23  \n",
       "1  0.006049  2020-05-18 17:59:48  \n",
       "2  0.005471  2020-05-18 18:01:30  \n",
       "3  0.007748  2020-05-18 18:04:30  \n",
       "4  0.006029  2020-05-18 18:04:54  "
      ]
     },
     "execution_count": 6,
     "metadata": {},
     "output_type": "execute_result"
    }
   ],
   "source": [
    "data = pd.read_csv(cfg['files']['preprocessed_data'])\n",
    "data.head()"
   ]
  },
  {
   "cell_type": "code",
   "execution_count": 7,
   "metadata": {},
   "outputs": [],
   "source": [
    "# from data exploration log was found to be a good normaliser\n",
    "def log_scaling(data):\n",
    "    data['baseAmount']  = np.log(data.baseAmount)\n",
    "    data['quoteAmount'] = np.log(data.quoteAmount)\n",
    "    data['quotePrice']  = np.log(data.quotePrice)\n",
    "    return data;\n",
    "\n",
    "log_data = log_scaling(data)"
   ]
  },
  {
   "cell_type": "code",
   "execution_count": 8,
   "metadata": {},
   "outputs": [],
   "source": [
    "N_TOKEN = 3 # cycle length\n",
    "K = 2       # quote price & gasPrice\n",
    "N = 1000    # number of cycles\n",
    "P = 600     # max time series length per cycle\n",
    "\n",
    "def build_tensor(data):\n",
    "    tensor = np.zeros((N, N_TOKEN,P, K))\n",
    "    i = 0\n",
    "    def get_sorted_token_map(g):\n",
    "        t = g[['token1','token2']].values\n",
    "        u, ind = np.unique(t, return_index=True)\n",
    "        u_sorted =  u[np.argsort(ind)]\n",
    "        return dict(zip(u_sorted, range(len(u_sorted))))\n",
    "\n",
    "    for _, group in iter(data.groupby('cycle_id')):\n",
    "        token_map = get_sorted_token_map(group)\n",
    "        for _, g in iter(group.groupby(['token1','token2'])):\n",
    "            a = g[['quotePrice','gasPrice']].values\n",
    "            # zero padding\n",
    "            padded = np.pad(a, [(0, P - len(a)),(0,0)])\n",
    "            # assign and reshape into a matrix\n",
    "            first_token = g.token1.iloc[0]\n",
    "            token_ind = token_map[first_token]\n",
    "            tensor[i,token_ind,:,:] = padded.reshape(1,P,K)\n",
    "        i = i+1\n",
    "    return tensor\n",
    "    \n",
    "X = build_tensor(log_data)"
   ]
  },
  {
   "cell_type": "code",
   "execution_count": 9,
   "metadata": {},
   "outputs": [
    {
     "name": "stdout",
     "output_type": "stream",
     "text": [
      "data shape :  (1000, 3, 600, 2)\n"
     ]
    }
   ],
   "source": [
    "print(\"data shape : \",X.shape)"
   ]
  },
  {
   "cell_type": "code",
   "execution_count": 12,
   "metadata": {},
   "outputs": [],
   "source": [
    "np.save(cfg['files']['raw_features'],X)"
   ]
  },
  {
   "cell_type": "code",
   "execution_count": 13,
   "metadata": {},
   "outputs": [],
   "source": [
    "X = np.load(cfg['files']['raw_features'])"
   ]
  },
  {
   "cell_type": "code",
   "execution_count": 14,
   "metadata": {},
   "outputs": [
    {
     "data": {
      "text/plain": [
       "(10000, 3, 600, 2)"
      ]
     },
     "execution_count": 14,
     "metadata": {},
     "output_type": "execute_result"
    }
   ],
   "source": [
    "X.shape"
   ]
  },
  {
   "cell_type": "code",
   "execution_count": null,
   "metadata": {},
   "outputs": [],
   "source": []
  }
 ],
 "metadata": {
  "kernelspec": {
   "display_name": "Python 3 (ipykernel)",
   "language": "python",
   "name": "python3"
  },
  "language_info": {
   "codemirror_mode": {
    "name": "ipython",
    "version": 3
   },
   "file_extension": ".py",
   "mimetype": "text/x-python",
   "name": "python",
   "nbconvert_exporter": "python",
   "pygments_lexer": "ipython3",
   "version": "3.7.7"
  }
 },
 "nbformat": 4,
 "nbformat_minor": 2
}
