{
 "cells": [
  {
   "cell_type": "markdown",
   "id": "3b03ba1f",
   "metadata": {},
   "source": [
    "# Models training \n",
    "This notebook is used to train test and save models that are defined in the `autoencoders.py` file. "
   ]
  },
  {
   "cell_type": "code",
   "execution_count": 1,
   "id": "316e97b7",
   "metadata": {},
   "outputs": [
    {
     "name": "stderr",
     "output_type": "stream",
     "text": [
      "2022-01-10 18:24:02.298651: W tensorflow/stream_executor/platform/default/dso_loader.cc:64] Could not load dynamic library 'libcudart.so.11.0'; dlerror: libcudart.so.11.0: cannot open shared object file: No such file or directory\n",
      "2022-01-10 18:24:02.298685: I tensorflow/stream_executor/cuda/cudart_stub.cc:29] Ignore above cudart dlerror if you do not have a GPU set up on your machine.\n"
     ]
    }
   ],
   "source": [
    "import numpy as np\n",
    "import pandas as pd\n",
    "import matplotlib.pyplot as plt\n",
    "import plotly.express as px\n",
    "from plotly.subplots import make_subplots\n",
    "import plotly.graph_objects as go\n",
    "%load_ext autoreload\n",
    "%autoreload 2\n",
    "plt.style.use('ggplot')\n",
    "import sys \n",
    "import os\n",
    "sys.path.append('/'.join(os.getcwd().split('/')[:4]))\n",
    "from config.get import cfg\n",
    "from tensorflow import keras\n",
    "from tensorflow.keras import layers\n",
    "import autoencoders"
   ]
  },
  {
   "cell_type": "markdown",
   "id": "240338a1",
   "metadata": {},
   "source": [
    "# Loading data"
   ]
  },
  {
   "cell_type": "code",
   "execution_count": 3,
   "id": "d57fb1e3",
   "metadata": {},
   "outputs": [
    {
     "name": "stdout",
     "output_type": "stream",
     "text": [
      "shapes : X_train=(5292, 3, 600, 2),X_test=(1323, 3, 600, 2)\n"
     ]
    }
   ],
   "source": [
    "X_train = np.load(cfg['files'][\"liquid\"][\"scaled_ae_train_features\"])\n",
    "X_test  = np.load(cfg['files'][\"liquid\"][\"raw_test_features\"])\n",
    "print(f\"shapes : X_train={X_train.shape},X_test={X_test.shape}\")"
   ]
  },
  {
   "cell_type": "markdown",
   "id": "5b48d7f9",
   "metadata": {},
   "source": [
    "# Loading model\n",
    "Loading a model defined in `autoencoders.py`"
   ]
  },
  {
   "cell_type": "code",
   "execution_count": 6,
   "id": "b09a76d5",
   "metadata": {
    "scrolled": true
   },
   "outputs": [
    {
     "name": "stdout",
     "output_type": "stream",
     "text": [
      "Model: \"model_1\"\n",
      "_________________________________________________________________\n",
      " Layer (type)                Output Shape              Param #   \n",
      "=================================================================\n",
      " input_2 (InputLayer)        [(None, 3, 600, 2)]       0         \n",
      "                                                                 \n",
      " reshape (Reshape)           (None, 3600)              0         \n",
      "                                                                 \n",
      " dense_4 (Dense)             (None, 600)               2160600   \n",
      "                                                                 \n",
      " dense_5 (Dense)             (None, 100)               60100     \n",
      "                                                                 \n",
      " dense_6 (Dense)             (None, 600)               60600     \n",
      "                                                                 \n",
      " dense_7 (Dense)             (None, 3600)              2163600   \n",
      "                                                                 \n",
      " reshape_1 (Reshape)         (None, 3, 600, 2)         0         \n",
      "                                                                 \n",
      "=================================================================\n",
      "Total params: 4,444,900\n",
      "Trainable params: 4,444,900\n",
      "Non-trainable params: 0\n",
      "_________________________________________________________________\n"
     ]
    }
   ],
   "source": [
    "model_name,autoencoder = autoencoders.fully_connected_3L()\n",
    "autoencoder.summary()\n",
    "train_loss = []\n",
    "test_loss = []"
   ]
  },
  {
   "cell_type": "markdown",
   "id": "2d6dd38b",
   "metadata": {},
   "source": [
    "# Training the model"
   ]
  },
  {
   "cell_type": "code",
   "execution_count": 7,
   "id": "c23e9cca",
   "metadata": {
    "scrolled": true
   },
   "outputs": [
    {
     "name": "stdout",
     "output_type": "stream",
     "text": [
      "Epoch 1/70\n",
      "166/166 [==============================] - 19s 114ms/step - loss: 0.2398 - val_loss: 0.1444\n",
      "Epoch 2/70\n",
      "166/166 [==============================] - 19s 113ms/step - loss: 0.1335 - val_loss: 0.1189\n",
      "Epoch 3/70\n",
      "166/166 [==============================] - 19s 115ms/step - loss: 0.1257 - val_loss: 0.1116\n",
      "Epoch 4/70\n",
      "166/166 [==============================] - 19s 114ms/step - loss: 0.1084 - val_loss: 0.1028\n",
      "Epoch 5/70\n",
      "166/166 [==============================] - 19s 115ms/step - loss: 0.1005 - val_loss: 0.0966\n",
      "Epoch 6/70\n",
      "166/166 [==============================] - 19s 114ms/step - loss: 0.0971 - val_loss: 0.0955\n",
      "Epoch 7/70\n",
      "166/166 [==============================] - 19s 114ms/step - loss: 0.0907 - val_loss: 0.0916\n",
      "Epoch 8/70\n",
      "166/166 [==============================] - 19s 114ms/step - loss: 0.0898 - val_loss: 0.0867\n",
      "Epoch 9/70\n",
      "166/166 [==============================] - 19s 115ms/step - loss: 0.0880 - val_loss: 0.1054\n",
      "Epoch 10/70\n",
      "166/166 [==============================] - 20s 121ms/step - loss: 0.0898 - val_loss: 0.0852\n",
      "Epoch 11/70\n",
      "166/166 [==============================] - 22s 132ms/step - loss: 0.0821 - val_loss: 0.0811\n",
      "Epoch 12/70\n",
      "166/166 [==============================] - 21s 128ms/step - loss: 0.0778 - val_loss: 0.0853\n",
      "Epoch 13/70\n",
      "166/166 [==============================] - 22s 130ms/step - loss: 0.1355 - val_loss: 0.0970\n",
      "Epoch 14/70\n",
      "166/166 [==============================] - 21s 128ms/step - loss: 0.0829 - val_loss: 0.0788\n",
      "Epoch 15/70\n",
      "166/166 [==============================] - 21s 127ms/step - loss: 0.0756 - val_loss: 0.0782\n",
      "Epoch 16/70\n",
      "166/166 [==============================] - 21s 129ms/step - loss: 0.0820 - val_loss: 0.0840\n",
      "Epoch 17/70\n",
      "166/166 [==============================] - 21s 127ms/step - loss: 0.0857 - val_loss: 0.0807\n",
      "Epoch 18/70\n",
      "166/166 [==============================] - 21s 127ms/step - loss: 0.0745 - val_loss: 0.0798\n",
      "Epoch 19/70\n",
      "166/166 [==============================] - 21s 126ms/step - loss: 0.0777 - val_loss: 0.0767\n",
      "Epoch 20/70\n",
      "166/166 [==============================] - 21s 125ms/step - loss: 0.0728 - val_loss: 0.0736\n",
      "Epoch 21/70\n",
      "166/166 [==============================] - 21s 128ms/step - loss: 0.0703 - val_loss: 0.0735\n",
      "Epoch 22/70\n",
      "166/166 [==============================] - 21s 129ms/step - loss: 0.0687 - val_loss: 0.0759\n",
      "Epoch 23/70\n",
      "166/166 [==============================] - 21s 128ms/step - loss: 0.0718 - val_loss: 0.0738\n",
      "Epoch 24/70\n",
      "166/166 [==============================] - 21s 127ms/step - loss: 0.0824 - val_loss: 0.0749\n",
      "Epoch 25/70\n",
      "166/166 [==============================] - 21s 127ms/step - loss: 0.0688 - val_loss: 0.0745\n",
      "Epoch 26/70\n",
      "166/166 [==============================] - 21s 128ms/step - loss: 0.0681 - val_loss: 0.0757\n",
      "Epoch 27/70\n",
      "166/166 [==============================] - 21s 127ms/step - loss: 0.0715 - val_loss: 0.0744\n",
      "Epoch 28/70\n",
      "166/166 [==============================] - 21s 128ms/step - loss: 0.0712 - val_loss: 0.0824\n",
      "Epoch 29/70\n",
      "166/166 [==============================] - 21s 127ms/step - loss: 0.0708 - val_loss: 0.0707\n",
      "Epoch 30/70\n",
      "166/166 [==============================] - 21s 127ms/step - loss: 0.0655 - val_loss: 0.0722\n",
      "Epoch 31/70\n",
      "166/166 [==============================] - 21s 127ms/step - loss: 0.0665 - val_loss: 0.0809\n",
      "Epoch 32/70\n",
      "166/166 [==============================] - 21s 127ms/step - loss: 0.0715 - val_loss: 0.0722\n",
      "Epoch 33/70\n",
      "166/166 [==============================] - 21s 127ms/step - loss: 0.0656 - val_loss: 0.0717\n",
      "Epoch 34/70\n",
      "166/166 [==============================] - 21s 128ms/step - loss: 0.0642 - val_loss: 0.0701\n",
      "Epoch 35/70\n",
      "166/166 [==============================] - 21s 125ms/step - loss: 0.0639 - val_loss: 0.0709\n",
      "Epoch 36/70\n",
      "166/166 [==============================] - 21s 128ms/step - loss: 0.0644 - val_loss: 0.0716\n",
      "Epoch 37/70\n",
      "166/166 [==============================] - 21s 125ms/step - loss: 0.0705 - val_loss: 0.0714\n",
      "Epoch 38/70\n",
      "166/166 [==============================] - 19s 115ms/step - loss: 0.0643 - val_loss: 0.0689\n",
      "Epoch 39/70\n",
      "166/166 [==============================] - 19s 115ms/step - loss: 0.0613 - val_loss: 0.0716\n",
      "Epoch 40/70\n",
      "166/166 [==============================] - 19s 115ms/step - loss: 0.0644 - val_loss: 0.0790\n",
      "Epoch 41/70\n",
      "166/166 [==============================] - 19s 115ms/step - loss: 0.0683 - val_loss: 0.0687\n",
      "Epoch 42/70\n",
      "166/166 [==============================] - 19s 115ms/step - loss: 0.0615 - val_loss: 0.0686\n",
      "Epoch 43/70\n",
      "166/166 [==============================] - 19s 115ms/step - loss: 0.0614 - val_loss: 0.0686\n",
      "Epoch 44/70\n",
      "166/166 [==============================] - 19s 115ms/step - loss: 0.0611 - val_loss: 0.0710\n",
      "Epoch 45/70\n",
      "166/166 [==============================] - 19s 115ms/step - loss: 0.0893 - val_loss: 0.0701\n",
      "Epoch 46/70\n",
      "166/166 [==============================] - 19s 116ms/step - loss: 0.0626 - val_loss: 0.0672\n",
      "Epoch 47/70\n",
      "166/166 [==============================] - 19s 116ms/step - loss: 0.0589 - val_loss: 0.0705\n",
      "Epoch 48/70\n",
      "166/166 [==============================] - 19s 116ms/step - loss: 0.0611 - val_loss: 0.0737\n",
      "Epoch 49/70\n",
      "166/166 [==============================] - 19s 115ms/step - loss: 0.0638 - val_loss: 0.0673\n",
      "Epoch 50/70\n",
      "166/166 [==============================] - 19s 115ms/step - loss: 0.0595 - val_loss: 0.0676\n",
      "Epoch 51/70\n",
      "166/166 [==============================] - 19s 114ms/step - loss: 0.0593 - val_loss: 0.0725\n",
      "Epoch 52/70\n",
      "166/166 [==============================] - 19s 116ms/step - loss: 0.0800 - val_loss: 0.0726\n",
      "Epoch 53/70\n",
      "166/166 [==============================] - 19s 114ms/step - loss: 0.0628 - val_loss: 0.0673\n",
      "Epoch 54/70\n",
      "166/166 [==============================] - 19s 115ms/step - loss: 0.0587 - val_loss: 0.0678\n",
      "Epoch 55/70\n",
      "166/166 [==============================] - 19s 116ms/step - loss: 0.0797 - val_loss: 0.0742\n",
      "Epoch 56/70\n",
      "166/166 [==============================] - 19s 115ms/step - loss: 0.0624 - val_loss: 0.0677\n",
      "Epoch 57/70\n",
      "166/166 [==============================] - 19s 115ms/step - loss: 0.0590 - val_loss: 0.0675\n",
      "Epoch 58/70\n",
      "166/166 [==============================] - 19s 115ms/step - loss: 0.0582 - val_loss: 0.0666\n",
      "Epoch 59/70\n",
      "166/166 [==============================] - 19s 115ms/step - loss: 0.0655 - val_loss: 0.0869\n",
      "Epoch 60/70\n",
      "166/166 [==============================] - 20s 120ms/step - loss: 0.0660 - val_loss: 0.0678\n",
      "Epoch 61/70\n",
      "166/166 [==============================] - 21s 125ms/step - loss: 0.0583 - val_loss: 0.0667\n",
      "Epoch 62/70\n",
      "166/166 [==============================] - 20s 122ms/step - loss: 0.0574 - val_loss: 0.0712\n",
      "Epoch 63/70\n",
      "166/166 [==============================] - 21s 127ms/step - loss: 0.0583 - val_loss: 0.0689\n",
      "Epoch 64/70\n",
      "166/166 [==============================] - 19s 116ms/step - loss: 0.0591 - val_loss: 0.0691\n",
      "Epoch 65/70\n",
      "166/166 [==============================] - 19s 115ms/step - loss: 0.0601 - val_loss: 0.0758\n",
      "Epoch 66/70\n",
      "166/166 [==============================] - 19s 115ms/step - loss: 0.0616 - val_loss: 0.0673\n",
      "Epoch 67/70\n",
      "166/166 [==============================] - 19s 115ms/step - loss: 0.0566 - val_loss: 0.0669\n",
      "Epoch 68/70\n",
      "166/166 [==============================] - 19s 115ms/step - loss: 0.0592 - val_loss: 0.0672\n",
      "Epoch 69/70\n",
      "166/166 [==============================] - 19s 115ms/step - loss: 0.0575 - val_loss: 0.0663\n",
      "Epoch 70/70\n",
      "166/166 [==============================] - 19s 115ms/step - loss: 0.0577 - val_loss: 0.0658\n"
     ]
    }
   ],
   "source": [
    "hist = autoencoder.fit(X_train, X_train,epochs=70,validation_data=(X_test, X_test))\n",
    "\n",
    "# save losses\n",
    "train_loss += hist.history[\"loss\"]\n",
    "test_loss  += hist.history[\"val_loss\"]"
   ]
  },
  {
   "cell_type": "code",
   "execution_count": 39,
   "id": "ed156905",
   "metadata": {},
   "outputs": [
    {
     "data": {
      "image/png": "[encoded data removed]",
      "text/plain": [
       "<Figure size 432x288 with 1 Axes>"
      ]
     },
     "metadata": {},
     "output_type": "display_data"
    }
   ],
   "source": [
    "plt.plot(train_loss,label=\"train\")\n",
    "plt.plot(test_loss,label=\"test\")\n",
    "plt.xlabel(\"epoch\")\n",
    "plt.ylabel(\"MSE\")\n",
    "plt.legend()\n",
    "plt.show()"
   ]
  },
  {
   "cell_type": "markdown",
   "id": "8f8bdfef",
   "metadata": {},
   "source": [
    "# Saving \n",
    "We save the trained model and the recorded losses"
   ]
  },
  {
   "cell_type": "code",
   "execution_count": 40,
   "id": "63e8ed6e",
   "metadata": {},
   "outputs": [],
   "source": [
    "autoencoder.save(cfg[\"models\"][\"autoencoder\"] + f\"{model_name}\")\n",
    "np.save(file = cfg[\"models\"][\"autoencoder\"]+ f\"{model_name}_train_loss\", arr = np.array(train_loss))\n",
    "np.save(file = cfg[\"models\"][\"autoencoder\"]+ f\"{model_name}_test_loss\", arr = np.array(test_loss))"
   ]
  }
 ],
 "metadata": {
  "kernelspec": {
   "display_name": "Python 3 (ipykernel)",
   "language": "python",
   "name": "python3"
  },
  "language_info": {
   "codemirror_mode": {
    "name": "ipython",
    "version": 3
   },
   "file_extension": ".py",
   "mimetype": "text/x-python",
   "name": "python",
   "nbconvert_exporter": "python",
   "pygments_lexer": "ipython3",
   "version": "3.7.7"
  }
 },
 "nbformat": 4,
 "nbformat_minor": 5
}
