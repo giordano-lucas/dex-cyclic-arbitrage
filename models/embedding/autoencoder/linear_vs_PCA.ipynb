{
 "cells": [
  {
   "cell_type": "code",
   "execution_count": 6,
   "id": "99ecfcca",
   "metadata": {},
   "outputs": [
    {
     "name": "stderr",
     "output_type": "stream",
     "text": [
      "2022-01-05 13:44:32.698393: W tensorflow/stream_executor/platform/default/dso_loader.cc:64] Could not load dynamic library 'libcudart.so.11.0'; dlerror: libcudart.so.11.0: cannot open shared object file: No such file or directory\n",
      "2022-01-05 13:44:32.698441: I tensorflow/stream_executor/cuda/cudart_stub.cc:29] Ignore above cudart dlerror if you do not have a GPU set up on your machine.\n"
     ]
    }
   ],
   "source": [
    "import numpy as np\n",
    "import pandas as pd\n",
    "import matplotlib.pyplot as plt\n",
    "import plotly.express as px\n",
    "from plotly.subplots import make_subplots\n",
    "import plotly.graph_objects as go\n",
    "%load_ext autoreload\n",
    "%autoreload 2\n",
    "plt.style.use('ggplot')\n",
    "import sys \n",
    "sys.path.append(\"/scratch/izar/kapps/DEX-Cyclic-Arbitrage/\")\n",
    "from config.get import cfg\n",
    "# from tensorflow import keras\n",
    "# from tensorflow.keras import layers\n",
    "import autoencoders"
   ]
  },
  {
   "cell_type": "markdown",
   "id": "b708da99",
   "metadata": {},
   "source": [
    "# Loading the data"
   ]
  },
  {
   "cell_type": "code",
   "execution_count": 7,
   "id": "255d2a13",
   "metadata": {},
   "outputs": [
    {
     "name": "stdout",
     "output_type": "stream",
     "text": [
      "shapes : X_train=(2698, 3, 600, 2),X_test=(675, 3, 600, 2)\n"
     ]
    }
   ],
   "source": [
    "X_train = np.load(cfg['files'][\"raw_train_features\"])\n",
    "X_test  = np.load(cfg['files'][\"raw_test_features\"])\n",
    "print(f\"shapes : X_train={X_train.shape},X_test={X_test.shape}\")"
   ]
  },
  {
   "cell_type": "markdown",
   "id": "cbb42fbb",
   "metadata": {},
   "source": [
    "# Loading the model"
   ]
  },
  {
   "cell_type": "code",
   "execution_count": 3,
   "id": "e930d0db",
   "metadata": {},
   "outputs": [
    {
     "name": "stderr",
     "output_type": "stream",
     "text": [
      "2022-01-05 12:39:58.100549: E tensorflow/stream_executor/cuda/cuda_driver.cc:271] failed call to cuInit: CUDA_ERROR_NO_DEVICE: no CUDA-capable device is detected\n",
      "2022-01-05 12:39:58.100628: I tensorflow/stream_executor/cuda/cuda_diagnostics.cc:156] kernel driver does not appear to be running on this host (izar): /proc/driver/nvidia/version does not exist\n",
      "2022-01-05 12:39:58.102236: I tensorflow/core/platform/cpu_feature_guard.cc:151] This TensorFlow binary is optimized with oneAPI Deep Neural Network Library (oneDNN) to use the following CPU instructions in performance-critical operations:  AVX2 AVX512F FMA\n",
      "To enable them in other operations, rebuild TensorFlow with the appropriate compiler flags.\n"
     ]
    },
    {
     "name": "stdout",
     "output_type": "stream",
     "text": [
      "Model: \"model\"\n",
      "_________________________________________________________________\n",
      " Layer (type)                Output Shape              Param #   \n",
      "=================================================================\n",
      " input_1 (InputLayer)        [(None, 3, 600, 2)]       0         \n",
      "                                                                 \n",
      " reshape (Reshape)           (None, 3600)              0         \n",
      "                                                                 \n",
      " dense (Dense)               (None, 100)               360100    \n",
      "                                                                 \n",
      " dense_1 (Dense)             (None, 3600)              363600    \n",
      "                                                                 \n",
      " reshape_1 (Reshape)         (None, 3, 600, 2)         0         \n",
      "                                                                 \n",
      "=================================================================\n",
      "Total params: 723,700\n",
      "Trainable params: 723,700\n",
      "Non-trainable params: 0\n",
      "_________________________________________________________________\n"
     ]
    }
   ],
   "source": [
    "model_name , autoencoder = autoencoders.linear_simple()\n",
    "autoencoder.summary()"
   ]
  },
  {
   "cell_type": "markdown",
   "id": "d2590b60",
   "metadata": {},
   "source": [
    "# Training "
   ]
  },
  {
   "cell_type": "code",
   "execution_count": 4,
   "id": "1531134d",
   "metadata": {
    "scrolled": true
   },
   "outputs": [
    {
     "name": "stdout",
     "output_type": "stream",
     "text": [
      "Epoch 1/100\n",
      "85/85 [==============================] - 13s 75ms/step - loss: 0.4552\n",
      "Epoch 2/100\n",
      "85/85 [==============================] - 7s 79ms/step - loss: 0.2175\n",
      "Epoch 3/100\n",
      "85/85 [==============================] - 7s 79ms/step - loss: 0.1728\n",
      "Epoch 4/100\n",
      "85/85 [==============================] - 6s 69ms/step - loss: 0.1495\n",
      "Epoch 5/100\n",
      "85/85 [==============================] - 6s 74ms/step - loss: 0.1348\n",
      "Epoch 6/100\n",
      "85/85 [==============================] - 6s 74ms/step - loss: 0.1281\n",
      "Epoch 7/100\n",
      "85/85 [==============================] - 7s 77ms/step - loss: 0.1208\n",
      "Epoch 8/100\n",
      "85/85 [==============================] - 7s 77ms/step - loss: 0.1173\n",
      "Epoch 9/100\n",
      "85/85 [==============================] - 6s 71ms/step - loss: 0.1162\n",
      "Epoch 10/100\n",
      "85/85 [==============================] - 6s 73ms/step - loss: 0.1138\n",
      "Epoch 11/100\n",
      "85/85 [==============================] - 6s 75ms/step - loss: 0.1197\n",
      "Epoch 12/100\n",
      "85/85 [==============================] - 6s 72ms/step - loss: 0.1127\n",
      "Epoch 13/100\n",
      "85/85 [==============================] - 6s 74ms/step - loss: 0.1144\n",
      "Epoch 14/100\n",
      "85/85 [==============================] - 7s 79ms/step - loss: 0.1139\n",
      "Epoch 15/100\n",
      "85/85 [==============================] - 6s 72ms/step - loss: 0.1091\n",
      "Epoch 16/100\n",
      "85/85 [==============================] - 6s 75ms/step - loss: 0.1109\n",
      "Epoch 17/100\n",
      "85/85 [==============================] - 6s 71ms/step - loss: 0.1097\n",
      "Epoch 18/100\n",
      "85/85 [==============================] - 7s 79ms/step - loss: 0.1149\n",
      "Epoch 19/100\n",
      "85/85 [==============================] - 6s 76ms/step - loss: 0.1097\n",
      "Epoch 20/100\n",
      "85/85 [==============================] - 7s 79ms/step - loss: 0.1098\n",
      "Epoch 21/100\n",
      "85/85 [==============================] - 7s 77ms/step - loss: 0.1090\n",
      "Epoch 22/100\n",
      "85/85 [==============================] - 6s 73ms/step - loss: 0.1115\n",
      "Epoch 23/100\n",
      "85/85 [==============================] - 6s 75ms/step - loss: 0.1108\n",
      "Epoch 24/100\n",
      "85/85 [==============================] - 6s 74ms/step - loss: 0.1078\n",
      "Epoch 25/100\n",
      "85/85 [==============================] - 6s 73ms/step - loss: 0.1106\n",
      "Epoch 26/100\n",
      "85/85 [==============================] - 6s 75ms/step - loss: 0.1101\n",
      "Epoch 27/100\n",
      "85/85 [==============================] - 6s 75ms/step - loss: 0.1102\n",
      "Epoch 28/100\n",
      "85/85 [==============================] - 7s 76ms/step - loss: 0.1106\n",
      "Epoch 29/100\n",
      "85/85 [==============================] - 6s 75ms/step - loss: 0.1083\n",
      "Epoch 30/100\n",
      "85/85 [==============================] - 6s 74ms/step - loss: 0.1076\n",
      "Epoch 31/100\n",
      "85/85 [==============================] - 6s 76ms/step - loss: 0.1098\n",
      "Epoch 32/100\n",
      "85/85 [==============================] - 7s 79ms/step - loss: 0.1093\n",
      "Epoch 33/100\n",
      "85/85 [==============================] - 7s 78ms/step - loss: 0.1087\n",
      "Epoch 34/100\n",
      "85/85 [==============================] - 6s 70ms/step - loss: 0.1086\n",
      "Epoch 35/100\n",
      "85/85 [==============================] - 7s 80ms/step - loss: 0.1097\n",
      "Epoch 36/100\n",
      "85/85 [==============================] - 6s 71ms/step - loss: 0.1099\n",
      "Epoch 37/100\n",
      "85/85 [==============================] - 6s 73ms/step - loss: 0.1118\n",
      "Epoch 38/100\n",
      "85/85 [==============================] - 6s 75ms/step - loss: 0.1098\n",
      "Epoch 39/100\n",
      "85/85 [==============================] - 6s 74ms/step - loss: 0.1092\n",
      "Epoch 40/100\n",
      "85/85 [==============================] - 6s 76ms/step - loss: 0.1099\n",
      "Epoch 41/100\n",
      "85/85 [==============================] - 6s 71ms/step - loss: 0.1086\n",
      "Epoch 42/100\n",
      "85/85 [==============================] - 6s 70ms/step - loss: 0.1090\n",
      "Epoch 43/100\n",
      "85/85 [==============================] - 6s 70ms/step - loss: 0.1069\n",
      "Epoch 44/100\n",
      "85/85 [==============================] - 6s 76ms/step - loss: 0.1106\n",
      "Epoch 45/100\n",
      "85/85 [==============================] - 6s 75ms/step - loss: 0.1087\n",
      "Epoch 46/100\n",
      "85/85 [==============================] - 6s 68ms/step - loss: 0.1123\n",
      "Epoch 47/100\n",
      "85/85 [==============================] - 7s 77ms/step - loss: 0.1107\n",
      "Epoch 48/100\n",
      "85/85 [==============================] - 6s 75ms/step - loss: 0.1088\n",
      "Epoch 49/100\n",
      "85/85 [==============================] - 7s 79ms/step - loss: 0.1096\n",
      "Epoch 50/100\n",
      "85/85 [==============================] - 6s 75ms/step - loss: 0.1090\n",
      "Epoch 51/100\n",
      "85/85 [==============================] - 7s 80ms/step - loss: 0.1096\n",
      "Epoch 52/100\n",
      "85/85 [==============================] - 7s 80ms/step - loss: 0.1083\n",
      "Epoch 53/100\n",
      "85/85 [==============================] - 6s 75ms/step - loss: 0.1126\n",
      "Epoch 54/100\n",
      "85/85 [==============================] - 7s 77ms/step - loss: 0.1137\n",
      "Epoch 55/100\n",
      "85/85 [==============================] - 6s 76ms/step - loss: 0.1077\n",
      "Epoch 56/100\n",
      "85/85 [==============================] - 6s 71ms/step - loss: 0.1108\n",
      "Epoch 57/100\n",
      "85/85 [==============================] - 6s 75ms/step - loss: 0.1143\n",
      "Epoch 58/100\n",
      "85/85 [==============================] - 6s 71ms/step - loss: 0.1089\n",
      "Epoch 59/100\n",
      "85/85 [==============================] - 6s 76ms/step - loss: 0.1099\n",
      "Epoch 60/100\n",
      "85/85 [==============================] - 7s 79ms/step - loss: 0.1082\n",
      "Epoch 61/100\n",
      "85/85 [==============================] - 6s 75ms/step - loss: 0.1103\n",
      "Epoch 62/100\n",
      "85/85 [==============================] - 7s 76ms/step - loss: 0.1071\n",
      "Epoch 63/100\n",
      "85/85 [==============================] - 6s 76ms/step - loss: 0.1097\n",
      "Epoch 64/100\n",
      "85/85 [==============================] - 6s 71ms/step - loss: 0.1099\n",
      "Epoch 65/100\n",
      "85/85 [==============================] - 6s 74ms/step - loss: 0.1090\n",
      "Epoch 66/100\n",
      "85/85 [==============================] - 6s 75ms/step - loss: 0.1092\n",
      "Epoch 67/100\n",
      "85/85 [==============================] - 6s 70ms/step - loss: 0.1116\n",
      "Epoch 68/100\n",
      "85/85 [==============================] - 6s 73ms/step - loss: 0.1097\n",
      "Epoch 69/100\n",
      "85/85 [==============================] - 6s 74ms/step - loss: 0.1061\n",
      "Epoch 70/100\n",
      "85/85 [==============================] - 6s 72ms/step - loss: 0.1071\n",
      "Epoch 71/100\n",
      "85/85 [==============================] - 6s 73ms/step - loss: 0.1075\n",
      "Epoch 72/100\n",
      "85/85 [==============================] - 6s 74ms/step - loss: 0.1086\n",
      "Epoch 73/100\n",
      "85/85 [==============================] - 6s 74ms/step - loss: 0.1104\n",
      "Epoch 74/100\n",
      "85/85 [==============================] - 6s 74ms/step - loss: 0.1106\n",
      "Epoch 75/100\n",
      "85/85 [==============================] - 6s 76ms/step - loss: 0.1066\n",
      "Epoch 76/100\n",
      "85/85 [==============================] - 6s 70ms/step - loss: 0.1133\n",
      "Epoch 77/100\n",
      "85/85 [==============================] - 6s 75ms/step - loss: 0.1102\n",
      "Epoch 78/100\n",
      "85/85 [==============================] - 6s 74ms/step - loss: 0.1106\n",
      "Epoch 79/100\n",
      "85/85 [==============================] - 6s 76ms/step - loss: 0.1086\n",
      "Epoch 80/100\n",
      "85/85 [==============================] - 6s 76ms/step - loss: 0.1086\n",
      "Epoch 81/100\n",
      "85/85 [==============================] - 6s 75ms/step - loss: 0.1074\n",
      "Epoch 82/100\n",
      "85/85 [==============================] - 6s 74ms/step - loss: 0.1113\n",
      "Epoch 83/100\n",
      "85/85 [==============================] - 6s 73ms/step - loss: 0.1106\n",
      "Epoch 84/100\n",
      "85/85 [==============================] - 6s 75ms/step - loss: 0.1081\n",
      "Epoch 85/100\n",
      "85/85 [==============================] - 6s 74ms/step - loss: 0.1103\n",
      "Epoch 86/100\n",
      "85/85 [==============================] - 6s 74ms/step - loss: 0.1100\n",
      "Epoch 87/100\n",
      "85/85 [==============================] - 6s 73ms/step - loss: 0.1101\n",
      "Epoch 88/100\n",
      "85/85 [==============================] - 6s 74ms/step - loss: 0.1080\n",
      "Epoch 89/100\n",
      "85/85 [==============================] - 6s 75ms/step - loss: 0.1094\n",
      "Epoch 90/100\n",
      "85/85 [==============================] - 6s 71ms/step - loss: 0.1083\n",
      "Epoch 91/100\n",
      "85/85 [==============================] - 6s 75ms/step - loss: 0.1082\n",
      "Epoch 92/100\n",
      "85/85 [==============================] - 6s 74ms/step - loss: 0.1074\n",
      "Epoch 93/100\n",
      "85/85 [==============================] - 7s 79ms/step - loss: 0.1083\n",
      "Epoch 94/100\n",
      "85/85 [==============================] - 6s 77ms/step - loss: 0.1081\n",
      "Epoch 95/100\n",
      "85/85 [==============================] - 6s 75ms/step - loss: 0.1090\n",
      "Epoch 96/100\n",
      "85/85 [==============================] - 6s 75ms/step - loss: 0.1082\n",
      "Epoch 97/100\n",
      "85/85 [==============================] - 7s 79ms/step - loss: 0.1080\n",
      "Epoch 98/100\n",
      "85/85 [==============================] - 7s 79ms/step - loss: 0.1085\n",
      "Epoch 99/100\n",
      "85/85 [==============================] - 6s 70ms/step - loss: 0.1080\n",
      "Epoch 100/100\n",
      "85/85 [==============================] - 6s 74ms/step - loss: 0.1075\n"
     ]
    }
   ],
   "source": [
    "hist = autoencoder.fit(X_train, X_train,epochs=100)"
   ]
  },
  {
   "cell_type": "code",
   "execution_count": 5,
   "id": "6df91287",
   "metadata": {},
   "outputs": [
    {
     "data": {
      "image/png": "[encoded data removed]",
      "text/plain": [
       "<Figure size 432x288 with 1 Axes>"
      ]
     },
     "metadata": {},
     "output_type": "display_data"
    }
   ],
   "source": [
    "plt.plot(hist.history[\"loss\"])\n",
    "plt.show()"
   ]
  },
  {
   "cell_type": "markdown",
   "id": "473ba3d1",
   "metadata": {},
   "source": [
    "# Testing"
   ]
  },
  {
   "cell_type": "code",
   "execution_count": 12,
   "id": "4253e2f2",
   "metadata": {},
   "outputs": [],
   "source": [
    "def mean_squared_error(x,y):\n",
    "    return np.sum((x-y)**2)/x.size"
   ]
  },
  {
   "cell_type": "code",
   "execution_count": 6,
   "id": "44c23904",
   "metadata": {},
   "outputs": [
    {
     "name": "stdout",
     "output_type": "stream",
     "text": [
      "MSE train : 0.10556992541704721 \n",
      "MSE test  : 0.11754054001508757\n"
     ]
    }
   ],
   "source": [
    "train_pred = autoencoder(X_train).numpy()\n",
    "test_pred  = autoencoder(X_test).numpy()\n",
    "\n",
    "print(f\"MSE train : {mean_squared_error(train_pred,X_train)} \\nMSE test  : {mean_squared_error(test_pred,X_test)}\")"
   ]
  },
  {
   "cell_type": "markdown",
   "id": "46cf6b60",
   "metadata": {},
   "source": [
    "# Comparison with PCA\n"
   ]
  },
  {
   "cell_type": "code",
   "execution_count": 8,
   "id": "9589a0c1",
   "metadata": {},
   "outputs": [],
   "source": [
    "N_train = len(X_train)\n",
    "N_test  = len(X_test)\n",
    "tX_train = X_train.reshape(N_train,-1)\n",
    "tX_test = X_test.reshape(N_test,-1)"
   ]
  },
  {
   "cell_type": "code",
   "execution_count": 13,
   "id": "32b4de0c",
   "metadata": {},
   "outputs": [],
   "source": [
    "from sklearn import decomposition\n",
    "def eval_PCA(n_components=100):\n",
    "    pca = decomposition.PCA(n_components=n_components)\n",
    "    pca.fit(tX_train)\n",
    "    pca_train = mean_squared_error(tX_train, pca.inverse_transform(pca.transform(tX_train)))\n",
    "    pca_test =  mean_squared_error(tX_test, pca.inverse_transform(pca.transform(tX_test))) \n",
    "    return pca_train,pca_test"
   ]
  },
  {
   "cell_type": "code",
   "execution_count": 19,
   "id": "a8dd110d",
   "metadata": {},
   "outputs": [
    {
     "name": "stdout",
     "output_type": "stream",
     "text": [
      "MSE train : 0.09561804790068397 \n",
      "MSE test  : 0.10705392637737407\n"
     ]
    }
   ],
   "source": [
    "pca_train,pca_test = eval_PCA()\n",
    "print(f\"MSE train : {pca_train} \\nMSE test  : {pca_test}\")"
   ]
  },
  {
   "cell_type": "markdown",
   "id": "ba3c96ef",
   "metadata": {},
   "source": [
    "## effect of dimension"
   ]
  },
  {
   "cell_type": "code",
   "execution_count": null,
   "id": "ce2aa167",
   "metadata": {},
   "outputs": [
    {
     "name": "stdout",
     "output_type": "stream",
     "text": [
      "657\r"
     ]
    }
   ],
   "source": [
    "train_errors = []\n",
    "test_errors  = []\n",
    "d_max = min(tX_train.shape)\n",
    "dimensions = np.logspace(np.log10(5), np.log10(d_max), num=50).astype(int)\n",
    "for d in dimensions:\n",
    "    pca_train,pca_test = eval_PCA(n_components=d)\n",
    "    train_errors.append(pca_train)\n",
    "    test_errors.append(pca_test)\n",
    "    print(d,end=\"\\r\")"
   ]
  },
  {
   "cell_type": "code",
   "execution_count": null,
   "id": "26456902",
   "metadata": {},
   "outputs": [],
   "source": [
    "plt.scatter(x=dimensions,y=test_errors,label=\"test\")\n",
    "plt.scatter(x=dimensions,y=train_errors,label=\"train\")\n",
    "plt.xlabel(\"dimension\")\n",
    "plt.ylabel(\"error\")\n",
    "plt.legend()\n",
    "plt.title(\"effect of dimension reduction on reconstruction errors\")\n",
    "plt.show()"
   ]
  },
  {
   "cell_type": "code",
   "execution_count": 30,
   "id": "61ad298e",
   "metadata": {},
   "outputs": [
    {
     "data": {
      "text/plain": [
       "[<matplotlib.lines.Line2D at 0x2aafabc27150>]"
      ]
     },
     "execution_count": 30,
     "metadata": {},
     "output_type": "execute_result"
    },
    {
     "data": {
      "image/png": "[encoded data removed]",
      "text/plain": [
       "<Figure size 432x288 with 1 Axes>"
      ]
     },
     "metadata": {},
     "output_type": "display_data"
    }
   ],
   "source": [
    "plt.plot(test_errors)"
   ]
  },
  {
   "cell_type": "code",
   "execution_count": null,
   "id": "b0cfe243",
   "metadata": {},
   "outputs": [],
   "source": []
  }
 ],
 "metadata": {
  "kernelspec": {
   "display_name": "Python 3 (ipykernel)",
   "language": "python",
   "name": "python3"
  },
  "language_info": {
   "codemirror_mode": {
    "name": "ipython",
    "version": 3
   },
   "file_extension": ".py",
   "mimetype": "text/x-python",
   "name": "python",
   "nbconvert_exporter": "python",
   "pygments_lexer": "ipython3",
   "version": "3.7.7"
  }
 },
 "nbformat": 4,
 "nbformat_minor": 5
}
