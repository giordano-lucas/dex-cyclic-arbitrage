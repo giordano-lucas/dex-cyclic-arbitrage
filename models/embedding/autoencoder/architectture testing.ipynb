{
 "cells": [
  {
   "cell_type": "code",
   "execution_count": 88,
   "id": "316e97b7",
   "metadata": {},
   "outputs": [
    {
     "name": "stdout",
     "output_type": "stream",
     "text": [
      "The autoreload extension is already loaded. To reload it, use:\n",
      "  %reload_ext autoreload\n"
     ]
    }
   ],
   "source": [
    "import numpy as np\n",
    "import pandas as pd\n",
    "import matplotlib.pyplot as plt\n",
    "import plotly.express as px\n",
    "from plotly.subplots import make_subplots\n",
    "import plotly.graph_objects as go\n",
    "%load_ext autoreload\n",
    "%autoreload 2\n",
    "plt.style.use('ggplot')\n",
    "import sys \n",
    "import os\n",
    "sys.path.append('/'.join(os.getcwd().split('/')[:4]))\n",
    "from config.get import cfg\n",
    "from tensorflow import keras\n",
    "from tensorflow.keras import layers\n",
    "import autoencoders"
   ]
  },
  {
   "cell_type": "markdown",
   "id": "240338a1",
   "metadata": {},
   "source": [
    "# Loaidng data"
   ]
  },
  {
   "cell_type": "code",
   "execution_count": 89,
   "id": "d57fb1e3",
   "metadata": {},
   "outputs": [
    {
     "name": "stdout",
     "output_type": "stream",
     "text": [
      "shapes : X_train=(5354, 3, 600, 2),X_test=(1340, 3, 600, 2)\n"
     ]
    }
   ],
   "source": [
    "X_train = np.load(cfg['files'][\"raw_train_features\"])\n",
    "X_test  = np.load(cfg['files'][\"raw_test_features\"])\n",
    "print(f\"shapes : X_train={X_train.shape},X_test={X_test.shape}\")"
   ]
  },
  {
   "cell_type": "markdown",
   "id": "5b48d7f9",
   "metadata": {},
   "source": [
    "# Loading model"
   ]
  },
  {
   "cell_type": "code",
   "execution_count": 98,
   "id": "b09a76d5",
   "metadata": {
    "scrolled": true
   },
   "outputs": [
    {
     "name": "stdout",
     "output_type": "stream",
     "text": [
      "Model: \"model_19\"\n",
      "_________________________________________________________________\n",
      " Layer (type)                Output Shape              Param #   \n",
      "=================================================================\n",
      " input_20 (InputLayer)       [(None, 3, 600, 2)]       0         \n",
      "                                                                 \n",
      " reshape_36 (Reshape)        (None, 3600)              0         \n",
      "                                                                 \n",
      " dense_64 (Dense)            (None, 100)               360100    \n",
      "                                                                 \n",
      " dense_65 (Dense)            (None, 100)               10100     \n",
      "                                                                 \n",
      " dense_66 (Dense)            (None, 100)               10100     \n",
      "                                                                 \n",
      " dense_67 (Dense)            (None, 3600)              363600    \n",
      "                                                                 \n",
      " reshape_37 (Reshape)        (None, 3, 600, 2)         0         \n",
      "                                                                 \n",
      "=================================================================\n",
      "Total params: 743,900\n",
      "Trainable params: 743,900\n",
      "Non-trainable params: 0\n",
      "_________________________________________________________________\n"
     ]
    }
   ],
   "source": [
    "def linear():\n",
    "    model_name = \"linear\"\n",
    "    in_shape = (3,600, 2) \n",
    "    # build encoder\n",
    "    input_layer = keras.Input(shape=in_shape)\n",
    "    x = layers.Reshape([in_shape[0]*in_shape[1]*in_shape[2]])(input_layer)\n",
    "    x = layers.Dense(100,  activation='elu')(x)\n",
    "    x = layers.Dense(100,  activation='linear')(x)\n",
    "    x = layers.Dense(100,  activation='elu')(x)\n",
    "    x = layers.Dense(in_shape[0]*in_shape[1]*in_shape[2],  activation='linear')(x)\n",
    "    output_layer =layers.Reshape(in_shape)(x)\n",
    "    \n",
    "    \n",
    "    # combine encoder and decoder\n",
    "    autoencoder = keras.Model(input_layer, output_layer)\n",
    "    autoencoder.compile(optimizer='adam', loss='mean_squared_error',)\n",
    "    return model_name ,autoencoder\n",
    "\n",
    "model_name,autoencoder = linear()\n",
    "autoencoder.summary()\n",
    "train_loss = []\n",
    "test_loss = []"
   ]
  },
  {
   "cell_type": "code",
   "execution_count": 99,
   "id": "c23e9cca",
   "metadata": {},
   "outputs": [
    {
     "name": "stdout",
     "output_type": "stream",
     "text": [
      "Epoch 1/50\n",
      "168/168 [==============================] - 5s 28ms/step - loss: 0.3573 - val_loss: 0.5516\n",
      "Epoch 2/50\n",
      "168/168 [==============================] - 4s 26ms/step - loss: 0.1829 - val_loss: 0.4901\n",
      "Epoch 3/50\n",
      "168/168 [==============================] - 4s 26ms/step - loss: 0.1519 - val_loss: 0.4605\n",
      "Epoch 4/50\n",
      "168/168 [==============================] - 4s 25ms/step - loss: 0.1381 - val_loss: 0.4468\n",
      "Epoch 5/50\n",
      "168/168 [==============================] - 4s 25ms/step - loss: 0.1306 - val_loss: 0.4259\n",
      "Epoch 6/50\n",
      "168/168 [==============================] - 4s 25ms/step - loss: 0.1237 - val_loss: 0.4199\n",
      "Epoch 7/50\n",
      "168/168 [==============================] - 4s 26ms/step - loss: 0.1196 - val_loss: 0.4100\n",
      "Epoch 8/50\n",
      "168/168 [==============================] - 4s 25ms/step - loss: 0.1164 - val_loss: 0.4051\n",
      "Epoch 9/50\n",
      "168/168 [==============================] - 4s 25ms/step - loss: 0.1148 - val_loss: 0.4003\n",
      "Epoch 10/50\n",
      "168/168 [==============================] - 4s 25ms/step - loss: 0.1144 - val_loss: 0.3904\n",
      "Epoch 11/50\n",
      "168/168 [==============================] - 4s 24ms/step - loss: 0.1126 - val_loss: 0.3857\n",
      "Epoch 12/50\n",
      "168/168 [==============================] - 5s 28ms/step - loss: 0.1119 - val_loss: 0.3848\n",
      "Epoch 13/50\n",
      "168/168 [==============================] - 5s 29ms/step - loss: 0.1106 - val_loss: 0.3817\n",
      "Epoch 14/50\n",
      "168/168 [==============================] - 4s 26ms/step - loss: 0.1096 - val_loss: 0.3793\n",
      "Epoch 15/50\n",
      "168/168 [==============================] - 5s 28ms/step - loss: 0.1098 - val_loss: 0.3770\n",
      "Epoch 16/50\n",
      "168/168 [==============================] - 5s 31ms/step - loss: 0.1100 - val_loss: 0.3755\n",
      "Epoch 17/50\n",
      "168/168 [==============================] - 4s 26ms/step - loss: 0.1087 - val_loss: 0.3726\n",
      "Epoch 18/50\n",
      "168/168 [==============================] - 4s 24ms/step - loss: 0.1079 - val_loss: 0.3747\n",
      "Epoch 19/50\n",
      "168/168 [==============================] - 4s 25ms/step - loss: 0.1087 - val_loss: 0.3686\n",
      "Epoch 20/50\n",
      "168/168 [==============================] - 4s 25ms/step - loss: 0.1077 - val_loss: 0.3700\n",
      "Epoch 21/50\n",
      "168/168 [==============================] - 4s 25ms/step - loss: 0.1080 - val_loss: 0.3668\n",
      "Epoch 22/50\n",
      "168/168 [==============================] - 4s 25ms/step - loss: 0.1083 - val_loss: 0.3642\n",
      "Epoch 23/50\n",
      "168/168 [==============================] - 4s 26ms/step - loss: 0.1064 - val_loss: 0.3617\n",
      "Epoch 24/50\n",
      "168/168 [==============================] - 5s 27ms/step - loss: 0.1065 - val_loss: 0.3650\n",
      "Epoch 25/50\n",
      "168/168 [==============================] - 4s 26ms/step - loss: 0.1066 - val_loss: 0.3639\n",
      "Epoch 26/50\n",
      "168/168 [==============================] - 4s 26ms/step - loss: 0.1070 - val_loss: 0.3588\n",
      "Epoch 27/50\n",
      "168/168 [==============================] - 4s 26ms/step - loss: 0.1061 - val_loss: 0.3623\n",
      "Epoch 28/50\n",
      "168/168 [==============================] - 4s 26ms/step - loss: 0.1078 - val_loss: 0.3604\n",
      "Epoch 29/50\n",
      "168/168 [==============================] - 4s 25ms/step - loss: 0.1058 - val_loss: 0.3600\n",
      "Epoch 30/50\n",
      "168/168 [==============================] - 4s 26ms/step - loss: 0.1049 - val_loss: 0.3577\n",
      "Epoch 31/50\n",
      "168/168 [==============================] - 4s 26ms/step - loss: 0.1052 - val_loss: 0.3621\n",
      "Epoch 32/50\n",
      "168/168 [==============================] - 4s 26ms/step - loss: 0.1053 - val_loss: 0.3628\n",
      "Epoch 33/50\n",
      "168/168 [==============================] - 4s 25ms/step - loss: 0.1064 - val_loss: 0.3549\n",
      "Epoch 34/50\n",
      "168/168 [==============================] - 4s 25ms/step - loss: 0.1046 - val_loss: 0.3607\n",
      "Epoch 35/50\n",
      "168/168 [==============================] - 4s 26ms/step - loss: 0.1042 - val_loss: 0.3546\n",
      "Epoch 36/50\n",
      "168/168 [==============================] - 4s 25ms/step - loss: 0.1051 - val_loss: 0.3604\n",
      "Epoch 37/50\n",
      "168/168 [==============================] - 4s 25ms/step - loss: 0.1056 - val_loss: 0.3558\n",
      "Epoch 38/50\n",
      "168/168 [==============================] - 4s 25ms/step - loss: 0.1054 - val_loss: 0.3558\n",
      "Epoch 39/50\n",
      "168/168 [==============================] - 5s 27ms/step - loss: 0.1048 - val_loss: 0.3555\n",
      "Epoch 40/50\n",
      "168/168 [==============================] - 4s 26ms/step - loss: 0.1051 - val_loss: 0.3574\n",
      "Epoch 41/50\n",
      "168/168 [==============================] - 4s 27ms/step - loss: 0.1042 - val_loss: 0.3541\n",
      "Epoch 42/50\n",
      "168/168 [==============================] - 4s 25ms/step - loss: 0.1037 - val_loss: 0.3568\n",
      "Epoch 43/50\n",
      "168/168 [==============================] - 4s 26ms/step - loss: 0.1048 - val_loss: 0.3514\n",
      "Epoch 44/50\n",
      "168/168 [==============================] - 4s 26ms/step - loss: 0.1038 - val_loss: 0.3562\n",
      "Epoch 45/50\n",
      "168/168 [==============================] - 4s 26ms/step - loss: 0.1043 - val_loss: 0.3535\n",
      "Epoch 46/50\n",
      "168/168 [==============================] - 4s 26ms/step - loss: 0.1033 - val_loss: 0.3566\n",
      "Epoch 47/50\n",
      "168/168 [==============================] - 4s 26ms/step - loss: 0.1036 - val_loss: 0.3550\n",
      "Epoch 48/50\n",
      "168/168 [==============================] - 4s 25ms/step - loss: 0.1046 - val_loss: 0.3577\n",
      "Epoch 49/50\n",
      "168/168 [==============================] - 4s 25ms/step - loss: 0.1040 - val_loss: 0.3574\n",
      "Epoch 50/50\n",
      "168/168 [==============================] - 4s 24ms/step - loss: 0.1042 - val_loss: 0.3541\n"
     ]
    }
   ],
   "source": [
    "hist = autoencoder.fit(X_train, X_train,epochs=50,validation_data=(X_test, X_test))"
   ]
  },
  {
   "cell_type": "code",
   "execution_count": 100,
   "id": "4b0600b7",
   "metadata": {},
   "outputs": [],
   "source": [
    "train_loss += hist.history[\"loss\"]\n",
    "test_loss  += hist.history[\"val_loss\"]"
   ]
  },
  {
   "cell_type": "code",
   "execution_count": 101,
   "id": "ed156905",
   "metadata": {},
   "outputs": [
    {
     "data": {
      "image/png": "[encoded data removed]",
      "text/plain": [
       "<Figure size 432x288 with 1 Axes>"
      ]
     },
     "metadata": {},
     "output_type": "display_data"
    }
   ],
   "source": [
    "plt.plot(train_loss)\n",
    "plt.plot(test_loss)\n",
    "plt.show()"
   ]
  },
  {
   "cell_type": "markdown",
   "id": "8f8bdfef",
   "metadata": {},
   "source": [
    "# Saving "
   ]
  },
  {
   "cell_type": "code",
   "execution_count": 29,
   "id": "63e8ed6e",
   "metadata": {},
   "outputs": [],
   "source": [
    "autoencoder.save(cfg[\"models\"][\"autoencoder\"] + f\"{model_name}\")"
   ]
  },
  {
   "cell_type": "code",
   "execution_count": 30,
   "id": "e39567e4",
   "metadata": {},
   "outputs": [],
   "source": [
    "np.save(file = cfg[\"models\"][\"autoencoder\"]+ f\"{model_name}_train_loss\", arr = np.array(train_loss))\n",
    "np.save(file = cfg[\"models\"][\"autoencoder\"]+ f\"{model_name}_test_loss\", arr = np.array(test_loss))"
   ]
  },
  {
   "cell_type": "code",
   "execution_count": null,
   "id": "c0194ab3",
   "metadata": {},
   "outputs": [],
   "source": [
    "from sklearn import decomposition\n",
    "\n",
    "N_train = len(X_train)\n",
    "N_test  = len(X_test)\n",
    "tX_train = X_train.reshape(N_train,-1)\n",
    "tX_test = X_test.reshape(N_test,-1)\n",
    "\n",
    "def eval_PCA(n_components=100):\n",
    "    pca = decomposition.PCA(n_components=n_components)\n",
    "    pca.fit(tX_train)\n",
    "    pca_train = mean_squared_error(tX_train, pca.inverse_transform(pca.transform(tX_train)))\n",
    "    pca_test =  mean_squared_error(tX_test, pca.inverse_transform(pca.transform(tX_test))) \n",
    "    return pca_train,pca_test\n",
    "\n",
    "pca_train,pca_test = eval_PCA()\n",
    "print(f\"MSE train : {pca_train} \\nMSE test  : {pca_test}\")"
   ]
  },
  {
   "cell_type": "code",
   "execution_count": null,
   "id": "fb1990e5",
   "metadata": {},
   "outputs": [],
   "source": []
  }
 ],
 "metadata": {
  "kernelspec": {
   "display_name": "Python 3 (ipykernel)",
   "language": "python",
   "name": "python3"
  },
  "language_info": {
   "codemirror_mode": {
    "name": "ipython",
    "version": 3
   },
   "file_extension": ".py",
   "mimetype": "text/x-python",
   "name": "python",
   "nbconvert_exporter": "python",
   "pygments_lexer": "ipython3",
   "version": "3.7.7"
  }
 },
 "nbformat": 4,
 "nbformat_minor": 5
}
