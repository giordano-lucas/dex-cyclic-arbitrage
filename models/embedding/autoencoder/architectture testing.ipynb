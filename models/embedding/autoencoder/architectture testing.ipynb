{
 "cells": [
  {
   "cell_type": "code",
   "execution_count": 1,
   "id": "316e97b7",
   "metadata": {},
   "outputs": [
    {
     "name": "stderr",
     "output_type": "stream",
     "text": [
      "2022-01-09 14:41:48.072289: W tensorflow/stream_executor/platform/default/dso_loader.cc:64] Could not load dynamic library 'libcudart.so.11.0'; dlerror: libcudart.so.11.0: cannot open shared object file: No such file or directory\n",
      "2022-01-09 14:41:48.072326: I tensorflow/stream_executor/cuda/cudart_stub.cc:29] Ignore above cudart dlerror if you do not have a GPU set up on your machine.\n"
     ]
    }
   ],
   "source": [
    "import numpy as np\n",
    "import pandas as pd\n",
    "import matplotlib.pyplot as plt\n",
    "import plotly.express as px\n",
    "from plotly.subplots import make_subplots\n",
    "import plotly.graph_objects as go\n",
    "%load_ext autoreload\n",
    "%autoreload 2\n",
    "plt.style.use('ggplot')\n",
    "import sys \n",
    "import os\n",
    "sys.path.append('/'.join(os.getcwd().split('/')[:4]))\n",
    "from config.get import cfg\n",
    "from tensorflow import keras\n",
    "from tensorflow.keras import layers\n",
    "import autoencoders"
   ]
  },
  {
   "cell_type": "markdown",
   "id": "240338a1",
   "metadata": {},
   "source": [
    "# Loaidng data"
   ]
  },
  {
   "cell_type": "code",
   "execution_count": 2,
   "id": "d57fb1e3",
   "metadata": {},
   "outputs": [
    {
     "name": "stdout",
     "output_type": "stream",
     "text": [
      "shapes : X_train=(5354, 3, 600, 2),X_test=(1340, 3, 600, 2)\n"
     ]
    }
   ],
   "source": [
    "X_train = np.load(cfg['files'][\"raw_train_features\"])\n",
    "X_test  = np.load(cfg['files'][\"raw_test_features\"])\n",
    "print(f\"shapes : X_train={X_train.shape},X_test={X_test.shape}\")"
   ]
  },
  {
   "cell_type": "markdown",
   "id": "5b48d7f9",
   "metadata": {},
   "source": [
    "# Loading model"
   ]
  },
  {
   "cell_type": "code",
   "execution_count": 15,
   "id": "d549eb5e",
   "metadata": {},
   "outputs": [],
   "source": [
    "def CNN_fully_connected():\n",
    "    model_name = \"CNN_fully_connected\"\n",
    "    # build encoder\n",
    "    # CNN\n",
    "    input_img = keras.Input(shape=(3,600, 2))\n",
    "    x = layers.Conv2D(8, (3, 3), activation='elu', padding='same')(input_img)\n",
    "    x = layers.MaxPooling2D((3, 3), padding='same')(x)\n",
    "    x = layers.Conv2D(4, (3, 3), activation='elu', padding='same')(x)\n",
    "    x = layers.MaxPooling2D((2, 2), padding='same')(x)\n",
    "    x = layers.Conv2D(1, (2, 2), activation='elu', padding='same')(x)\n",
    "    # Dense layers\n",
    "    x = layers.Dense(100,  activation='elu')(x)\n",
    "    encoded = layers.Dense(100,  activation='elu')(x)\n",
    "    x = layers.Dense(100,  activation='elu')(encoded)\n",
    "    x = layers.Dense(100,  activation='elu')(x)\n",
    "    # build decoder\n",
    "    x = layers.Conv2D(4, (2, 2), activation='elu', padding='same')(x)\n",
    "    x = layers.UpSampling2D((1, 2))(x)\n",
    "    x = layers.Conv2D(8, (3, 3), activation='elu', padding='same')(x)\n",
    "    x = layers.UpSampling2D((3, 3))(x)\n",
    "    decoded = layers.Conv2D(2, (3, 3), activation='elu', padding='same')(x)\n",
    "    # combine encoder and decoder\n",
    "    autoencoder = keras.Model(input_img, decoded)\n",
    "    autoencoder.compile(optimizer='adam', loss='mean_squared_error',)\n",
    "    return model_name, autoencoder"
   ]
  },
  {
   "cell_type": "code",
   "execution_count": 16,
   "id": "b09a76d5",
   "metadata": {
    "scrolled": true
   },
   "outputs": [
    {
     "name": "stdout",
     "output_type": "stream",
     "text": [
      "Model: \"model_2\"\n",
      "_________________________________________________________________\n",
      " Layer (type)                Output Shape              Param #   \n",
      "=================================================================\n",
      " input_3 (InputLayer)        [(None, 3, 600, 2)]       0         \n",
      "                                                                 \n",
      " conv2d_6 (Conv2D)           (None, 3, 600, 8)         152       \n",
      "                                                                 \n",
      " max_pooling2d_2 (MaxPooling  (None, 1, 200, 8)        0         \n",
      " 2D)                                                             \n",
      "                                                                 \n",
      " conv2d_7 (Conv2D)           (None, 1, 200, 4)         292       \n",
      "                                                                 \n",
      " max_pooling2d_3 (MaxPooling  (None, 1, 100, 4)        0         \n",
      " 2D)                                                             \n",
      "                                                                 \n",
      " conv2d_8 (Conv2D)           (None, 1, 100, 1)         17        \n",
      "                                                                 \n",
      " dense_8 (Dense)             (None, 1, 100, 100)       200       \n",
      "                                                                 \n",
      " dense_9 (Dense)             (None, 1, 100, 100)       10100     \n",
      "                                                                 \n",
      " dense_10 (Dense)            (None, 1, 100, 100)       10100     \n",
      "                                                                 \n",
      " dense_11 (Dense)            (None, 1, 100, 100)       10100     \n",
      "                                                                 \n",
      " conv2d_9 (Conv2D)           (None, 1, 100, 4)         1604      \n",
      "                                                                 \n",
      " up_sampling2d_2 (UpSampling  (None, 1, 200, 4)        0         \n",
      " 2D)                                                             \n",
      "                                                                 \n",
      " conv2d_10 (Conv2D)          (None, 1, 200, 8)         296       \n",
      "                                                                 \n",
      " up_sampling2d_3 (UpSampling  (None, 3, 600, 8)        0         \n",
      " 2D)                                                             \n",
      "                                                                 \n",
      " conv2d_11 (Conv2D)          (None, 3, 600, 2)         146       \n",
      "                                                                 \n",
      "=================================================================\n",
      "Total params: 33,007\n",
      "Trainable params: 33,007\n",
      "Non-trainable params: 0\n",
      "_________________________________________________________________\n"
     ]
    }
   ],
   "source": [
    "\n",
    "model_name,autoencoder = CNN_fully_connected()\n",
    "autoencoder.summary()\n",
    "train_loss = []"
   ]
  },
  {
   "cell_type": "code",
   "execution_count": null,
   "id": "c23e9cca",
   "metadata": {},
   "outputs": [
    {
     "name": "stdout",
     "output_type": "stream",
     "text": [
      "Epoch 1/150\n",
      "168/168 [==============================] - 30s 175ms/step - loss: 0.7484\n",
      "Epoch 2/150\n",
      "168/168 [==============================] - 30s 176ms/step - loss: 0.7072\n",
      "Epoch 3/150\n",
      "168/168 [==============================] - 30s 176ms/step - loss: 0.6966\n",
      "Epoch 4/150\n",
      "168/168 [==============================] - 30s 176ms/step - loss: 0.6919\n",
      "Epoch 5/150\n",
      "168/168 [==============================] - 29s 175ms/step - loss: 0.6884\n",
      "Epoch 6/150\n",
      "168/168 [==============================] - 29s 174ms/step - loss: 0.6849\n",
      "Epoch 7/150\n",
      "168/168 [==============================] - 30s 176ms/step - loss: 0.6818\n",
      "Epoch 8/150\n",
      "168/168 [==============================] - 30s 176ms/step - loss: 0.6786\n",
      "Epoch 9/150\n",
      "168/168 [==============================] - 29s 175ms/step - loss: 0.6761\n",
      "Epoch 10/150\n",
      "168/168 [==============================] - 30s 181ms/step - loss: 0.6731\n",
      "Epoch 11/150\n",
      "168/168 [==============================] - 30s 180ms/step - loss: 0.6703\n",
      "Epoch 12/150\n",
      "168/168 [==============================] - 29s 175ms/step - loss: 0.6675\n",
      "Epoch 13/150\n",
      "168/168 [==============================] - 30s 176ms/step - loss: 0.6649\n",
      "Epoch 14/150\n",
      "168/168 [==============================] - 30s 176ms/step - loss: 0.6619\n",
      "Epoch 15/150\n",
      "168/168 [==============================] - 29s 175ms/step - loss: 0.6592\n",
      "Epoch 16/150\n",
      "  3/168 [..............................] - ETA: 24s - loss: 0.6344"
     ]
    }
   ],
   "source": [
    "hist = autoencoder.fit(X_train, X_train,epochs=150)"
   ]
  },
  {
   "cell_type": "code",
   "execution_count": 5,
   "id": "4999adc9",
   "metadata": {},
   "outputs": [],
   "source": [
    "train_loss+=hist.history[\"loss\"]"
   ]
  },
  {
   "cell_type": "code",
   "execution_count": 6,
   "id": "ed156905",
   "metadata": {},
   "outputs": [
    {
     "data": {
      "image/png": "[encoded data removed]",
      "text/plain": [
       "<Figure size 432x288 with 1 Axes>"
      ]
     },
     "metadata": {},
     "output_type": "display_data"
    }
   ],
   "source": [
    "plt.plot(train_loss)\n",
    "plt.show()"
   ]
  },
  {
   "cell_type": "markdown",
   "id": "8f8bdfef",
   "metadata": {},
   "source": [
    "# Saving "
   ]
  },
  {
   "cell_type": "code",
   "execution_count": 8,
   "id": "63e8ed6e",
   "metadata": {},
   "outputs": [],
   "source": [
    "autoencoder.save(cfg[\"models\"][\"autoencoder\"] + f\"{model_name}\")"
   ]
  },
  {
   "cell_type": "code",
   "execution_count": 10,
   "id": "e39567e4",
   "metadata": {},
   "outputs": [],
   "source": [
    "np.save(file = cfg[\"models\"][\"autoencoder\"]+ f\"{model_name}_train_loss\", arr = np.array(train_loss))"
   ]
  },
  {
   "cell_type": "markdown",
   "id": "fe029b5e",
   "metadata": {},
   "source": [
    "# testing "
   ]
  },
  {
   "cell_type": "code",
   "execution_count": 31,
   "id": "103ca2d0",
   "metadata": {},
   "outputs": [
    {
     "name": "stdout",
     "output_type": "stream",
     "text": [
      "MSE train : 0.6656895960779817 \n",
      "MSE test  : 0.672439797862461\n"
     ]
    }
   ],
   "source": [
    "def mean_squared_error(x,y):\n",
    "    return np.sum((x-y)**2)/x.size\n",
    "\n",
    "train_pred = autoencoder(X_train).numpy()\n",
    "test_pred  = autoencoder(X_test).numpy()\n",
    "\n",
    "print(f\"MSE train : {mean_squared_error(train_pred,X_train)} \\nMSE test  : {mean_squared_error(test_pred,X_test)}\")"
   ]
  },
  {
   "cell_type": "code",
   "execution_count": null,
   "id": "31366195",
   "metadata": {},
   "outputs": [],
   "source": []
  }
 ],
 "metadata": {
  "kernelspec": {
   "display_name": "Python 3 (ipykernel)",
   "language": "python",
   "name": "python3"
  },
  "language_info": {
   "codemirror_mode": {
    "name": "ipython",
    "version": 3
   },
   "file_extension": ".py",
   "mimetype": "text/x-python",
   "name": "python",
   "nbconvert_exporter": "python",
   "pygments_lexer": "ipython3",
   "version": "3.7.7"
  }
 },
 "nbformat": 4,
 "nbformat_minor": 5
}
