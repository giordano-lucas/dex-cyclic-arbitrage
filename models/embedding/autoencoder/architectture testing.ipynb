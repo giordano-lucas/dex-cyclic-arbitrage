{
 "cells": [
  {
   "cell_type": "code",
   "execution_count": 1,
   "id": "2d15e345",
   "metadata": {},
   "outputs": [
    {
     "name": "stderr",
     "output_type": "stream",
     "text": [
      "2022-01-05 11:32:54.107774: W tensorflow/stream_executor/platform/default/dso_loader.cc:64] Could not load dynamic library 'libcudart.so.11.0'; dlerror: libcudart.so.11.0: cannot open shared object file: No such file or directory\n",
      "2022-01-05 11:32:54.107809: I tensorflow/stream_executor/cuda/cudart_stub.cc:29] Ignore above cudart dlerror if you do not have a GPU set up on your machine.\n"
     ]
    }
   ],
   "source": [
    "import numpy as np\n",
    "import pandas as pd\n",
    "import matplotlib.pyplot as plt\n",
    "import plotly.express as px\n",
    "from plotly.subplots import make_subplots\n",
    "import plotly.graph_objects as go\n",
    "%load_ext autoreload\n",
    "%autoreload 2\n",
    "plt.style.use('ggplot')\n",
    "import sys \n",
    "sys.path.append(\"/scratch/izar/kapps/DEX-Cyclic-Arbitrage/\")\n",
    "from config.get import cfg\n",
    "from tensorflow import keras\n",
    "from tensorflow.keras import layers\n",
    "# import autoencoders"
   ]
  },
  {
   "cell_type": "code",
   "execution_count": 32,
   "id": "3fb0d52a",
   "metadata": {},
   "outputs": [
    {
     "name": "stdout",
     "output_type": "stream",
     "text": [
      "shapes : X_train=(2698, 3, 600, 2),X_test=(675, 3, 600, 2)\n"
     ]
    }
   ],
   "source": [
    "X_train = np.load(cfg['files'][\"raw_train_features\"])\n",
    "X_test  = np.load(cfg['files'][\"raw_test_features\"])\n",
    "print(f\"shapes : X_train={X_train.shape},X_test={X_test.shape}\")"
   ]
  },
  {
   "cell_type": "code",
   "execution_count": 33,
   "id": "5c1157be",
   "metadata": {},
   "outputs": [],
   "source": [
    "def model():\n",
    "    model_name = \"linear_with_reshape\"\n",
    "    in_shape = (3,600, 2) \n",
    "    # build encoder\n",
    "    input_layer = keras.Input(shape=in_shape)\n",
    "    x = layers.Reshape([in_shape[0]*in_shape[1]*in_shape[2]])(input_layer)\n",
    "    x = layers.Dense(600,  activation='elu')(x)\n",
    "    x = layers.Dense(100,  activation='elu')(x)\n",
    "    x = layers.Dense(600,  activation='elu')(x)\n",
    "    x = layers.Dense(in_shape[0]*in_shape[1]*in_shape[2],  activation='elu')(x)\n",
    "    output_layer =layers.Reshape(in_shape)(x)\n",
    "    \n",
    "    \n",
    "    # combine encoder and decoder\n",
    "    autoencoder = keras.Model(input_layer, output_layer)\n",
    "    autoencoder.compile(optimizer='adam', loss='mean_squared_error',)\n",
    "    return model_name ,autoencoder"
   ]
  },
  {
   "cell_type": "code",
   "execution_count": 34,
   "id": "d1186a01",
   "metadata": {},
   "outputs": [
    {
     "name": "stdout",
     "output_type": "stream",
     "text": [
      "Model: \"model_8\"\n",
      "_________________________________________________________________\n",
      " Layer (type)                Output Shape              Param #   \n",
      "=================================================================\n",
      " input_10 (InputLayer)       [(None, 3, 600, 2)]       0         \n",
      "                                                                 \n",
      " reshape_14 (Reshape)        (None, 3600)              0         \n",
      "                                                                 \n",
      " dense_25 (Dense)            (None, 600)               2160600   \n",
      "                                                                 \n",
      " dense_26 (Dense)            (None, 100)               60100     \n",
      "                                                                 \n",
      " dense_27 (Dense)            (None, 600)               60600     \n",
      "                                                                 \n",
      " dense_28 (Dense)            (None, 3600)              2163600   \n",
      "                                                                 \n",
      " reshape_15 (Reshape)        (None, 3, 600, 2)         0         \n",
      "                                                                 \n",
      "=================================================================\n",
      "Total params: 4,444,900\n",
      "Trainable params: 4,444,900\n",
      "Non-trainable params: 0\n",
      "_________________________________________________________________\n"
     ]
    }
   ],
   "source": [
    "_,autoencoder = model()\n",
    "autoencoder.summary()"
   ]
  },
  {
   "cell_type": "code",
   "execution_count": null,
   "id": "264c240e",
   "metadata": {},
   "outputs": [
    {
     "name": "stdout",
     "output_type": "stream",
     "text": [
      "Epoch 1/150\n",
      "85/85 [==============================] - 10s 112ms/step - loss: 0.3725\n",
      "Epoch 2/150\n",
      "85/85 [==============================] - 10s 114ms/step - loss: 0.2018\n",
      "Epoch 3/150\n",
      "85/85 [==============================] - 9s 112ms/step - loss: 0.1652\n",
      "Epoch 4/150\n",
      "85/85 [==============================] - 10s 114ms/step - loss: 0.1470\n",
      "Epoch 5/150\n",
      "85/85 [==============================] - 10s 114ms/step - loss: 0.1358\n",
      "Epoch 6/150\n",
      "85/85 [==============================] - 10s 113ms/step - loss: 0.1263\n",
      "Epoch 7/150\n",
      "85/85 [==============================] - 10s 114ms/step - loss: 0.1189\n",
      "Epoch 8/150\n",
      "85/85 [==============================] - 10s 113ms/step - loss: 0.1128\n",
      "Epoch 9/150\n",
      "85/85 [==============================] - 10s 114ms/step - loss: 0.1144\n",
      "Epoch 10/150\n",
      "85/85 [==============================] - 10s 112ms/step - loss: 0.1085\n",
      "Epoch 11/150\n",
      "85/85 [==============================] - 10s 112ms/step - loss: 0.1014\n",
      "Epoch 12/150\n",
      "85/85 [==============================] - 10s 113ms/step - loss: 0.0985\n",
      "Epoch 13/150\n",
      "85/85 [==============================] - 10s 113ms/step - loss: 0.0972\n",
      "Epoch 14/150\n",
      "85/85 [==============================] - 10s 113ms/step - loss: 0.0942\n",
      "Epoch 15/150\n",
      "85/85 [==============================] - 10s 112ms/step - loss: 0.0921\n",
      "Epoch 16/150\n",
      "85/85 [==============================] - 10s 113ms/step - loss: 0.0906\n",
      "Epoch 17/150\n",
      "85/85 [==============================] - 10s 114ms/step - loss: 0.08891s -\n",
      "Epoch 18/150\n",
      "85/85 [==============================] - 10s 113ms/step - loss: 0.0863\n",
      "Epoch 19/150\n",
      "85/85 [==============================] - 9s 111ms/step - loss: 0.0845\n",
      "Epoch 20/150\n",
      "85/85 [==============================] - 10s 113ms/step - loss: 0.0849\n",
      "Epoch 21/150\n",
      "85/85 [==============================] - 10s 112ms/step - loss: 0.0848\n",
      "Epoch 22/150\n",
      "85/85 [==============================] - 10s 113ms/step - loss: 0.0830\n",
      "Epoch 23/150\n",
      "85/85 [==============================] - 10s 114ms/step - loss: 0.0818\n",
      "Epoch 24/150\n",
      "85/85 [==============================] - 10s 113ms/step - loss: 0.0828\n",
      "Epoch 25/150\n",
      "85/85 [==============================] - 10s 114ms/step - loss: 0.0847\n",
      "Epoch 26/150\n",
      "85/85 [==============================] - 10s 113ms/step - loss: 0.0797\n",
      "Epoch 27/150\n",
      "85/85 [==============================] - 10s 113ms/step - loss: 0.0779\n",
      "Epoch 28/150\n",
      "85/85 [==============================] - 10s 115ms/step - loss: 0.0776\n",
      "Epoch 29/150\n",
      "85/85 [==============================] - 9s 112ms/step - loss: 0.0758\n",
      "Epoch 30/150\n",
      "85/85 [==============================] - 10s 113ms/step - loss: 0.0772\n",
      "Epoch 31/150\n",
      "85/85 [==============================] - 10s 113ms/step - loss: 0.0770\n",
      "Epoch 32/150\n",
      "85/85 [==============================] - 9s 111ms/step - loss: 0.0742\n",
      "Epoch 33/150\n",
      "85/85 [==============================] - 10s 113ms/step - loss: 0.0734\n",
      "Epoch 34/150\n",
      "85/85 [==============================] - 10s 114ms/step - loss: 0.07300s - loss: 0.0\n",
      "Epoch 35/150\n",
      "85/85 [==============================] - 10s 114ms/step - loss: 0.0707\n",
      "Epoch 36/150\n",
      "85/85 [==============================] - 10s 119ms/step - loss: 0.0699\n",
      "Epoch 37/150\n",
      "85/85 [==============================] - 10s 113ms/step - loss: 0.0703\n",
      "Epoch 38/150\n",
      "85/85 [==============================] - 10s 113ms/step - loss: 0.0691\n",
      "Epoch 39/150\n",
      "85/85 [==============================] - 10s 115ms/step - loss: 0.0690\n",
      "Epoch 40/150\n",
      "85/85 [==============================] - 10s 113ms/step - loss: 0.0690\n",
      "Epoch 41/150\n",
      "85/85 [==============================] - 10s 121ms/step - loss: 0.0688\n",
      "Epoch 42/150\n",
      "26/85 [========>.....................] - ETA: 7s - loss: 0.0677"
     ]
    }
   ],
   "source": [
    "hist = autoencoder.fit(X_train, X_train,epochs=150)"
   ]
  },
  {
   "cell_type": "code",
   "execution_count": 30,
   "id": "194e340d",
   "metadata": {},
   "outputs": [
    {
     "data": {
      "image/png": "[encoded data removed]",
      "text/plain": [
       "<Figure size 432x288 with 1 Axes>"
      ]
     },
     "metadata": {},
     "output_type": "display_data"
    }
   ],
   "source": [
    "plt.plot(hist.history[\"loss\"])\n",
    "plt.show()"
   ]
  },
  {
   "cell_type": "markdown",
   "id": "8829782e",
   "metadata": {},
   "source": [
    "# testing "
   ]
  },
  {
   "cell_type": "code",
   "execution_count": 31,
   "id": "e3a49314",
   "metadata": {},
   "outputs": [
    {
     "name": "stdout",
     "output_type": "stream",
     "text": [
      "MSE train : 0.051664736973624656 \n",
      "MSE test  : 0.08055312499386301\n"
     ]
    }
   ],
   "source": [
    "def mean_squared_error(x,y):\n",
    "    return np.sum((x-y)**2)/x.size\n",
    "\n",
    "train_pred = autoencoder(X_train).numpy()\n",
    "test_pred  = autoencoder(X_test).numpy()\n",
    "\n",
    "print(f\"MSE train : {mean_squared_error(train_pred,X_train)} \\nMSE test  : {mean_squared_error(test_pred,X_test)}\")"
   ]
  },
  {
   "cell_type": "code",
   "execution_count": null,
   "id": "5f4f2288",
   "metadata": {},
   "outputs": [],
   "source": []
  }
 ],
 "metadata": {
  "kernelspec": {
   "display_name": "Python 3 (ipykernel)",
   "language": "python",
   "name": "python3"
  },
  "language_info": {
   "codemirror_mode": {
    "name": "ipython",
    "version": 3
   },
   "file_extension": ".py",
   "mimetype": "text/x-python",
   "name": "python",
   "nbconvert_exporter": "python",
   "pygments_lexer": "ipython3",
   "version": "3.7.7"
  }
 },
 "nbformat": 4,
 "nbformat_minor": 5
}
