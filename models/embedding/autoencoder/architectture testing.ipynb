{
 "cells": [
  {
   "cell_type": "code",
   "execution_count": 1,
   "id": "316e97b7",
   "metadata": {},
   "outputs": [
    {
     "name": "stderr",
     "output_type": "stream",
     "text": [
      "2022-01-09 14:41:48.072289: W tensorflow/stream_executor/platform/default/dso_loader.cc:64] Could not load dynamic library 'libcudart.so.11.0'; dlerror: libcudart.so.11.0: cannot open shared object file: No such file or directory\n",
      "2022-01-09 14:41:48.072326: I tensorflow/stream_executor/cuda/cudart_stub.cc:29] Ignore above cudart dlerror if you do not have a GPU set up on your machine.\n"
     ]
    }
   ],
   "source": [
    "import numpy as np\n",
    "import pandas as pd\n",
    "import matplotlib.pyplot as plt\n",
    "import plotly.express as px\n",
    "from plotly.subplots import make_subplots\n",
    "import plotly.graph_objects as go\n",
    "%load_ext autoreload\n",
    "%autoreload 2\n",
    "plt.style.use('ggplot')\n",
    "import sys \n",
    "import os\n",
    "sys.path.append('/'.join(os.getcwd().split('/')[:4]))\n",
    "from config.get import cfg\n",
    "from tensorflow import keras\n",
    "from tensorflow.keras import layers\n",
    "import autoencoders"
   ]
  },
  {
   "cell_type": "markdown",
   "id": "240338a1",
   "metadata": {},
   "source": [
    "# Loaidng data"
   ]
  },
  {
   "cell_type": "code",
   "execution_count": 2,
   "id": "d57fb1e3",
   "metadata": {},
   "outputs": [
    {
     "name": "stdout",
     "output_type": "stream",
     "text": [
      "shapes : X_train=(5354, 3, 600, 2),X_test=(1340, 3, 600, 2)\n"
     ]
    }
   ],
   "source": [
    "X_train = np.load(cfg['files'][\"raw_train_features\"])\n",
    "X_test  = np.load(cfg['files'][\"raw_test_features\"])\n",
    "print(f\"shapes : X_train={X_train.shape},X_test={X_test.shape}\")"
   ]
  },
  {
   "cell_type": "markdown",
   "id": "5b48d7f9",
   "metadata": {},
   "source": [
    "# Loading model"
   ]
  },
  {
   "cell_type": "code",
   "execution_count": 3,
   "id": "b09a76d5",
   "metadata": {
    "scrolled": true
   },
   "outputs": [
    {
     "name": "stderr",
     "output_type": "stream",
     "text": [
      "2022-01-09 14:41:55.772879: E tensorflow/stream_executor/cuda/cuda_driver.cc:271] failed call to cuInit: CUDA_ERROR_NO_DEVICE: no CUDA-capable device is detected\n",
      "2022-01-09 14:41:55.772932: I tensorflow/stream_executor/cuda/cuda_diagnostics.cc:156] kernel driver does not appear to be running on this host (izar): /proc/driver/nvidia/version does not exist\n",
      "2022-01-09 14:41:55.774262: I tensorflow/core/platform/cpu_feature_guard.cc:151] This TensorFlow binary is optimized with oneAPI Deep Neural Network Library (oneDNN) to use the following CPU instructions in performance-critical operations:  AVX2 AVX512F FMA\n",
      "To enable them in other operations, rebuild TensorFlow with the appropriate compiler flags.\n"
     ]
    },
    {
     "name": "stdout",
     "output_type": "stream",
     "text": [
      "Model: \"model\"\n",
      "_________________________________________________________________\n",
      " Layer (type)                Output Shape              Param #   \n",
      "=================================================================\n",
      " input_1 (InputLayer)        [(None, 3, 600, 2)]       0         \n",
      "                                                                 \n",
      " reshape (Reshape)           (None, 3600)              0         \n",
      "                                                                 \n",
      " dense (Dense)               (None, 600)               2160600   \n",
      "                                                                 \n",
      " dense_1 (Dense)             (None, 100)               60100     \n",
      "                                                                 \n",
      " dense_2 (Dense)             (None, 600)               60600     \n",
      "                                                                 \n",
      " dense_3 (Dense)             (None, 3600)              2163600   \n",
      "                                                                 \n",
      " reshape_1 (Reshape)         (None, 3, 600, 2)         0         \n",
      "                                                                 \n",
      "=================================================================\n",
      "Total params: 4,444,900\n",
      "Trainable params: 4,444,900\n",
      "Non-trainable params: 0\n",
      "_________________________________________________________________\n"
     ]
    }
   ],
   "source": [
    "\n",
    "model_name,autoencoder = autoencoders.fully_connected_3L()\n",
    "autoencoder.summary()\n",
    "train_loss = []"
   ]
  },
  {
   "cell_type": "code",
   "execution_count": 4,
   "id": "c23e9cca",
   "metadata": {},
   "outputs": [
    {
     "name": "stdout",
     "output_type": "stream",
     "text": [
      "Epoch 1/150\n",
      "168/168 [==============================] - 21s 122ms/step - loss: 0.3216\n",
      "Epoch 2/150\n",
      "168/168 [==============================] - 21s 127ms/step - loss: 0.2003\n",
      "Epoch 3/150\n",
      "168/168 [==============================] - 21s 127ms/step - loss: 0.1793\n",
      "Epoch 4/150\n",
      "168/168 [==============================] - 21s 124ms/step - loss: 0.1684\n",
      "Epoch 5/150\n",
      "168/168 [==============================] - 21s 128ms/step - loss: 0.1600\n",
      "Epoch 6/150\n",
      "168/168 [==============================] - 21s 125ms/step - loss: 0.1564\n",
      "Epoch 7/150\n",
      "168/168 [==============================] - 21s 123ms/step - loss: 0.1527\n",
      "Epoch 8/150\n",
      "168/168 [==============================] - 21s 124ms/step - loss: 0.1499\n",
      "Epoch 9/150\n",
      "168/168 [==============================] - 21s 125ms/step - loss: 0.1473\n",
      "Epoch 10/150\n",
      "168/168 [==============================] - 20s 122ms/step - loss: 0.1466\n",
      "Epoch 11/150\n",
      "168/168 [==============================] - 20s 122ms/step - loss: 0.1438\n",
      "Epoch 12/150\n",
      "168/168 [==============================] - 21s 123ms/step - loss: 0.1416\n",
      "Epoch 13/150\n",
      "168/168 [==============================] - 21s 123ms/step - loss: 0.1413\n",
      "Epoch 14/150\n",
      "168/168 [==============================] - 21s 125ms/step - loss: 0.1410\n",
      "Epoch 15/150\n",
      "168/168 [==============================] - 20s 122ms/step - loss: 0.1394\n",
      "Epoch 16/150\n",
      "168/168 [==============================] - 21s 123ms/step - loss: 0.1382\n",
      "Epoch 17/150\n",
      "168/168 [==============================] - 20s 122ms/step - loss: 0.1382\n",
      "Epoch 18/150\n",
      "168/168 [==============================] - 21s 123ms/step - loss: 0.1365\n",
      "Epoch 19/150\n",
      "168/168 [==============================] - 21s 123ms/step - loss: 0.1355\n",
      "Epoch 20/150\n",
      "168/168 [==============================] - 20s 120ms/step - loss: 0.1358\n",
      "Epoch 21/150\n",
      "168/168 [==============================] - 20s 119ms/step - loss: 0.1352\n",
      "Epoch 22/150\n",
      "168/168 [==============================] - 20s 119ms/step - loss: 0.1349\n",
      "Epoch 23/150\n",
      "168/168 [==============================] - 20s 119ms/step - loss: 0.1351\n",
      "Epoch 24/150\n",
      "168/168 [==============================] - 20s 122ms/step - loss: 0.1324\n",
      "Epoch 25/150\n",
      "168/168 [==============================] - 21s 122ms/step - loss: 0.1324\n",
      "Epoch 26/150\n",
      "168/168 [==============================] - 20s 120ms/step - loss: 0.1332\n",
      "Epoch 27/150\n",
      "168/168 [==============================] - 21s 124ms/step - loss: 0.1326\n",
      "Epoch 28/150\n",
      "168/168 [==============================] - 20s 121ms/step - loss: 0.1311\n",
      "Epoch 29/150\n",
      "168/168 [==============================] - 20s 120ms/step - loss: 0.1313\n",
      "Epoch 30/150\n",
      "168/168 [==============================] - 21s 123ms/step - loss: 0.1310\n",
      "Epoch 31/150\n",
      "168/168 [==============================] - 21s 123ms/step - loss: 0.1301\n",
      "Epoch 32/150\n",
      "168/168 [==============================] - 21s 123ms/step - loss: 0.1304\n",
      "Epoch 33/150\n",
      "168/168 [==============================] - 20s 120ms/step - loss: 0.1285\n",
      "Epoch 34/150\n",
      "168/168 [==============================] - 20s 120ms/step - loss: 0.1297\n",
      "Epoch 35/150\n",
      "168/168 [==============================] - 21s 123ms/step - loss: 0.1298\n",
      "Epoch 36/150\n",
      "168/168 [==============================] - 21s 123ms/step - loss: 0.1291\n",
      "Epoch 37/150\n",
      "168/168 [==============================] - 20s 122ms/step - loss: 0.1288\n",
      "Epoch 38/150\n",
      "168/168 [==============================] - 21s 123ms/step - loss: 0.1270\n",
      "Epoch 39/150\n",
      "168/168 [==============================] - 20s 122ms/step - loss: 0.1280\n",
      "Epoch 40/150\n",
      "168/168 [==============================] - 21s 123ms/step - loss: 0.1274\n",
      "Epoch 41/150\n",
      "168/168 [==============================] - 20s 122ms/step - loss: 0.1271\n",
      "Epoch 42/150\n",
      "168/168 [==============================] - 21s 123ms/step - loss: 0.1271\n",
      "Epoch 43/150\n",
      "168/168 [==============================] - 20s 122ms/step - loss: 0.1270\n",
      "Epoch 44/150\n",
      "168/168 [==============================] - 21s 125ms/step - loss: 0.1261\n",
      "Epoch 45/150\n",
      "168/168 [==============================] - 20s 121ms/step - loss: 0.1269\n",
      "Epoch 46/150\n",
      "168/168 [==============================] - 20s 122ms/step - loss: 0.1269\n",
      "Epoch 47/150\n",
      "168/168 [==============================] - 20s 122ms/step - loss: 0.1251\n",
      "Epoch 48/150\n",
      "168/168 [==============================] - 20s 122ms/step - loss: 0.1265\n",
      "Epoch 49/150\n",
      "168/168 [==============================] - 20s 122ms/step - loss: 0.1248\n",
      "Epoch 50/150\n",
      "168/168 [==============================] - 21s 124ms/step - loss: 0.1251\n",
      "Epoch 51/150\n",
      "168/168 [==============================] - 20s 121ms/step - loss: 0.1250\n",
      "Epoch 52/150\n",
      "168/168 [==============================] - 21s 123ms/step - loss: 0.1253\n",
      "Epoch 53/150\n",
      "168/168 [==============================] - 21s 123ms/step - loss: 0.1242\n",
      "Epoch 54/150\n",
      "168/168 [==============================] - 21s 123ms/step - loss: 0.1242\n",
      "Epoch 55/150\n",
      "168/168 [==============================] - 20s 120ms/step - loss: 0.1244\n",
      "Epoch 56/150\n",
      "168/168 [==============================] - 21s 123ms/step - loss: 0.1243\n",
      "Epoch 57/150\n",
      "168/168 [==============================] - 20s 121ms/step - loss: 0.1242\n",
      "Epoch 58/150\n",
      "168/168 [==============================] - 21s 124ms/step - loss: 0.1229\n",
      "Epoch 59/150\n",
      "168/168 [==============================] - 20s 122ms/step - loss: 0.1234\n",
      "Epoch 60/150\n",
      "168/168 [==============================] - 20s 119ms/step - loss: 0.1241\n",
      "Epoch 61/150\n",
      "168/168 [==============================] - 20s 120ms/step - loss: 0.1250\n",
      "Epoch 62/150\n",
      "168/168 [==============================] - 20s 119ms/step - loss: 0.1229\n",
      "Epoch 63/150\n",
      "168/168 [==============================] - 20s 119ms/step - loss: 0.1229\n",
      "Epoch 64/150\n",
      "168/168 [==============================] - 20s 117ms/step - loss: 0.1233\n",
      "Epoch 65/150\n",
      "168/168 [==============================] - 20s 121ms/step - loss: 0.1229\n",
      "Epoch 66/150\n",
      "168/168 [==============================] - 20s 121ms/step - loss: 0.1217\n",
      "Epoch 67/150\n",
      "168/168 [==============================] - 20s 120ms/step - loss: 0.1220\n",
      "Epoch 68/150\n",
      "168/168 [==============================] - 20s 120ms/step - loss: 0.1225\n",
      "Epoch 69/150\n",
      "168/168 [==============================] - 20s 120ms/step - loss: 0.1210\n",
      "Epoch 70/150\n",
      "168/168 [==============================] - 20s 122ms/step - loss: 0.1218\n",
      "Epoch 71/150\n",
      "168/168 [==============================] - 20s 122ms/step - loss: 0.1218\n",
      "Epoch 72/150\n",
      "168/168 [==============================] - 21s 125ms/step - loss: 0.1217\n",
      "Epoch 73/150\n",
      "168/168 [==============================] - 22s 131ms/step - loss: 0.1209\n",
      "Epoch 74/150\n",
      "168/168 [==============================] - 21s 126ms/step - loss: 0.1210\n",
      "Epoch 75/150\n",
      "168/168 [==============================] - 21s 126ms/step - loss: 0.1215\n",
      "Epoch 76/150\n",
      "168/168 [==============================] - 22s 129ms/step - loss: 0.1215\n",
      "Epoch 77/150\n",
      "168/168 [==============================] - 21s 126ms/step - loss: 0.1208\n",
      "Epoch 78/150\n",
      "168/168 [==============================] - 22s 129ms/step - loss: 0.1213\n",
      "Epoch 79/150\n",
      "168/168 [==============================] - 21s 127ms/step - loss: 0.1205\n",
      "Epoch 80/150\n",
      "168/168 [==============================] - 21s 126ms/step - loss: 0.1209\n",
      "Epoch 81/150\n",
      "168/168 [==============================] - 22s 131ms/step - loss: 0.1199\n",
      "Epoch 82/150\n",
      "168/168 [==============================] - 21s 124ms/step - loss: 0.1208\n",
      "Epoch 83/150\n",
      "168/168 [==============================] - 21s 126ms/step - loss: 0.1201\n",
      "Epoch 84/150\n",
      "168/168 [==============================] - 22s 129ms/step - loss: 0.1203\n",
      "Epoch 85/150\n",
      "168/168 [==============================] - 21s 126ms/step - loss: 0.1200\n",
      "Epoch 86/150\n",
      "168/168 [==============================] - 21s 126ms/step - loss: 0.1192\n",
      "Epoch 87/150\n",
      "168/168 [==============================] - 21s 128ms/step - loss: 0.1200\n",
      "Epoch 88/150\n",
      "168/168 [==============================] - 21s 125ms/step - loss: 0.1211\n",
      "Epoch 89/150\n",
      "168/168 [==============================] - 22s 129ms/step - loss: 0.1207\n",
      "Epoch 90/150\n",
      "168/168 [==============================] - 21s 128ms/step - loss: 0.1200\n",
      "Epoch 91/150\n",
      "168/168 [==============================] - 21s 126ms/step - loss: 0.1203\n",
      "Epoch 92/150\n",
      "168/168 [==============================] - 21s 126ms/step - loss: 0.1198\n",
      "Epoch 93/150\n",
      "168/168 [==============================] - 21s 123ms/step - loss: 0.1192\n",
      "Epoch 94/150\n",
      "168/168 [==============================] - 21s 126ms/step - loss: 0.1189\n",
      "Epoch 95/150\n",
      "168/168 [==============================] - 22s 129ms/step - loss: 0.1189\n",
      "Epoch 96/150\n"
     ]
    },
    {
     "name": "stdout",
     "output_type": "stream",
     "text": [
      "168/168 [==============================] - 21s 128ms/step - loss: 0.1185\n",
      "Epoch 97/150\n",
      "168/168 [==============================] - 21s 125ms/step - loss: 0.1189\n",
      "Epoch 98/150\n",
      "168/168 [==============================] - 21s 124ms/step - loss: 0.1187\n",
      "Epoch 99/150\n",
      "168/168 [==============================] - 21s 125ms/step - loss: 0.1184\n",
      "Epoch 100/150\n",
      "168/168 [==============================] - 21s 125ms/step - loss: 0.1192\n",
      "Epoch 101/150\n",
      "168/168 [==============================] - 21s 125ms/step - loss: 0.1187\n",
      "Epoch 102/150\n",
      "168/168 [==============================] - 22s 128ms/step - loss: 0.1188\n",
      "Epoch 103/150\n",
      "168/168 [==============================] - 21s 125ms/step - loss: 0.1181\n",
      "Epoch 104/150\n",
      "168/168 [==============================] - 22s 128ms/step - loss: 0.1184\n",
      "Epoch 105/150\n",
      "168/168 [==============================] - 21s 124ms/step - loss: 0.1186\n",
      "Epoch 106/150\n",
      "168/168 [==============================] - 21s 126ms/step - loss: 0.1191\n",
      "Epoch 107/150\n",
      "168/168 [==============================] - 21s 125ms/step - loss: 0.1189\n",
      "Epoch 108/150\n",
      "168/168 [==============================] - 21s 123ms/step - loss: 0.1190\n",
      "Epoch 109/150\n",
      "168/168 [==============================] - 22s 128ms/step - loss: 0.1184\n",
      "Epoch 110/150\n",
      "168/168 [==============================] - 22s 131ms/step - loss: 0.1182\n",
      "Epoch 111/150\n",
      "168/168 [==============================] - 21s 128ms/step - loss: 0.1177\n",
      "Epoch 112/150\n",
      "168/168 [==============================] - 20s 122ms/step - loss: 0.1184\n",
      "Epoch 113/150\n",
      "168/168 [==============================] - 21s 125ms/step - loss: 0.1179\n",
      "Epoch 114/150\n",
      "168/168 [==============================] - 21s 127ms/step - loss: 0.1179\n",
      "Epoch 115/150\n",
      "168/168 [==============================] - 21s 128ms/step - loss: 0.1173\n",
      "Epoch 116/150\n",
      "168/168 [==============================] - 21s 125ms/step - loss: 0.1174\n",
      "Epoch 117/150\n",
      "168/168 [==============================] - 21s 126ms/step - loss: 0.1188\n",
      "Epoch 118/150\n",
      "168/168 [==============================] - 21s 126ms/step - loss: 0.1179\n",
      "Epoch 119/150\n",
      "168/168 [==============================] - 21s 126ms/step - loss: 0.1177\n",
      "Epoch 120/150\n",
      "168/168 [==============================] - 21s 127ms/step - loss: 0.1169\n",
      "Epoch 121/150\n",
      "168/168 [==============================] - 22s 128ms/step - loss: 0.1175\n",
      "Epoch 122/150\n",
      "168/168 [==============================] - 21s 124ms/step - loss: 0.1183\n",
      "Epoch 123/150\n",
      "168/168 [==============================] - 21s 123ms/step - loss: 0.1176\n",
      "Epoch 124/150\n",
      "168/168 [==============================] - 21s 123ms/step - loss: 0.1177\n",
      "Epoch 125/150\n",
      "168/168 [==============================] - 21s 124ms/step - loss: 0.1174\n",
      "Epoch 126/150\n",
      "168/168 [==============================] - 21s 128ms/step - loss: 0.1175\n",
      "Epoch 127/150\n",
      "168/168 [==============================] - 21s 125ms/step - loss: 0.1168\n",
      "Epoch 128/150\n",
      "168/168 [==============================] - 21s 126ms/step - loss: 0.11751s - lo\n",
      "Epoch 129/150\n",
      "168/168 [==============================] - 22s 129ms/step - loss: 0.1174\n",
      "Epoch 130/150\n",
      "168/168 [==============================] - 21s 126ms/step - loss: 0.1169\n",
      "Epoch 131/150\n",
      "168/168 [==============================] - 21s 125ms/step - loss: 0.1164\n",
      "Epoch 132/150\n",
      "168/168 [==============================] - 21s 127ms/step - loss: 0.1164\n",
      "Epoch 133/150\n",
      "168/168 [==============================] - 21s 126ms/step - loss: 0.1181\n",
      "Epoch 134/150\n",
      "168/168 [==============================] - 21s 125ms/step - loss: 0.1171\n",
      "Epoch 135/150\n",
      "168/168 [==============================] - 21s 122ms/step - loss: 0.1161\n",
      "Epoch 136/150\n",
      "168/168 [==============================] - 21s 124ms/step - loss: 0.1171\n",
      "Epoch 137/150\n",
      "168/168 [==============================] - 20s 120ms/step - loss: 0.1175\n",
      "Epoch 138/150\n",
      "168/168 [==============================] - 20s 121ms/step - loss: 0.1169\n",
      "Epoch 139/150\n",
      "168/168 [==============================] - 20s 120ms/step - loss: 0.1168\n",
      "Epoch 140/150\n",
      "168/168 [==============================] - 20s 120ms/step - loss: 0.1171\n",
      "Epoch 141/150\n",
      "168/168 [==============================] - 20s 120ms/step - loss: 0.1175\n",
      "Epoch 142/150\n",
      "168/168 [==============================] - 21s 123ms/step - loss: 0.1161\n",
      "Epoch 143/150\n",
      "168/168 [==============================] - 21s 128ms/step - loss: 0.1165\n",
      "Epoch 144/150\n",
      "168/168 [==============================] - 22s 130ms/step - loss: 0.1157\n",
      "Epoch 145/150\n",
      "168/168 [==============================] - 21s 123ms/step - loss: 0.1159\n",
      "Epoch 146/150\n",
      "168/168 [==============================] - 21s 126ms/step - loss: 0.1164\n",
      "Epoch 147/150\n",
      "168/168 [==============================] - 21s 128ms/step - loss: 0.1166\n",
      "Epoch 148/150\n",
      "168/168 [==============================] - 21s 124ms/step - loss: 0.1162\n",
      "Epoch 149/150\n",
      "168/168 [==============================] - 20s 120ms/step - loss: 0.1167\n",
      "Epoch 150/150\n",
      "168/168 [==============================] - 21s 123ms/step - loss: 0.1164\n"
     ]
    }
   ],
   "source": [
    "hist = autoencoder.fit(X_train, X_train,epochs=150)"
   ]
  },
  {
   "cell_type": "code",
   "execution_count": 5,
   "id": "e837ce8a",
   "metadata": {},
   "outputs": [],
   "source": [
    "train_loss+=hist.history[\"loss\"]"
   ]
  },
  {
   "cell_type": "code",
   "execution_count": 6,
   "id": "ed156905",
   "metadata": {},
   "outputs": [
    {
     "data": {
      "image/png": "[encoded data removed]",
      "text/plain": [
       "<Figure size 432x288 with 1 Axes>"
      ]
     },
     "metadata": {},
     "output_type": "display_data"
    }
   ],
   "source": [
    "plt.plot(train_loss)\n",
    "plt.show()"
   ]
  },
  {
   "cell_type": "markdown",
   "id": "8f8bdfef",
   "metadata": {},
   "source": [
    "# Saving "
   ]
  },
  {
   "cell_type": "code",
   "execution_count": 8,
   "id": "63e8ed6e",
   "metadata": {},
   "outputs": [],
   "source": [
    "autoencoder.save(cfg[\"models\"][\"autoencoder\"] + f\"{model_name}\")"
   ]
  },
  {
   "cell_type": "code",
   "execution_count": 10,
   "id": "e39567e4",
   "metadata": {},
   "outputs": [],
   "source": [
    "np.save(file = cfg[\"models\"][\"autoencoder\"]+ f\"{model_name}_train_loss\", arr = np.array(train_loss))"
   ]
  },
  {
   "cell_type": "markdown",
   "id": "fe029b5e",
   "metadata": {},
   "source": [
    "# testing "
   ]
  },
  {
   "cell_type": "code",
   "execution_count": 31,
   "id": "103ca2d0",
   "metadata": {},
   "outputs": [
    {
     "name": "stdout",
     "output_type": "stream",
     "text": [
      "MSE train : 0.6656895960779817 \n",
      "MSE test  : 0.672439797862461\n"
     ]
    }
   ],
   "source": [
    "def mean_squared_error(x,y):\n",
    "    return np.sum((x-y)**2)/x.size\n",
    "\n",
    "train_pred = autoencoder(X_train).numpy()\n",
    "test_pred  = autoencoder(X_test).numpy()\n",
    "\n",
    "print(f\"MSE train : {mean_squared_error(train_pred,X_train)} \\nMSE test  : {mean_squared_error(test_pred,X_test)}\")"
   ]
  },
  {
   "cell_type": "code",
   "execution_count": null,
   "id": "31366195",
   "metadata": {},
   "outputs": [],
   "source": []
  }
 ],
 "metadata": {
  "kernelspec": {
   "display_name": "Python 3 (ipykernel)",
   "language": "python",
   "name": "python3"
  },
  "language_info": {
   "codemirror_mode": {
    "name": "ipython",
    "version": 3
   },
   "file_extension": ".py",
   "mimetype": "text/x-python",
   "name": "python",
   "nbconvert_exporter": "python",
   "pygments_lexer": "ipython3",
   "version": "3.7.7"
  }
 },
 "nbformat": 4,
 "nbformat_minor": 5
}
