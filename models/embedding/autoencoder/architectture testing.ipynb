{
 "cells": [
  {
   "cell_type": "code",
   "execution_count": 50,
   "id": "316e97b7",
   "metadata": {},
   "outputs": [
    {
     "name": "stdout",
     "output_type": "stream",
     "text": [
      "The autoreload extension is already loaded. To reload it, use:\n",
      "  %reload_ext autoreload\n"
     ]
    }
   ],
   "source": [
    "import numpy as np\n",
    "import pandas as pd\n",
    "import matplotlib.pyplot as plt\n",
    "import plotly.express as px\n",
    "from plotly.subplots import make_subplots\n",
    "import plotly.graph_objects as go\n",
    "%load_ext autoreload\n",
    "%autoreload 2\n",
    "plt.style.use('ggplot')\n",
    "import sys \n",
    "import os\n",
    "sys.path.append('/'.join(os.getcwd().split('/')[:4]))\n",
    "from config.get import cfg\n",
    "from tensorflow import keras\n",
    "from tensorflow.keras import layers\n",
    "import autoencoders"
   ]
  },
  {
   "cell_type": "markdown",
   "id": "240338a1",
   "metadata": {},
   "source": [
    "# Loaidng data"
   ]
  },
  {
   "cell_type": "code",
   "execution_count": 51,
   "id": "d57fb1e3",
   "metadata": {},
   "outputs": [
    {
     "name": "stdout",
     "output_type": "stream",
     "text": [
      "shapes : X_train=(5355, 3, 600, 2),X_test=(1339, 3, 600, 2)\n"
     ]
    }
   ],
   "source": [
    "X_train = np.load(cfg['files'][\"raw_train_features\"])\n",
    "X_test  = np.load(cfg['files'][\"raw_test_features\"])\n",
    "print(f\"shapes : X_train={X_train.shape},X_test={X_test.shape}\")"
   ]
  },
  {
   "cell_type": "markdown",
   "id": "5b48d7f9",
   "metadata": {},
   "source": [
    "# Loading model"
   ]
  },
  {
   "cell_type": "code",
   "execution_count": 52,
   "id": "b09a76d5",
   "metadata": {
    "scrolled": true
   },
   "outputs": [
    {
     "name": "stdout",
     "output_type": "stream",
     "text": [
      "Model: \"model_9\"\n",
      "_________________________________________________________________\n",
      " Layer (type)                Output Shape              Param #   \n",
      "=================================================================\n",
      " input_10 (InputLayer)       [(None, 3, 600, 2)]       0         \n",
      "                                                                 \n",
      " reshape_14 (Reshape)        (None, 3600)              0         \n",
      "                                                                 \n",
      " dense_32 (Dense)            (None, 600)               2160600   \n",
      "                                                                 \n",
      " dense_33 (Dense)            (None, 100)               60100     \n",
      "                                                                 \n",
      " dense_34 (Dense)            (None, 600)               60600     \n",
      "                                                                 \n",
      " dense_35 (Dense)            (None, 3600)              2163600   \n",
      "                                                                 \n",
      " reshape_15 (Reshape)        (None, 3, 600, 2)         0         \n",
      "                                                                 \n",
      "=================================================================\n",
      "Total params: 4,444,900\n",
      "Trainable params: 4,444,900\n",
      "Non-trainable params: 0\n",
      "_________________________________________________________________\n"
     ]
    }
   ],
   "source": [
    "\n",
    "model_name,autoencoder = autoencoders.fully_connected_3L()\n",
    "autoencoder.summary()"
   ]
  },
  {
   "cell_type": "code",
   "execution_count": null,
   "id": "c23e9cca",
   "metadata": {},
   "outputs": [
    {
     "name": "stdout",
     "output_type": "stream",
     "text": [
      "Epoch 1/150\n",
      "168/168 [==============================] - 19s 111ms/step - loss: 0.3068\n",
      "Epoch 2/150\n",
      "168/168 [==============================] - 18s 108ms/step - loss: 0.1770\n",
      "Epoch 3/150\n",
      "168/168 [==============================] - 18s 110ms/step - loss: 0.1512\n",
      "Epoch 4/150\n",
      "168/168 [==============================] - 18s 109ms/step - loss: 0.1406\n",
      "Epoch 5/150\n",
      "168/168 [==============================] - 18s 108ms/step - loss: 0.1300\n",
      "Epoch 6/150\n",
      "168/168 [==============================] - 18s 108ms/step - loss: 0.1263\n",
      "Epoch 7/150\n",
      "168/168 [==============================] - 18s 108ms/step - loss: 0.1161\n",
      "Epoch 8/150\n",
      "168/168 [==============================] - 18s 107ms/step - loss: 0.1165\n",
      "Epoch 9/150\n",
      "168/168 [==============================] - 18s 108ms/step - loss: 0.1125\n",
      "Epoch 10/150\n",
      "168/168 [==============================] - 18s 108ms/step - loss: 0.1105\n",
      "Epoch 11/150\n",
      "168/168 [==============================] - 18s 109ms/step - loss: 0.1051\n",
      "Epoch 12/150\n",
      "168/168 [==============================] - 18s 109ms/step - loss: 0.1059\n",
      "Epoch 13/150\n",
      "168/168 [==============================] - 18s 109ms/step - loss: 0.1092\n",
      "Epoch 14/150\n",
      "168/168 [==============================] - 18s 110ms/step - loss: 0.1079\n",
      "Epoch 15/150\n",
      "168/168 [==============================] - 19s 110ms/step - loss: 0.1000\n",
      "Epoch 16/150\n",
      "168/168 [==============================] - 18s 109ms/step - loss: 0.1108\n",
      "Epoch 17/150\n",
      "168/168 [==============================] - 18s 108ms/step - loss: 0.0964\n",
      "Epoch 18/150\n",
      "168/168 [==============================] - 18s 108ms/step - loss: 0.0967\n",
      "Epoch 19/150\n",
      "168/168 [==============================] - 18s 109ms/step - loss: 0.1019\n",
      "Epoch 20/150\n",
      "168/168 [==============================] - 18s 108ms/step - loss: 0.0949\n",
      "Epoch 21/150\n",
      "168/168 [==============================] - 18s 109ms/step - loss: 0.0924\n",
      "Epoch 22/150\n",
      "168/168 [==============================] - 18s 107ms/step - loss: 0.0917\n",
      "Epoch 23/150\n",
      "168/168 [==============================] - 18s 109ms/step - loss: 0.0904\n",
      "Epoch 24/150\n",
      "168/168 [==============================] - 19s 110ms/step - loss: 0.0901\n",
      "Epoch 25/150\n",
      "168/168 [==============================] - 18s 110ms/step - loss: 0.0947\n",
      "Epoch 26/150\n",
      "168/168 [==============================] - 18s 110ms/step - loss: 0.0884\n",
      "Epoch 27/150\n",
      "168/168 [==============================] - 18s 109ms/step - loss: 0.0936\n",
      "Epoch 28/150\n",
      "168/168 [==============================] - 18s 108ms/step - loss: 0.0874\n",
      "Epoch 29/150\n",
      "168/168 [==============================] - 18s 109ms/step - loss: 0.0890\n",
      "Epoch 30/150\n",
      "168/168 [==============================] - 18s 108ms/step - loss: 0.0859\n",
      "Epoch 31/150\n",
      "168/168 [==============================] - 18s 109ms/step - loss: 0.0853\n",
      "Epoch 32/150\n",
      "168/168 [==============================] - 18s 108ms/step - loss: 0.0831\n",
      "Epoch 33/150\n",
      "168/168 [==============================] - 18s 108ms/step - loss: 0.1126\n",
      "Epoch 34/150\n",
      "168/168 [==============================] - 18s 109ms/step - loss: 0.0941\n",
      "Epoch 35/150\n",
      "168/168 [==============================] - 18s 109ms/step - loss: 0.0853\n",
      "Epoch 36/150\n",
      "168/168 [==============================] - 18s 109ms/step - loss: 0.0816\n",
      "Epoch 37/150\n",
      "168/168 [==============================] - 18s 107ms/step - loss: 0.0838\n",
      "Epoch 38/150\n",
      "168/168 [==============================] - 18s 109ms/step - loss: 0.0822\n",
      "Epoch 39/150\n",
      "168/168 [==============================] - 18s 109ms/step - loss: 0.0834\n",
      "Epoch 40/150\n",
      "168/168 [==============================] - 18s 110ms/step - loss: 0.0811\n",
      "Epoch 41/150\n",
      " 81/168 [=============>................] - ETA: 9s - loss: 0.0797"
     ]
    }
   ],
   "source": [
    "hist = autoencoder.fit(X_train, X_train,epochs=150)"
   ]
  },
  {
   "cell_type": "code",
   "execution_count": 48,
   "id": "ed156905",
   "metadata": {},
   "outputs": [
    {
     "data": {
      "image/png": "[encoded data removed]",
      "text/plain": [
       "<Figure size 432x288 with 1 Axes>"
      ]
     },
     "metadata": {},
     "output_type": "display_data"
    }
   ],
   "source": [
    "plt.plot(hist.history[\"loss\"])\n",
    "plt.show()"
   ]
  },
  {
   "cell_type": "markdown",
   "id": "8f8bdfef",
   "metadata": {},
   "source": [
    "# Saving "
   ]
  },
  {
   "cell_type": "code",
   "execution_count": 30,
   "id": "63e8ed6e",
   "metadata": {},
   "outputs": [],
   "source": [
    "autoencoder.save(cfg[\"models\"][\"autoencoder\"] + f\"/{model_name}\")"
   ]
  },
  {
   "cell_type": "code",
   "execution_count": 26,
   "id": "e39567e4",
   "metadata": {},
   "outputs": [
    {
     "data": {
      "text/plain": [
       "'CNN'"
      ]
     },
     "execution_count": 26,
     "metadata": {},
     "output_type": "execute_result"
    }
   ],
   "source": [
    "model_name"
   ]
  },
  {
   "cell_type": "markdown",
   "id": "fe029b5e",
   "metadata": {},
   "source": [
    "# testing "
   ]
  },
  {
   "cell_type": "code",
   "execution_count": 31,
   "id": "103ca2d0",
   "metadata": {},
   "outputs": [
    {
     "name": "stdout",
     "output_type": "stream",
     "text": [
      "MSE train : 0.6656895960779817 \n",
      "MSE test  : 0.672439797862461\n"
     ]
    }
   ],
   "source": [
    "def mean_squared_error(x,y):\n",
    "    return np.sum((x-y)**2)/x.size\n",
    "\n",
    "train_pred = autoencoder(X_train).numpy()\n",
    "test_pred  = autoencoder(X_test).numpy()\n",
    "\n",
    "print(f\"MSE train : {mean_squared_error(train_pred,X_train)} \\nMSE test  : {mean_squared_error(test_pred,X_test)}\")"
   ]
  },
  {
   "cell_type": "code",
   "execution_count": null,
   "id": "31366195",
   "metadata": {},
   "outputs": [],
   "source": []
  }
 ],
 "metadata": {
  "kernelspec": {
   "display_name": "Python 3 (ipykernel)",
   "language": "python",
   "name": "python3"
  },
  "language_info": {
   "codemirror_mode": {
    "name": "ipython",
    "version": 3
   },
   "file_extension": ".py",
   "mimetype": "text/x-python",
   "name": "python",
   "nbconvert_exporter": "python",
   "pygments_lexer": "ipython3",
   "version": "3.7.7"
  }
 },
 "nbformat": 4,
 "nbformat_minor": 5
}
