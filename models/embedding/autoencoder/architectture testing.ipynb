{
 "cells": [
  {
   "cell_type": "code",
   "execution_count": 34,
   "id": "316e97b7",
   "metadata": {},
   "outputs": [
    {
     "name": "stdout",
     "output_type": "stream",
     "text": [
      "The autoreload extension is already loaded. To reload it, use:\n",
      "  %reload_ext autoreload\n"
     ]
    }
   ],
   "source": [
    "import numpy as np\n",
    "import pandas as pd\n",
    "import matplotlib.pyplot as plt\n",
    "import plotly.express as px\n",
    "from plotly.subplots import make_subplots\n",
    "import plotly.graph_objects as go\n",
    "%load_ext autoreload\n",
    "%autoreload 2\n",
    "plt.style.use('ggplot')\n",
    "import sys \n",
    "import os\n",
    "sys.path.append('/'.join(os.getcwd().split('/')[:4]))\n",
    "from config.get import cfg\n",
    "from tensorflow import keras\n",
    "from tensorflow.keras import layers\n",
    "import autoencoders"
   ]
  },
  {
   "cell_type": "markdown",
   "id": "240338a1",
   "metadata": {},
   "source": [
    "# Loaidng data"
   ]
  },
  {
   "cell_type": "code",
   "execution_count": 35,
   "id": "d57fb1e3",
   "metadata": {},
   "outputs": [
    {
     "name": "stdout",
     "output_type": "stream",
     "text": [
      "shapes : X_train=(4856, 3, 600, 2),X_test=(1213, 3, 600, 2)\n"
     ]
    }
   ],
   "source": [
    "X_train = np.load(cfg['files'][\"raw_train_features\"])\n",
    "X_test  = np.load(cfg['files'][\"raw_test_features\"])\n",
    "print(f\"shapes : X_train={X_train.shape},X_test={X_test.shape}\")"
   ]
  },
  {
   "cell_type": "code",
   "execution_count": 41,
   "id": "333bb038",
   "metadata": {},
   "outputs": [
    {
     "data": {
      "text/plain": [
       "((4856,), (1213,))"
      ]
     },
     "execution_count": 41,
     "metadata": {},
     "output_type": "execute_result"
    }
   ],
   "source": [
    "\n",
    "np.load(cfg['files'][\"train_ids\"]).shape ,np.load(cfg['files'][\"test_ids\"]).shape"
   ]
  },
  {
   "cell_type": "code",
   "execution_count": 42,
   "id": "2ed873cf",
   "metadata": {},
   "outputs": [
    {
     "data": {
      "text/plain": [
       "{'directories': {'data_dir': '/home/kapps/dex-cyclic-arbitrage/data/',\n",
       "  'uniswap_raw_data': '/home/kapps/dex-cyclic-arbitrage/data/uniswap_raw_data/',\n",
       "  'ML_features': '/home/kapps/dex-cyclic-arbitrage/data/ML_features/'},\n",
       " 'fig_dir': {'clustering': '/home/kapps/dex-cyclic-arbitrage/figures/clustering/',\n",
       "  'data_exploration': '/home/kapps/dex-cyclic-arbitrage/figures/data_exploration/',\n",
       "  'embedding': '/home/kapps/dex-cyclic-arbitrage/figures/embedding/'},\n",
       " 'files': {'cycles_in_Uniswap': '/home/kapps/dex-cyclic-arbitrage/data/cycles_in_Uniswap.json',\n",
       "  'preprocessed_data': '/home/kapps/dex-cyclic-arbitrage/data/uniswap_data.csv',\n",
       "  'raw_test_features': '/home/kapps/dex-cyclic-arbitrage/data/ML_features/raw_test_features.npy',\n",
       "  'raw_train_features': '/home/kapps/dex-cyclic-arbitrage/data/ML_features/raw_train_features.npy',\n",
       "  'test_ids': '/home/kapps/dex-cyclic-arbitrage/data/ML_features/test_ids.npy',\n",
       "  'train_ids': '/home/kapps/dex-cyclic-arbitrage/data/ML_features/train_ids.npy',\n",
       "  'encoded_test_features': '/home/kapps/dex-cyclic-arbitrage/data/ML_features/encoded_test_features.npy',\n",
       "  'encoded_train_features': '/home/kapps/dex-cyclic-arbitrage/data/ML_features/encoded_train_features.npy',\n",
       "  'cycle_ids': '/home/kapps/dex-cyclic-arbitrage/data/ML_features/cycle_ids.npy',\n",
       "  'all_cycles': '/home/kapps/dex-cyclic-arbitrage/data/cycles_in_Uniswap.json',\n",
       "  'filtered_cycles': '/home/kapps/dex-cyclic-arbitrage/data/filtered_cycles.json',\n",
       "  'features': '/home/kapps/dex-cyclic-arbitrage/data/features.csv',\n",
       "  'features_train': '/home/kapps/dex-cyclic-arbitrage/data/features_train.csv',\n",
       "  'features_test': '/home/kapps/dex-cyclic-arbitrage/data/features_test.csv'},\n",
       " 'biquery': {'API_KEY1': '/home/kapps/dex-cyclic-arbitrage/BQYd6qf95gjz6MU3FTP9yQegkGVkuQ4r',\n",
       "  'API_KEY2': '/home/kapps/dex-cyclic-arbitrage/BQYt1q57Typ8HsY7nxzqsGzmKA0u7FzS'},\n",
       " 'models': {'autoencoder': '/home/kapps/dex-cyclic-arbitrage//models/embedding/autoencoder/results'}}"
      ]
     },
     "execution_count": 42,
     "metadata": {},
     "output_type": "execute_result"
    }
   ],
   "source": [
    "cfg"
   ]
  },
  {
   "cell_type": "markdown",
   "id": "5b48d7f9",
   "metadata": {},
   "source": [
    "# Loading model"
   ]
  },
  {
   "cell_type": "code",
   "execution_count": 36,
   "id": "5554ddc2",
   "metadata": {},
   "outputs": [],
   "source": [
    "def CNN_and_FC():\n",
    "    model_name = \"CNN_and_FC\"\n",
    "    # build encoder\n",
    "    input_img = keras.Input(shape=(3,600, 2))\n",
    "   \n",
    "    x = layers.Conv2D(8, (3, 3), activation='elu', padding='same')(input_img)\n",
    "    x = layers.MaxPooling2D((3, 3), padding='same')(x)\n",
    "    x = layers.Conv2D(4, (3, 3), activation='elu', padding='same')(x)\n",
    "    x = layers.MaxPooling2D((2, 2), padding='same')(x)\n",
    "    \n",
    "    encoded = layers.Conv2D(1, (2, 2), activation='elu', padding='same')(x)\n",
    "    x = layers.Dense(np.array([1, 200, 1]),  activation='elu')(encoded)\n",
    "    # build decoder\n",
    "    x = layers.Conv2D(4, (2, 2), activation='elu', padding='same')(x)\n",
    "    x = layers.UpSampling2D((1, 2))(x)\n",
    "    x = layers.Conv2D(8, (3, 3), activation='elu', padding='same')(x)\n",
    "    x = layers.UpSampling2D((3, 3))(x)\n",
    "    decoded = layers.Conv2D(2, (3, 3), activation='elu', padding='same')(x)\n",
    "    # combine encoder and decoder\n",
    "    autoencoder = keras.Model(input_img, decoded)\n",
    "    autoencoder.compile(optimizer='adam', loss='mean_squared_error',)\n",
    "    return model_name, autoencoder"
   ]
  },
  {
   "cell_type": "code",
   "execution_count": 37,
   "id": "0a222dcb",
   "metadata": {},
   "outputs": [],
   "source": [
    "def fully_connected_5L():\n",
    "    model_name = \"fully_connected_5L\"\n",
    "    in_shape = (3,600, 2) \n",
    "    # build encoder\n",
    "    input_layer = keras.Input(shape=in_shape)\n",
    "    x = layers.Reshape([in_shape[0]*in_shape[1]*in_shape[2]])(input_layer)\n",
    "    x = layers.Dense(1200,  activation='elu')(x)\n",
    "    x = layers.Dense(600,  activation='elu')(x)\n",
    "    x = layers.Dense(100,  activation='elu')(x)\n",
    "    x = layers.Dense(600,  activation='elu')(x)\n",
    "    x = layers.Dense(1200,  activation='elu')(x)\n",
    "    x = layers.Dense(in_shape[0]*in_shape[1]*in_shape[2],  activation='elu')(x)\n",
    "    output_layer =layers.Reshape(in_shape)(x)\n",
    "    \n",
    "    \n",
    "    # combine encoder and decoder\n",
    "    autoencoder = keras.Model(input_layer, output_layer)\n",
    "    autoencoder.compile(optimizer='adam', loss='mean_squared_error',)\n",
    "    return model_name ,autoencoder\n",
    "def fully_connected_5L():\n",
    "    model_name = \"fully_connected_5L\"\n",
    "    in_shape = (3,600, 2) \n",
    "    # build encoder\n",
    "    input_layer = keras.Input(shape=in_shape)\n",
    "    x = layers.Reshape([in_shape[0]*in_shape[1]*in_shape[2]])(input_layer)\n",
    "    x = layers.Dense(1200,  activation='elu')(x)\n",
    "    x = layers.Dense(600,  activation='elu')(x)\n",
    "    x = layers.Dense(100,  activation='elu')(x)\n",
    "    x = layers.Dense(600,  activation='elu')(x)\n",
    "    x = layers.Dense(1200,  activation='elu')(x)\n",
    "    x = layers.Dense(in_shape[0]*in_shape[1]*in_shape[2],  activation='elu')(x)\n",
    "    output_layer =layers.Reshape(in_shape)(x)\n",
    "    \n",
    "    \n",
    "    # combine encoder and decoder\n",
    "    autoencoder = keras.Model(input_layer, output_layer)\n",
    "    autoencoder.compile(optimizer='adam', loss='mean_squared_error',)\n",
    "    return model_name ,autoencoder"
   ]
  },
  {
   "cell_type": "code",
   "execution_count": 38,
   "id": "b09a76d5",
   "metadata": {
    "scrolled": true
   },
   "outputs": [
    {
     "name": "stdout",
     "output_type": "stream",
     "text": [
      "Model: \"model_6\"\n",
      "_________________________________________________________________\n",
      " Layer (type)                Output Shape              Param #   \n",
      "=================================================================\n",
      " input_7 (InputLayer)        [(None, 3, 600, 2)]       0         \n",
      "                                                                 \n",
      " reshape_8 (Reshape)         (None, 3600)              0         \n",
      "                                                                 \n",
      " dense_18 (Dense)            (None, 1200)              4321200   \n",
      "                                                                 \n",
      " dense_19 (Dense)            (None, 600)               720600    \n",
      "                                                                 \n",
      " dense_20 (Dense)            (None, 100)               60100     \n",
      "                                                                 \n",
      " dense_21 (Dense)            (None, 600)               60600     \n",
      "                                                                 \n",
      " dense_22 (Dense)            (None, 1200)              721200    \n",
      "                                                                 \n",
      " dense_23 (Dense)            (None, 3600)              4323600   \n",
      "                                                                 \n",
      " reshape_9 (Reshape)         (None, 3, 600, 2)         0         \n",
      "                                                                 \n",
      "=================================================================\n",
      "Total params: 10,207,300\n",
      "Trainable params: 10,207,300\n",
      "Non-trainable params: 0\n",
      "_________________________________________________________________\n"
     ]
    }
   ],
   "source": [
    "\n",
    "model_name,autoencoder = fully_connected_5L()\n",
    "autoencoder.summary()"
   ]
  },
  {
   "cell_type": "code",
   "execution_count": 39,
   "id": "c23e9cca",
   "metadata": {},
   "outputs": [
    {
     "name": "stdout",
     "output_type": "stream",
     "text": [
      "Epoch 1/80\n",
      "152/152 [==============================] - 32s 209ms/step - loss: 0.2871\n",
      "Epoch 2/80\n",
      "152/152 [==============================] - 31s 206ms/step - loss: 0.1776\n",
      "Epoch 3/80\n",
      "152/152 [==============================] - 32s 209ms/step - loss: 0.1558\n",
      "Epoch 4/80\n",
      "152/152 [==============================] - 30s 195ms/step - loss: 0.1395\n",
      "Epoch 5/80\n",
      "152/152 [==============================] - 32s 208ms/step - loss: 0.1280\n",
      "Epoch 6/80\n",
      "152/152 [==============================] - 32s 209ms/step - loss: 0.1220\n",
      "Epoch 7/80\n",
      "152/152 [==============================] - 32s 211ms/step - loss: 0.1178\n",
      "Epoch 8/80\n",
      "152/152 [==============================] - 32s 207ms/step - loss: 0.1135\n",
      "Epoch 9/80\n",
      "152/152 [==============================] - 31s 205ms/step - loss: 0.1090\n",
      "Epoch 10/80\n",
      "152/152 [==============================] - 32s 208ms/step - loss: 0.1053\n",
      "Epoch 11/80\n",
      "152/152 [==============================] - 32s 208ms/step - loss: 0.1034\n",
      "Epoch 12/80\n",
      "152/152 [==============================] - 31s 207ms/step - loss: 0.1013\n",
      "Epoch 13/80\n",
      "152/152 [==============================] - 31s 207ms/step - loss: 0.0993\n",
      "Epoch 14/80\n",
      "152/152 [==============================] - 31s 207ms/step - loss: 0.0959\n",
      "Epoch 15/80\n",
      "152/152 [==============================] - 32s 208ms/step - loss: 0.0953\n",
      "Epoch 16/80\n",
      "152/152 [==============================] - 32s 208ms/step - loss: 0.0935\n",
      "Epoch 17/80\n",
      "152/152 [==============================] - 32s 208ms/step - loss: 0.0909\n",
      "Epoch 18/80\n",
      " 22/152 [===>..........................] - ETA: 26s - loss: 0.0883"
     ]
    },
    {
     "ename": "KeyboardInterrupt",
     "evalue": "",
     "output_type": "error",
     "traceback": [
      "\u001b[0;31m---------------------------------------------------------------------------\u001b[0m",
      "\u001b[0;31mKeyboardInterrupt\u001b[0m                         Traceback (most recent call last)",
      "\u001b[0;32m/tmp/ipykernel_32668/4062890879.py\u001b[0m in \u001b[0;36m<module>\u001b[0;34m\u001b[0m\n\u001b[0;32m----> 1\u001b[0;31m \u001b[0mhist\u001b[0m \u001b[0;34m=\u001b[0m \u001b[0mautoencoder\u001b[0m\u001b[0;34m.\u001b[0m\u001b[0mfit\u001b[0m\u001b[0;34m(\u001b[0m\u001b[0mX_train\u001b[0m\u001b[0;34m,\u001b[0m \u001b[0mX_train\u001b[0m\u001b[0;34m,\u001b[0m\u001b[0mepochs\u001b[0m\u001b[0;34m=\u001b[0m\u001b[0;36m80\u001b[0m\u001b[0;34m)\u001b[0m\u001b[0;34m\u001b[0m\u001b[0;34m\u001b[0m\u001b[0m\n\u001b[0m",
      "\u001b[0;32m~/opt/venv-gcc/lib/python3.7/site-packages/keras/utils/traceback_utils.py\u001b[0m in \u001b[0;36merror_handler\u001b[0;34m(*args, **kwargs)\u001b[0m\n\u001b[1;32m     62\u001b[0m     \u001b[0mfiltered_tb\u001b[0m \u001b[0;34m=\u001b[0m \u001b[0;32mNone\u001b[0m\u001b[0;34m\u001b[0m\u001b[0;34m\u001b[0m\u001b[0m\n\u001b[1;32m     63\u001b[0m     \u001b[0;32mtry\u001b[0m\u001b[0;34m:\u001b[0m\u001b[0;34m\u001b[0m\u001b[0;34m\u001b[0m\u001b[0m\n\u001b[0;32m---> 64\u001b[0;31m       \u001b[0;32mreturn\u001b[0m \u001b[0mfn\u001b[0m\u001b[0;34m(\u001b[0m\u001b[0;34m*\u001b[0m\u001b[0margs\u001b[0m\u001b[0;34m,\u001b[0m \u001b[0;34m**\u001b[0m\u001b[0mkwargs\u001b[0m\u001b[0;34m)\u001b[0m\u001b[0;34m\u001b[0m\u001b[0;34m\u001b[0m\u001b[0m\n\u001b[0m\u001b[1;32m     65\u001b[0m     \u001b[0;32mexcept\u001b[0m \u001b[0mException\u001b[0m \u001b[0;32mas\u001b[0m \u001b[0me\u001b[0m\u001b[0;34m:\u001b[0m  \u001b[0;31m# pylint: disable=broad-except\u001b[0m\u001b[0;34m\u001b[0m\u001b[0;34m\u001b[0m\u001b[0m\n\u001b[1;32m     66\u001b[0m       \u001b[0mfiltered_tb\u001b[0m \u001b[0;34m=\u001b[0m \u001b[0m_process_traceback_frames\u001b[0m\u001b[0;34m(\u001b[0m\u001b[0me\u001b[0m\u001b[0;34m.\u001b[0m\u001b[0m__traceback__\u001b[0m\u001b[0;34m)\u001b[0m\u001b[0;34m\u001b[0m\u001b[0;34m\u001b[0m\u001b[0m\n",
      "\u001b[0;32m~/opt/venv-gcc/lib/python3.7/site-packages/keras/engine/training.py\u001b[0m in \u001b[0;36mfit\u001b[0;34m(self, x, y, batch_size, epochs, verbose, callbacks, validation_split, validation_data, shuffle, class_weight, sample_weight, initial_epoch, steps_per_epoch, validation_steps, validation_batch_size, validation_freq, max_queue_size, workers, use_multiprocessing)\u001b[0m\n\u001b[1;32m   1214\u001b[0m                 _r=1):\n\u001b[1;32m   1215\u001b[0m               \u001b[0mcallbacks\u001b[0m\u001b[0;34m.\u001b[0m\u001b[0mon_train_batch_begin\u001b[0m\u001b[0;34m(\u001b[0m\u001b[0mstep\u001b[0m\u001b[0;34m)\u001b[0m\u001b[0;34m\u001b[0m\u001b[0;34m\u001b[0m\u001b[0m\n\u001b[0;32m-> 1216\u001b[0;31m               \u001b[0mtmp_logs\u001b[0m \u001b[0;34m=\u001b[0m \u001b[0mself\u001b[0m\u001b[0;34m.\u001b[0m\u001b[0mtrain_function\u001b[0m\u001b[0;34m(\u001b[0m\u001b[0miterator\u001b[0m\u001b[0;34m)\u001b[0m\u001b[0;34m\u001b[0m\u001b[0;34m\u001b[0m\u001b[0m\n\u001b[0m\u001b[1;32m   1217\u001b[0m               \u001b[0;32mif\u001b[0m \u001b[0mdata_handler\u001b[0m\u001b[0;34m.\u001b[0m\u001b[0mshould_sync\u001b[0m\u001b[0;34m:\u001b[0m\u001b[0;34m\u001b[0m\u001b[0;34m\u001b[0m\u001b[0m\n\u001b[1;32m   1218\u001b[0m                 \u001b[0mcontext\u001b[0m\u001b[0;34m.\u001b[0m\u001b[0masync_wait\u001b[0m\u001b[0;34m(\u001b[0m\u001b[0;34m)\u001b[0m\u001b[0;34m\u001b[0m\u001b[0;34m\u001b[0m\u001b[0m\n",
      "\u001b[0;32m~/opt/venv-gcc/lib/python3.7/site-packages/tensorflow/python/util/traceback_utils.py\u001b[0m in \u001b[0;36merror_handler\u001b[0;34m(*args, **kwargs)\u001b[0m\n\u001b[1;32m    148\u001b[0m     \u001b[0mfiltered_tb\u001b[0m \u001b[0;34m=\u001b[0m \u001b[0;32mNone\u001b[0m\u001b[0;34m\u001b[0m\u001b[0;34m\u001b[0m\u001b[0m\n\u001b[1;32m    149\u001b[0m     \u001b[0;32mtry\u001b[0m\u001b[0;34m:\u001b[0m\u001b[0;34m\u001b[0m\u001b[0;34m\u001b[0m\u001b[0m\n\u001b[0;32m--> 150\u001b[0;31m       \u001b[0;32mreturn\u001b[0m \u001b[0mfn\u001b[0m\u001b[0;34m(\u001b[0m\u001b[0;34m*\u001b[0m\u001b[0margs\u001b[0m\u001b[0;34m,\u001b[0m \u001b[0;34m**\u001b[0m\u001b[0mkwargs\u001b[0m\u001b[0;34m)\u001b[0m\u001b[0;34m\u001b[0m\u001b[0;34m\u001b[0m\u001b[0m\n\u001b[0m\u001b[1;32m    151\u001b[0m     \u001b[0;32mexcept\u001b[0m \u001b[0mException\u001b[0m \u001b[0;32mas\u001b[0m \u001b[0me\u001b[0m\u001b[0;34m:\u001b[0m\u001b[0;34m\u001b[0m\u001b[0;34m\u001b[0m\u001b[0m\n\u001b[1;32m    152\u001b[0m       \u001b[0mfiltered_tb\u001b[0m \u001b[0;34m=\u001b[0m \u001b[0m_process_traceback_frames\u001b[0m\u001b[0;34m(\u001b[0m\u001b[0me\u001b[0m\u001b[0;34m.\u001b[0m\u001b[0m__traceback__\u001b[0m\u001b[0;34m)\u001b[0m\u001b[0;34m\u001b[0m\u001b[0;34m\u001b[0m\u001b[0m\n",
      "\u001b[0;32m~/opt/venv-gcc/lib/python3.7/site-packages/tensorflow/python/eager/def_function.py\u001b[0m in \u001b[0;36m__call__\u001b[0;34m(self, *args, **kwds)\u001b[0m\n\u001b[1;32m    908\u001b[0m \u001b[0;34m\u001b[0m\u001b[0m\n\u001b[1;32m    909\u001b[0m       \u001b[0;32mwith\u001b[0m \u001b[0mOptionalXlaContext\u001b[0m\u001b[0;34m(\u001b[0m\u001b[0mself\u001b[0m\u001b[0;34m.\u001b[0m\u001b[0m_jit_compile\u001b[0m\u001b[0;34m)\u001b[0m\u001b[0;34m:\u001b[0m\u001b[0;34m\u001b[0m\u001b[0;34m\u001b[0m\u001b[0m\n\u001b[0;32m--> 910\u001b[0;31m         \u001b[0mresult\u001b[0m \u001b[0;34m=\u001b[0m \u001b[0mself\u001b[0m\u001b[0;34m.\u001b[0m\u001b[0m_call\u001b[0m\u001b[0;34m(\u001b[0m\u001b[0;34m*\u001b[0m\u001b[0margs\u001b[0m\u001b[0;34m,\u001b[0m \u001b[0;34m**\u001b[0m\u001b[0mkwds\u001b[0m\u001b[0;34m)\u001b[0m\u001b[0;34m\u001b[0m\u001b[0;34m\u001b[0m\u001b[0m\n\u001b[0m\u001b[1;32m    911\u001b[0m \u001b[0;34m\u001b[0m\u001b[0m\n\u001b[1;32m    912\u001b[0m       \u001b[0mnew_tracing_count\u001b[0m \u001b[0;34m=\u001b[0m \u001b[0mself\u001b[0m\u001b[0;34m.\u001b[0m\u001b[0mexperimental_get_tracing_count\u001b[0m\u001b[0;34m(\u001b[0m\u001b[0;34m)\u001b[0m\u001b[0;34m\u001b[0m\u001b[0;34m\u001b[0m\u001b[0m\n",
      "\u001b[0;32m~/opt/venv-gcc/lib/python3.7/site-packages/tensorflow/python/eager/def_function.py\u001b[0m in \u001b[0;36m_call\u001b[0;34m(self, *args, **kwds)\u001b[0m\n\u001b[1;32m    940\u001b[0m       \u001b[0;31m# In this case we have created variables on the first call, so we run the\u001b[0m\u001b[0;34m\u001b[0m\u001b[0;34m\u001b[0m\u001b[0;34m\u001b[0m\u001b[0m\n\u001b[1;32m    941\u001b[0m       \u001b[0;31m# defunned version which is guaranteed to never create variables.\u001b[0m\u001b[0;34m\u001b[0m\u001b[0;34m\u001b[0m\u001b[0;34m\u001b[0m\u001b[0m\n\u001b[0;32m--> 942\u001b[0;31m       \u001b[0;32mreturn\u001b[0m \u001b[0mself\u001b[0m\u001b[0;34m.\u001b[0m\u001b[0m_stateless_fn\u001b[0m\u001b[0;34m(\u001b[0m\u001b[0;34m*\u001b[0m\u001b[0margs\u001b[0m\u001b[0;34m,\u001b[0m \u001b[0;34m**\u001b[0m\u001b[0mkwds\u001b[0m\u001b[0;34m)\u001b[0m  \u001b[0;31m# pylint: disable=not-callable\u001b[0m\u001b[0;34m\u001b[0m\u001b[0;34m\u001b[0m\u001b[0m\n\u001b[0m\u001b[1;32m    943\u001b[0m     \u001b[0;32melif\u001b[0m \u001b[0mself\u001b[0m\u001b[0;34m.\u001b[0m\u001b[0m_stateful_fn\u001b[0m \u001b[0;32mis\u001b[0m \u001b[0;32mnot\u001b[0m \u001b[0;32mNone\u001b[0m\u001b[0;34m:\u001b[0m\u001b[0;34m\u001b[0m\u001b[0;34m\u001b[0m\u001b[0m\n\u001b[1;32m    944\u001b[0m       \u001b[0;31m# Release the lock early so that multiple threads can perform the call\u001b[0m\u001b[0;34m\u001b[0m\u001b[0;34m\u001b[0m\u001b[0;34m\u001b[0m\u001b[0m\n",
      "\u001b[0;32m~/opt/venv-gcc/lib/python3.7/site-packages/tensorflow/python/eager/function.py\u001b[0m in \u001b[0;36m__call__\u001b[0;34m(self, *args, **kwargs)\u001b[0m\n\u001b[1;32m   3129\u001b[0m        filtered_flat_args) = self._maybe_define_function(args, kwargs)\n\u001b[1;32m   3130\u001b[0m     return graph_function._call_flat(\n\u001b[0;32m-> 3131\u001b[0;31m         filtered_flat_args, captured_inputs=graph_function.captured_inputs)  # pylint: disable=protected-access\n\u001b[0m\u001b[1;32m   3132\u001b[0m \u001b[0;34m\u001b[0m\u001b[0m\n\u001b[1;32m   3133\u001b[0m   \u001b[0;34m@\u001b[0m\u001b[0mproperty\u001b[0m\u001b[0;34m\u001b[0m\u001b[0;34m\u001b[0m\u001b[0m\n",
      "\u001b[0;32m~/opt/venv-gcc/lib/python3.7/site-packages/tensorflow/python/eager/function.py\u001b[0m in \u001b[0;36m_call_flat\u001b[0;34m(self, args, captured_inputs, cancellation_manager)\u001b[0m\n\u001b[1;32m   1958\u001b[0m       \u001b[0;31m# No tape is watching; skip to running the function.\u001b[0m\u001b[0;34m\u001b[0m\u001b[0;34m\u001b[0m\u001b[0;34m\u001b[0m\u001b[0m\n\u001b[1;32m   1959\u001b[0m       return self._build_call_outputs(self._inference_function.call(\n\u001b[0;32m-> 1960\u001b[0;31m           ctx, args, cancellation_manager=cancellation_manager))\n\u001b[0m\u001b[1;32m   1961\u001b[0m     forward_backward = self._select_forward_and_backward_functions(\n\u001b[1;32m   1962\u001b[0m         \u001b[0margs\u001b[0m\u001b[0;34m,\u001b[0m\u001b[0;34m\u001b[0m\u001b[0;34m\u001b[0m\u001b[0m\n",
      "\u001b[0;32m~/opt/venv-gcc/lib/python3.7/site-packages/tensorflow/python/eager/function.py\u001b[0m in \u001b[0;36mcall\u001b[0;34m(self, ctx, args, cancellation_manager)\u001b[0m\n\u001b[1;32m    601\u001b[0m               \u001b[0minputs\u001b[0m\u001b[0;34m=\u001b[0m\u001b[0margs\u001b[0m\u001b[0;34m,\u001b[0m\u001b[0;34m\u001b[0m\u001b[0;34m\u001b[0m\u001b[0m\n\u001b[1;32m    602\u001b[0m               \u001b[0mattrs\u001b[0m\u001b[0;34m=\u001b[0m\u001b[0mattrs\u001b[0m\u001b[0;34m,\u001b[0m\u001b[0;34m\u001b[0m\u001b[0;34m\u001b[0m\u001b[0m\n\u001b[0;32m--> 603\u001b[0;31m               ctx=ctx)\n\u001b[0m\u001b[1;32m    604\u001b[0m         \u001b[0;32melse\u001b[0m\u001b[0;34m:\u001b[0m\u001b[0;34m\u001b[0m\u001b[0;34m\u001b[0m\u001b[0m\n\u001b[1;32m    605\u001b[0m           outputs = execute.execute_with_cancellation(\n",
      "\u001b[0;32m~/opt/venv-gcc/lib/python3.7/site-packages/tensorflow/python/eager/execute.py\u001b[0m in \u001b[0;36mquick_execute\u001b[0;34m(op_name, num_outputs, inputs, attrs, ctx, name)\u001b[0m\n\u001b[1;32m     57\u001b[0m     \u001b[0mctx\u001b[0m\u001b[0;34m.\u001b[0m\u001b[0mensure_initialized\u001b[0m\u001b[0;34m(\u001b[0m\u001b[0;34m)\u001b[0m\u001b[0;34m\u001b[0m\u001b[0;34m\u001b[0m\u001b[0m\n\u001b[1;32m     58\u001b[0m     tensors = pywrap_tfe.TFE_Py_Execute(ctx._handle, device_name, op_name,\n\u001b[0;32m---> 59\u001b[0;31m                                         inputs, attrs, num_outputs)\n\u001b[0m\u001b[1;32m     60\u001b[0m   \u001b[0;32mexcept\u001b[0m \u001b[0mcore\u001b[0m\u001b[0;34m.\u001b[0m\u001b[0m_NotOkStatusException\u001b[0m \u001b[0;32mas\u001b[0m \u001b[0me\u001b[0m\u001b[0;34m:\u001b[0m\u001b[0;34m\u001b[0m\u001b[0;34m\u001b[0m\u001b[0m\n\u001b[1;32m     61\u001b[0m     \u001b[0;32mif\u001b[0m \u001b[0mname\u001b[0m \u001b[0;32mis\u001b[0m \u001b[0;32mnot\u001b[0m \u001b[0;32mNone\u001b[0m\u001b[0;34m:\u001b[0m\u001b[0;34m\u001b[0m\u001b[0;34m\u001b[0m\u001b[0m\n",
      "\u001b[0;31mKeyboardInterrupt\u001b[0m: "
     ]
    }
   ],
   "source": [
    "hist = autoencoder.fit(X_train, X_train,epochs=80)"
   ]
  },
  {
   "cell_type": "code",
   "execution_count": 29,
   "id": "ed156905",
   "metadata": {},
   "outputs": [
    {
     "data": {
      "image/png": "[encoded data removed]",
      "text/plain": [
       "<Figure size 432x288 with 1 Axes>"
      ]
     },
     "metadata": {},
     "output_type": "display_data"
    }
   ],
   "source": [
    "plt.plot(hist.history[\"loss\"])\n",
    "plt.show()"
   ]
  },
  {
   "cell_type": "markdown",
   "id": "8f8bdfef",
   "metadata": {},
   "source": [
    "# Saving "
   ]
  },
  {
   "cell_type": "code",
   "execution_count": 30,
   "id": "63e8ed6e",
   "metadata": {},
   "outputs": [],
   "source": [
    "autoencoder.save(cfg[\"models\"][\"autoencoder\"] + f\"/{model_name}\")"
   ]
  },
  {
   "cell_type": "code",
   "execution_count": 26,
   "id": "e39567e4",
   "metadata": {},
   "outputs": [
    {
     "data": {
      "text/plain": [
       "'CNN'"
      ]
     },
     "execution_count": 26,
     "metadata": {},
     "output_type": "execute_result"
    }
   ],
   "source": [
    "model_name"
   ]
  },
  {
   "cell_type": "markdown",
   "id": "fe029b5e",
   "metadata": {},
   "source": [
    "# testing "
   ]
  },
  {
   "cell_type": "code",
   "execution_count": 31,
   "id": "103ca2d0",
   "metadata": {},
   "outputs": [
    {
     "name": "stdout",
     "output_type": "stream",
     "text": [
      "MSE train : 0.6656895960779817 \n",
      "MSE test  : 0.672439797862461\n"
     ]
    }
   ],
   "source": [
    "def mean_squared_error(x,y):\n",
    "    return np.sum((x-y)**2)/x.size\n",
    "\n",
    "train_pred = autoencoder(X_train).numpy()\n",
    "test_pred  = autoencoder(X_test).numpy()\n",
    "\n",
    "print(f\"MSE train : {mean_squared_error(train_pred,X_train)} \\nMSE test  : {mean_squared_error(test_pred,X_test)}\")"
   ]
  },
  {
   "cell_type": "code",
   "execution_count": null,
   "id": "31366195",
   "metadata": {},
   "outputs": [],
   "source": []
  }
 ],
 "metadata": {
  "kernelspec": {
   "display_name": "Python 3 (ipykernel)",
   "language": "python",
   "name": "python3"
  },
  "language_info": {
   "codemirror_mode": {
    "name": "ipython",
    "version": 3
   },
   "file_extension": ".py",
   "mimetype": "text/x-python",
   "name": "python",
   "nbconvert_exporter": "python",
   "pygments_lexer": "ipython3",
   "version": "3.7.7"
  }
 },
 "nbformat": 4,
 "nbformat_minor": 5
}
