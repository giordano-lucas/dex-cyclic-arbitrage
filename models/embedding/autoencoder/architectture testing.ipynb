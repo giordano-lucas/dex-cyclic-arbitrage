{
 "cells": [
  {
   "cell_type": "code",
   "execution_count": 45,
   "id": "316e97b7",
   "metadata": {},
   "outputs": [
    {
     "name": "stdout",
     "output_type": "stream",
     "text": [
      "The autoreload extension is already loaded. To reload it, use:\n",
      "  %reload_ext autoreload\n"
     ]
    }
   ],
   "source": [
    "import numpy as np\n",
    "import pandas as pd\n",
    "import matplotlib.pyplot as plt\n",
    "import plotly.express as px\n",
    "from plotly.subplots import make_subplots\n",
    "import plotly.graph_objects as go\n",
    "%load_ext autoreload\n",
    "%autoreload 2\n",
    "plt.style.use('ggplot')\n",
    "import sys \n",
    "sys.path.append(\"/scratch/izar/kapps/DEX-Cyclic-Arbitrage/\")\n",
    "from config.get import cfg\n",
    "from tensorflow import keras\n",
    "from tensorflow.keras import layers\n",
    "import autoencoders"
   ]
  },
  {
   "cell_type": "markdown",
   "id": "240338a1",
   "metadata": {},
   "source": [
    "# Loaidng data"
   ]
  },
  {
   "cell_type": "code",
   "execution_count": 46,
   "id": "d57fb1e3",
   "metadata": {},
   "outputs": [
    {
     "name": "stdout",
     "output_type": "stream",
     "text": [
      "shapes : X_train=(2698, 3, 600, 2),X_test=(675, 3, 600, 2)\n"
     ]
    }
   ],
   "source": [
    "X_train = np.load(cfg['files'][\"raw_train_features\"])\n",
    "X_test  = np.load(cfg['files'][\"raw_test_features\"])\n",
    "print(f\"shapes : X_train={X_train.shape},X_test={X_test.shape}\")"
   ]
  },
  {
   "cell_type": "markdown",
   "id": "5b48d7f9",
   "metadata": {},
   "source": [
    "# Loading model"
   ]
  },
  {
   "cell_type": "code",
   "execution_count": 47,
   "id": "b09a76d5",
   "metadata": {},
   "outputs": [
    {
     "name": "stdout",
     "output_type": "stream",
     "text": [
      "Model: \"model_12\"\n",
      "_________________________________________________________________\n",
      " Layer (type)                Output Shape              Param #   \n",
      "=================================================================\n",
      " input_14 (InputLayer)       [(None, 3, 600, 2)]       0         \n",
      "                                                                 \n",
      " reshape_22 (Reshape)        (None, 3600)              0         \n",
      "                                                                 \n",
      " dense_45 (Dense)            (None, 600)               2160600   \n",
      "                                                                 \n",
      " dense_46 (Dense)            (None, 100)               60100     \n",
      "                                                                 \n",
      " dense_47 (Dense)            (None, 600)               60600     \n",
      "                                                                 \n",
      " dense_48 (Dense)            (None, 3600)              2163600   \n",
      "                                                                 \n",
      " reshape_23 (Reshape)        (None, 3, 600, 2)         0         \n",
      "                                                                 \n",
      "=================================================================\n",
      "Total params: 4,444,900\n",
      "Trainable params: 4,444,900\n",
      "Non-trainable params: 0\n",
      "_________________________________________________________________\n"
     ]
    }
   ],
   "source": [
    "\n",
    "_,autoencoder = autoencoders.fully_connected()\n",
    "autoencoder.summary()"
   ]
  },
  {
   "cell_type": "code",
   "execution_count": 48,
   "id": "c23e9cca",
   "metadata": {},
   "outputs": [
    {
     "name": "stdout",
     "output_type": "stream",
     "text": [
      "Epoch 1/100\n",
      "85/85 [==============================] - 12s 126ms/step - loss: 0.3738\n",
      "Epoch 2/100\n",
      "85/85 [==============================] - 11s 126ms/step - loss: 0.1996\n",
      "Epoch 3/100\n",
      "85/85 [==============================] - 11s 127ms/step - loss: 0.1637\n",
      "Epoch 4/100\n",
      "85/85 [==============================] - 11s 135ms/step - loss: 0.1468\n",
      "Epoch 5/100\n",
      "85/85 [==============================] - 12s 136ms/step - loss: 0.1358\n",
      "Epoch 6/100\n",
      "85/85 [==============================] - 11s 135ms/step - loss: 0.1275\n",
      "Epoch 7/100\n",
      "85/85 [==============================] - 11s 131ms/step - loss: 0.1202\n",
      "Epoch 8/100\n",
      "85/85 [==============================] - 11s 126ms/step - loss: 0.1167\n",
      "Epoch 9/100\n",
      "85/85 [==============================] - 11s 126ms/step - loss: 0.1093\n",
      "Epoch 10/100\n",
      "85/85 [==============================] - 11s 127ms/step - loss: 0.1038\n",
      "Epoch 11/100\n",
      "85/85 [==============================] - 11s 126ms/step - loss: 0.0998\n",
      "Epoch 12/100\n",
      "85/85 [==============================] - 11s 125ms/step - loss: 0.1008\n",
      "Epoch 13/100\n",
      "85/85 [==============================] - 11s 127ms/step - loss: 0.0978\n",
      "Epoch 14/100\n",
      "85/85 [==============================] - 11s 125ms/step - loss: 0.0964\n",
      "Epoch 15/100\n",
      "85/85 [==============================] - 11s 125ms/step - loss: 0.0931\n",
      "Epoch 16/100\n",
      "85/85 [==============================] - 11s 125ms/step - loss: 0.0924\n",
      "Epoch 17/100\n",
      "85/85 [==============================] - 11s 124ms/step - loss: 0.0898\n",
      "Epoch 18/100\n",
      "85/85 [==============================] - 11s 125ms/step - loss: 0.0879\n",
      "Epoch 19/100\n",
      "85/85 [==============================] - 11s 125ms/step - loss: 0.0867\n",
      "Epoch 20/100\n",
      "85/85 [==============================] - 11s 125ms/step - loss: 0.0857\n",
      "Epoch 21/100\n",
      "85/85 [==============================] - 11s 126ms/step - loss: 0.0842\n",
      "Epoch 22/100\n",
      "85/85 [==============================] - 11s 126ms/step - loss: 0.0821\n",
      "Epoch 23/100\n",
      "85/85 [==============================] - 11s 126ms/step - loss: 0.0792\n",
      "Epoch 24/100\n",
      "85/85 [==============================] - 11s 125ms/step - loss: 0.0804\n",
      "Epoch 25/100\n",
      "85/85 [==============================] - 11s 125ms/step - loss: 0.0795\n",
      "Epoch 26/100\n",
      "85/85 [==============================] - 11s 124ms/step - loss: 0.0784\n",
      "Epoch 27/100\n",
      "85/85 [==============================] - 11s 126ms/step - loss: 0.0775\n",
      "Epoch 28/100\n",
      "85/85 [==============================] - 11s 126ms/step - loss: 0.0768\n",
      "Epoch 29/100\n",
      "85/85 [==============================] - 11s 125ms/step - loss: 0.0758\n",
      "Epoch 30/100\n",
      "85/85 [==============================] - 11s 125ms/step - loss: 0.07580s - loss:\n",
      "Epoch 31/100\n",
      "85/85 [==============================] - 11s 126ms/step - loss: 0.0771\n",
      "Epoch 32/100\n",
      "85/85 [==============================] - 11s 126ms/step - loss: 0.0743\n",
      "Epoch 33/100\n",
      "85/85 [==============================] - 11s 126ms/step - loss: 0.0723\n",
      "Epoch 34/100\n",
      "85/85 [==============================] - 11s 126ms/step - loss: 0.0711\n",
      "Epoch 35/100\n",
      "85/85 [==============================] - 10s 123ms/step - loss: 0.0716\n",
      "Epoch 36/100\n",
      "85/85 [==============================] - 11s 127ms/step - loss: 0.0719\n",
      "Epoch 37/100\n",
      "85/85 [==============================] - 11s 129ms/step - loss: 0.0710\n",
      "Epoch 38/100\n",
      "85/85 [==============================] - 11s 131ms/step - loss: 0.0719\n",
      "Epoch 39/100\n",
      "85/85 [==============================] - 11s 124ms/step - loss: 0.0690\n",
      "Epoch 40/100\n",
      "85/85 [==============================] - 11s 127ms/step - loss: 0.0689\n",
      "Epoch 41/100\n",
      "85/85 [==============================] - 11s 125ms/step - loss: 0.0699\n",
      "Epoch 42/100\n",
      "85/85 [==============================] - 11s 127ms/step - loss: 0.0708\n",
      "Epoch 43/100\n",
      "85/85 [==============================] - 11s 127ms/step - loss: 0.0692\n",
      "Epoch 44/100\n",
      "85/85 [==============================] - 11s 130ms/step - loss: 0.0681\n",
      "Epoch 45/100\n",
      "85/85 [==============================] - 11s 126ms/step - loss: 0.0697\n",
      "Epoch 46/100\n",
      "85/85 [==============================] - 11s 125ms/step - loss: 0.0675\n",
      "Epoch 47/100\n",
      "85/85 [==============================] - 11s 125ms/step - loss: 0.0670\n",
      "Epoch 48/100\n",
      "85/85 [==============================] - 11s 126ms/step - loss: 0.0656\n",
      "Epoch 49/100\n",
      "85/85 [==============================] - 11s 126ms/step - loss: 0.0677\n",
      "Epoch 50/100\n",
      "85/85 [==============================] - 11s 127ms/step - loss: 0.0664\n",
      "Epoch 51/100\n",
      "85/85 [==============================] - 11s 125ms/step - loss: 0.0655\n",
      "Epoch 52/100\n",
      "85/85 [==============================] - 11s 125ms/step - loss: 0.0680\n",
      "Epoch 53/100\n",
      "85/85 [==============================] - 11s 125ms/step - loss: 0.0655\n",
      "Epoch 54/100\n",
      "85/85 [==============================] - 11s 127ms/step - loss: 0.0641\n",
      "Epoch 55/100\n",
      "85/85 [==============================] - 11s 130ms/step - loss: 0.0664\n",
      "Epoch 56/100\n",
      "85/85 [==============================] - 12s 141ms/step - loss: 0.0651\n",
      "Epoch 57/100\n",
      "85/85 [==============================] - 11s 125ms/step - loss: 0.0642\n",
      "Epoch 58/100\n",
      "85/85 [==============================] - 11s 126ms/step - loss: 0.0644\n",
      "Epoch 59/100\n",
      "85/85 [==============================] - 10s 124ms/step - loss: 0.0637\n",
      "Epoch 60/100\n",
      "85/85 [==============================] - 11s 125ms/step - loss: 0.0642\n",
      "Epoch 61/100\n",
      "85/85 [==============================] - 11s 125ms/step - loss: 0.0627\n",
      "Epoch 62/100\n",
      "85/85 [==============================] - 11s 125ms/step - loss: 0.0627\n",
      "Epoch 63/100\n",
      "85/85 [==============================] - 11s 126ms/step - loss: 0.0624\n",
      "Epoch 64/100\n",
      "85/85 [==============================] - 11s 126ms/step - loss: 0.0612\n",
      "Epoch 65/100\n",
      "85/85 [==============================] - 11s 126ms/step - loss: 0.0634\n",
      "Epoch 66/100\n",
      "85/85 [==============================] - 11s 127ms/step - loss: 0.0629\n",
      "Epoch 67/100\n",
      "85/85 [==============================] - 11s 126ms/step - loss: 0.0610\n",
      "Epoch 68/100\n",
      "85/85 [==============================] - 11s 129ms/step - loss: 0.0616\n",
      "Epoch 69/100\n",
      "85/85 [==============================] - 11s 127ms/step - loss: 0.0613\n",
      "Epoch 70/100\n",
      "85/85 [==============================] - 11s 126ms/step - loss: 0.0618\n",
      "Epoch 71/100\n",
      "85/85 [==============================] - 11s 125ms/step - loss: 0.0606\n",
      "Epoch 72/100\n",
      "85/85 [==============================] - 11s 126ms/step - loss: 0.0618\n",
      "Epoch 73/100\n",
      "85/85 [==============================] - 11s 126ms/step - loss: 0.0623\n",
      "Epoch 74/100\n",
      "85/85 [==============================] - 11s 126ms/step - loss: 0.0622\n",
      "Epoch 75/100\n",
      "85/85 [==============================] - 11s 126ms/step - loss: 0.0624\n",
      "Epoch 76/100\n",
      "85/85 [==============================] - 11s 126ms/step - loss: 0.0603\n",
      "Epoch 77/100\n",
      "85/85 [==============================] - 11s 127ms/step - loss: 0.0596\n",
      "Epoch 78/100\n",
      "85/85 [==============================] - 11s 126ms/step - loss: 0.0603\n",
      "Epoch 79/100\n",
      "85/85 [==============================] - 11s 125ms/step - loss: 0.0605\n",
      "Epoch 80/100\n",
      "85/85 [==============================] - 11s 126ms/step - loss: 0.0599\n",
      "Epoch 81/100\n",
      "85/85 [==============================] - 11s 130ms/step - loss: 0.0593\n",
      "Epoch 82/100\n",
      "85/85 [==============================] - 11s 127ms/step - loss: 0.0592\n",
      "Epoch 83/100\n",
      "85/85 [==============================] - 11s 125ms/step - loss: 0.0591\n",
      "Epoch 84/100\n",
      "85/85 [==============================] - 11s 125ms/step - loss: 0.0585\n",
      "Epoch 85/100\n",
      "85/85 [==============================] - 11s 126ms/step - loss: 0.0590\n",
      "Epoch 86/100\n",
      "85/85 [==============================] - 11s 126ms/step - loss: 0.0594\n",
      "Epoch 87/100\n",
      "85/85 [==============================] - 11s 125ms/step - loss: 0.0596\n",
      "Epoch 88/100\n",
      "85/85 [==============================] - 11s 125ms/step - loss: 0.0589\n",
      "Epoch 89/100\n",
      "85/85 [==============================] - 10s 124ms/step - loss: 0.0596\n",
      "Epoch 90/100\n",
      "85/85 [==============================] - 11s 127ms/step - loss: 0.0591\n",
      "Epoch 91/100\n",
      "85/85 [==============================] - 11s 127ms/step - loss: 0.0575\n",
      "Epoch 92/100\n",
      "85/85 [==============================] - 11s 126ms/step - loss: 0.0573\n",
      "Epoch 93/100\n",
      "85/85 [==============================] - 11s 125ms/step - loss: 0.0577\n",
      "Epoch 94/100\n",
      "85/85 [==============================] - 11s 125ms/step - loss: 0.0575\n",
      "Epoch 95/100\n",
      "85/85 [==============================] - 11s 126ms/step - loss: 0.0585\n",
      "Epoch 96/100\n",
      "85/85 [==============================] - 11s 125ms/step - loss: 0.0576\n",
      "Epoch 97/100\n",
      "85/85 [==============================] - 11s 124ms/step - loss: 0.0571\n",
      "Epoch 98/100\n"
     ]
    },
    {
     "name": "stdout",
     "output_type": "stream",
     "text": [
      "85/85 [==============================] - 11s 126ms/step - loss: 0.0588\n",
      "Epoch 99/100\n",
      "85/85 [==============================] - 11s 127ms/step - loss: 0.0583\n",
      "Epoch 100/100\n",
      "85/85 [==============================] - 11s 125ms/step - loss: 0.0592\n"
     ]
    }
   ],
   "source": [
    "hist = autoencoder.fit(X_train, X_train,epochs=100)"
   ]
  },
  {
   "cell_type": "code",
   "execution_count": 49,
   "id": "ed156905",
   "metadata": {},
   "outputs": [
    {
     "data": {
      "image/png": "[encoded data removed]",
      "text/plain": [
       "<Figure size 432x288 with 1 Axes>"
      ]
     },
     "metadata": {},
     "output_type": "display_data"
    }
   ],
   "source": [
    "plt.plot(hist.history[\"loss\"])\n",
    "plt.show()"
   ]
  },
  {
   "cell_type": "markdown",
   "id": "fe029b5e",
   "metadata": {},
   "source": [
    "# testing "
   ]
  },
  {
   "cell_type": "code",
   "execution_count": 50,
   "id": "103ca2d0",
   "metadata": {},
   "outputs": [
    {
     "name": "stdout",
     "output_type": "stream",
     "text": [
      "MSE train : 0.05457094038337492 \n",
      "MSE test  : 0.08154374047541027\n"
     ]
    }
   ],
   "source": [
    "def mean_squared_error(x,y):\n",
    "    return np.sum((x-y)**2)/x.size\n",
    "\n",
    "train_pred = autoencoder(X_train).numpy()\n",
    "test_pred  = autoencoder(X_test).numpy()\n",
    "\n",
    "print(f\"MSE train : {mean_squared_error(train_pred,X_train)} \\nMSE test  : {mean_squared_error(test_pred,X_test)}\")"
   ]
  }
 ],
 "metadata": {
  "kernelspec": {
   "display_name": "Python 3 (ipykernel)",
   "language": "python",
   "name": "python3"
  },
  "language_info": {
   "codemirror_mode": {
    "name": "ipython",
    "version": 3
   },
   "file_extension": ".py",
   "mimetype": "text/x-python",
   "name": "python",
   "nbconvert_exporter": "python",
   "pygments_lexer": "ipython3",
   "version": "3.7.7"
  }
 },
 "nbformat": 4,
 "nbformat_minor": 5
}
