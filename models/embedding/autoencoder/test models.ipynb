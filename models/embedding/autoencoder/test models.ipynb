{
 "cells": [
  {
   "cell_type": "code",
   "execution_count": 7,
   "id": "331bdf58",
   "metadata": {},
   "outputs": [
    {
     "name": "stderr",
     "output_type": "stream",
     "text": [
      "2022-01-08 16:53:10.613793: W tensorflow/stream_executor/platform/default/dso_loader.cc:64] Could not load dynamic library 'libcudart.so.11.0'; dlerror: libcudart.so.11.0: cannot open shared object file: No such file or directory\n",
      "2022-01-08 16:53:10.613829: I tensorflow/stream_executor/cuda/cudart_stub.cc:29] Ignore above cudart dlerror if you do not have a GPU set up on your machine.\n"
     ]
    }
   ],
   "source": [
    "import sys, os\n",
    "sys.path.append('/'.join(os.getcwd().split('/')[:4]))\n",
    "from helper import *\n",
    "import glob \n",
    "from config.get import cfg\n",
    "from tensorflow import keras"
   ]
  },
  {
   "cell_type": "code",
   "execution_count": 8,
   "id": "b24ba468",
   "metadata": {},
   "outputs": [],
   "source": [
    "model_paths = glob.glob(cfg[\"models\"][\"autoencoder\"]+\"/*\")"
   ]
  },
  {
   "cell_type": "code",
   "execution_count": 6,
   "id": "94cbd0e8",
   "metadata": {},
   "outputs": [
    {
     "data": {
      "text/plain": [
       "{'linear': 1}"
      ]
     },
     "execution_count": 6,
     "metadata": {},
     "output_type": "execute_result"
    }
   ],
   "source": [
    "{path.split(\"/\")[-1] :  keras.models.load_model(path)  for path in model_paths}"
   ]
  },
  {
   "cell_type": "markdown",
   "id": "c95a1555",
   "metadata": {},
   "source": [
    "# Models errors"
   ]
  },
  {
   "cell_type": "markdown",
   "id": "0dbeca2f",
   "metadata": {},
   "source": [
    "# PCA errors"
   ]
  },
  {
   "cell_type": "code",
   "execution_count": null,
   "id": "c59a85de",
   "metadata": {},
   "outputs": [],
   "source": [
    "N_train = len(X_train)\n",
    "N_test  = len(X_test)\n",
    "PCA_X_train = X_train.reshape(N_train,-1)\n",
    "PCA_X_test = X_test.reshape(N_test,-1)\n",
    "pca = decomposition.PCA(n_components=100)\n",
    "pca.fit(tX_train)\n",
    "pca_train_mse = mean_squared_error(tX_train, pca.inverse_transform(pca.transform(tX_train)))\n",
    "pca_test_mse =  mean_squared_error(tX_test, pca.inverse_transform(pca.transform(tX_test))) \n"
   ]
  },
  {
   "cell_type": "markdown",
   "id": "4d318c51",
   "metadata": {},
   "source": [
    "# All results"
   ]
  },
  {
   "cell_type": "code",
   "execution_count": null,
   "id": "a75268d8",
   "metadata": {},
   "outputs": [],
   "source": []
  }
 ],
 "metadata": {
  "kernelspec": {
   "display_name": "Python 3 (ipykernel)",
   "language": "python",
   "name": "python3"
  },
  "language_info": {
   "codemirror_mode": {
    "name": "ipython",
    "version": 3
   },
   "file_extension": ".py",
   "mimetype": "text/x-python",
   "name": "python",
   "nbconvert_exporter": "python",
   "pygments_lexer": "ipython3",
   "version": "3.7.7"
  }
 },
 "nbformat": 4,
 "nbformat_minor": 5
}
