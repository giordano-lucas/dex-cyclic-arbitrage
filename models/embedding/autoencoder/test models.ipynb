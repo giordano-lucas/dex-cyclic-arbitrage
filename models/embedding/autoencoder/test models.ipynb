{
 "cells": [
  {
   "cell_type": "code",
   "execution_count": 1,
   "id": "331bdf58",
   "metadata": {},
   "outputs": [
    {
     "name": "stderr",
     "output_type": "stream",
     "text": [
      "2022-01-09 19:56:28.308546: W tensorflow/stream_executor/platform/default/dso_loader.cc:64] Could not load dynamic library 'libcudart.so.11.0'; dlerror: libcudart.so.11.0: cannot open shared object file: No such file or directory\n",
      "2022-01-09 19:56:28.308584: I tensorflow/stream_executor/cuda/cudart_stub.cc:29] Ignore above cudart dlerror if you do not have a GPU set up on your machine.\n"
     ]
    }
   ],
   "source": [
    "import sys, os\n",
    "import pandas as pd\n",
    "import numpy as np\n",
    "sys.path.append('/'.join(os.getcwd().split('/')[:4]))\n",
    "from helper import *\n",
    "import glob \n",
    "from config.get import cfg\n",
    "from tensorflow import keras"
   ]
  },
  {
   "cell_type": "markdown",
   "id": "e99996eb",
   "metadata": {},
   "source": [
    "# Loading data"
   ]
  },
  {
   "cell_type": "code",
   "execution_count": 2,
   "id": "5234b178",
   "metadata": {},
   "outputs": [
    {
     "name": "stdout",
     "output_type": "stream",
     "text": [
      "shapes : X_train=(5354, 3, 600, 2),X_test=(1340, 3, 600, 2)\n"
     ]
    }
   ],
   "source": [
    "X_train = np.load(cfg['files'][\"scaled_ae_train_features\"])\n",
    "X_test  = np.load(cfg['files'][\"raw_test_features\"])\n",
    "print(f\"shapes : X_train={X_train.shape},X_test={X_test.shape}\")"
   ]
  },
  {
   "cell_type": "markdown",
   "id": "77d91f7f",
   "metadata": {},
   "source": [
    "# Loading models"
   ]
  },
  {
   "cell_type": "code",
   "execution_count": 3,
   "id": "b24ba468",
   "metadata": {},
   "outputs": [
    {
     "data": {
      "text/plain": [
       "['/home/kapps/dex-cyclic-arbitrage/models/embedding/autoencoder/results/CNN_fully_connected',\n",
       " '/home/kapps/dex-cyclic-arbitrage/models/embedding/autoencoder/results/fully_connected_3L',\n",
       " '/home/kapps/dex-cyclic-arbitrage/models/embedding/autoencoder/results/CNN_simpler_fully_connected']"
      ]
     },
     "execution_count": 3,
     "metadata": {},
     "output_type": "execute_result"
    }
   ],
   "source": [
    "model_paths = glob.glob(cfg[\"models\"][\"autoencoder\"]+\"*\")\n",
    "model_paths = [x for x in model_paths if not x.find(\".\")>0]\n",
    "model_paths"
   ]
  },
  {
   "cell_type": "code",
   "execution_count": 9,
   "id": "94cbd0e8",
   "metadata": {},
   "outputs": [],
   "source": [
    "models = {path.split(\"/\")[-1] :  keras.models.load_model(path)  for path in model_paths[:2]}"
   ]
  },
  {
   "cell_type": "markdown",
   "id": "c95a1555",
   "metadata": {},
   "source": [
    "# Models errors"
   ]
  },
  {
   "cell_type": "code",
   "execution_count": 10,
   "id": "852d3339",
   "metadata": {},
   "outputs": [],
   "source": [
    "def mean_squared_error(x,y):\n",
    "    return np.sum((x-y)**2)/x.size\n",
    "\n",
    "def eval_model(model):\n",
    "    train_pred = model(X_train).numpy()\n",
    "    test_pred  = model(X_test).numpy()\n",
    "    return mean_squared_error(train_pred,X_train),mean_squared_error(test_pred,X_test)"
   ]
  },
  {
   "cell_type": "code",
   "execution_count": 11,
   "id": "f9c94f1f",
   "metadata": {},
   "outputs": [
    {
     "name": "stdout",
     "output_type": "stream",
     "text": [
      "CNN_fully_connected\n",
      "fully_connected_3L\n"
     ]
    }
   ],
   "source": [
    "test_mse  = []\n",
    "train_mse = []\n",
    "model_names = []\n",
    "\n",
    "for model_name in models:\n",
    "    print(model_name)\n",
    "    train_e , test_e = eval_model(models[model_name])\n",
    "    test_mse.append(test_e)\n",
    "    train_mse.append(train_e)\n",
    "    model_names.append(model_name)"
   ]
  },
  {
   "cell_type": "code",
   "execution_count": 12,
   "id": "9f0c01ee",
   "metadata": {},
   "outputs": [
    {
     "data": {
      "text/html": [
       "<div>\n",
       "<style scoped>\n",
       "    .dataframe tbody tr th:only-of-type {\n",
       "        vertical-align: middle;\n",
       "    }\n",
       "\n",
       "    .dataframe tbody tr th {\n",
       "        vertical-align: top;\n",
       "    }\n",
       "\n",
       "    .dataframe thead th {\n",
       "        text-align: right;\n",
       "    }\n",
       "</style>\n",
       "<table border=\"1\" class=\"dataframe\">\n",
       "  <thead>\n",
       "    <tr style=\"text-align: right;\">\n",
       "      <th></th>\n",
       "      <th>model name</th>\n",
       "      <th>test_mse</th>\n",
       "      <th>train_mse</th>\n",
       "    </tr>\n",
       "  </thead>\n",
       "  <tbody>\n",
       "    <tr>\n",
       "      <th>0</th>\n",
       "      <td>CNN_fully_connected</td>\n",
       "      <td>0.943945</td>\n",
       "      <td>0.622635</td>\n",
       "    </tr>\n",
       "    <tr>\n",
       "      <th>1</th>\n",
       "      <td>fully_connected_3L</td>\n",
       "      <td>0.462722</td>\n",
       "      <td>0.116216</td>\n",
       "    </tr>\n",
       "  </tbody>\n",
       "</table>\n",
       "</div>"
      ],
      "text/plain": [
       "            model name  test_mse  train_mse\n",
       "0  CNN_fully_connected  0.943945   0.622635\n",
       "1   fully_connected_3L  0.462722   0.116216"
      ]
     },
     "execution_count": 12,
     "metadata": {},
     "output_type": "execute_result"
    }
   ],
   "source": []
  },
  {
   "cell_type": "markdown",
   "id": "0dbeca2f",
   "metadata": {},
   "source": [
    "# PCA errors"
   ]
  },
  {
   "cell_type": "code",
   "execution_count": 15,
   "id": "c59a85de",
   "metadata": {},
   "outputs": [],
   "source": [
    "from sklearn import decomposition\n",
    "N_train = len(X_train)\n",
    "N_test  = len(X_test)\n",
    "PCA_X_train = X_train.reshape(N_train,-1)\n",
    "PCA_X_test = X_test.reshape(N_test,-1)\n",
    "pca = decomposition.PCA(n_components=100)\n",
    "pca.fit(PCA_X_train)\n",
    "pca_train_mse = mean_squared_error(PCA_X_train, pca.inverse_transform(pca.transform(PCA_X_train)))\n",
    "pca_test_mse =  mean_squared_error(PCA_X_test, pca.inverse_transform(pca.transform(PCA_X_test))) \n"
   ]
  },
  {
   "cell_type": "code",
   "execution_count": 16,
   "id": "44acd826",
   "metadata": {},
   "outputs": [],
   "source": [
    "test_mse.append(pca_test_mse)\n",
    "train_mse.append(pca_train_mse)\n",
    "model_names.append(\"PCA\")"
   ]
  },
  {
   "cell_type": "markdown",
   "id": "4d318c51",
   "metadata": {},
   "source": [
    "# All results"
   ]
  },
  {
   "cell_type": "code",
   "execution_count": 17,
   "id": "a75268d8",
   "metadata": {},
   "outputs": [
    {
     "data": {
      "text/html": [
       "<div>\n",
       "<style scoped>\n",
       "    .dataframe tbody tr th:only-of-type {\n",
       "        vertical-align: middle;\n",
       "    }\n",
       "\n",
       "    .dataframe tbody tr th {\n",
       "        vertical-align: top;\n",
       "    }\n",
       "\n",
       "    .dataframe thead th {\n",
       "        text-align: right;\n",
       "    }\n",
       "</style>\n",
       "<table border=\"1\" class=\"dataframe\">\n",
       "  <thead>\n",
       "    <tr style=\"text-align: right;\">\n",
       "      <th></th>\n",
       "      <th>model name</th>\n",
       "      <th>test_mse</th>\n",
       "      <th>train_mse</th>\n",
       "    </tr>\n",
       "  </thead>\n",
       "  <tbody>\n",
       "    <tr>\n",
       "      <th>0</th>\n",
       "      <td>CNN_fully_connected</td>\n",
       "      <td>0.943945</td>\n",
       "      <td>0.622635</td>\n",
       "    </tr>\n",
       "    <tr>\n",
       "      <th>1</th>\n",
       "      <td>fully_connected_3L</td>\n",
       "      <td>0.462722</td>\n",
       "      <td>0.116216</td>\n",
       "    </tr>\n",
       "    <tr>\n",
       "      <th>2</th>\n",
       "      <td>PCA</td>\n",
       "      <td>0.232099</td>\n",
       "      <td>0.092100</td>\n",
       "    </tr>\n",
       "  </tbody>\n",
       "</table>\n",
       "</div>"
      ],
      "text/plain": [
       "            model name  test_mse  train_mse\n",
       "0  CNN_fully_connected  0.943945   0.622635\n",
       "1   fully_connected_3L  0.462722   0.116216\n",
       "2                  PCA  0.232099   0.092100"
      ]
     },
     "execution_count": 17,
     "metadata": {},
     "output_type": "execute_result"
    }
   ],
   "source": [
    "pd.DataFrame({\"model name\":model_names , \"test_mse\" :test_mse , \"train_mse\": train_mse})"
   ]
  },
  {
   "cell_type": "code",
   "execution_count": null,
   "id": "d72f018d",
   "metadata": {},
   "outputs": [],
   "source": []
  }
 ],
 "metadata": {
  "kernelspec": {
   "display_name": "Python 3 (ipykernel)",
   "language": "python",
   "name": "python3"
  },
  "language_info": {
   "codemirror_mode": {
    "name": "ipython",
    "version": 3
   },
   "file_extension": ".py",
   "mimetype": "text/x-python",
   "name": "python",
   "nbconvert_exporter": "python",
   "pygments_lexer": "ipython3",
   "version": "3.7.7"
  }
 },
 "nbformat": 4,
 "nbformat_minor": 5
}
