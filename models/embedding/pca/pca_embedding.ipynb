{
 "cells": [
  {
   "cell_type": "code",
   "execution_count": 2,
   "id": "41612afe",
   "metadata": {},
   "outputs": [],
   "source": [
    "import pandas as pd\n",
    "import numpy as np\n",
    "\n",
    "import sys, os \n",
    "sys.path.append('/'.join(os.getcwd().split('/')[:4]))\n",
    "from config.get import cfg"
   ]
  },
  {
   "cell_type": "markdown",
   "id": "8f9055ee",
   "metadata": {},
   "source": [
    "# Data loading"
   ]
  },
  {
   "cell_type": "code",
   "execution_count": null,
   "id": "74127d48",
   "metadata": {},
   "outputs": [],
   "source": [
    "# load embedding features\n",
    "ae_X_train = np.load(cfg['files'][\"liquid\"][\"scaled_ae_train_features\"])\n",
    "ae_X_test  = np.load(cfg['files'][\"liquid\"][\"scaled_ae_test_features\"])\n",
    "ae_X_train = ae_X_train.reshape((ae_X_train.shape[0],-1))\n",
    "ae_X_test  = ae_X_test.reshape((ae_X_test.shape[0],-1))"
   ]
  },
  {
   "cell_type": "code",
   "execution_count": null,
   "id": "5611c681",
   "metadata": {},
   "outputs": [],
   "source": [
    "# compute PCA prediction\n",
    "from sklearn import decomposition\n",
    "pca = decomposition.PCA(n_components=100)\n",
    "pca_X_train = pca.fit_transform(ae_X_train)\n",
    "pca_X_test  = pca.transform(ae_X_test)"
   ]
  },
  {
   "cell_type": "code",
   "execution_count": null,
   "id": "c451013a",
   "metadata": {},
   "outputs": [],
   "source": [
    "# save to disk\n",
    "np.save(cfg['files'][\"liquid\"][\"pca\"][\"encoded_train_features\"],pca_X_train)\n",
    "np.save(cfg['files'][\"liquid\"][\"pca\"][\"encoded_test_features\"], pca_X_test)"
   ]
  }
 ],
 "metadata": {
  "kernelspec": {
   "display_name": "Python 3 (ipykernel)",
   "language": "python",
   "name": "python3"
  },
  "language_info": {
   "codemirror_mode": {
    "name": "ipython",
    "version": 3
   },
   "file_extension": ".py",
   "mimetype": "text/x-python",
   "name": "python",
   "nbconvert_exporter": "python",
   "pygments_lexer": "ipython3",
   "version": "3.7.7"
  }
 },
 "nbformat": 4,
 "nbformat_minor": 5
}
