{
 "cells": [
  {
   "cell_type": "code",
   "execution_count": 3,
   "id": "6a3e6f38",
   "metadata": {},
   "outputs": [],
   "source": [
    "from sklearn.cluster import KMeans\n",
    "from sklearn.metrics import silhouette_score\n",
    "import matplotlib.pyplot as plt\n",
    "import sys \n",
    "sys.path.append('/'.join(os.getcwd().split('/')[:4]))\n",
    "from config.get import cfg\n",
    "import numpy as np\n",
    "import pandas as pd\n",
    "import seaborn as sns"
   ]
  },
  {
   "cell_type": "code",
   "execution_count": 10,
   "id": "03e7885b",
   "metadata": {},
   "outputs": [
    {
     "name": "stdout",
     "output_type": "stream",
     "text": [
      "(9333, 100)\n"
     ]
    }
   ],
   "source": [
    "X_train = np.load(cfg[\"files\"][\"encoded_train_features\"])\n",
    "train_ids = np.load(cfg['files']['train_ids']).astype(int)\n",
    "\n",
    "targets = pd.read_csv(cfg[\"files\"][\"target\"]) \n",
    "print(X_train.shape)"
   ]
  },
  {
   "cell_type": "code",
   "execution_count": null,
   "id": "d350efe4",
   "metadata": {},
   "outputs": [],
   "source": [
    "scaler = StandardScaler()\n",
    "scaler.fit(X_train)\n",
    "tX_train = scaler.transform(X_train)"
   ]
  },
  {
   "cell_type": "code",
   "execution_count": 15,
   "id": "8399c726",
   "metadata": {},
   "outputs": [
    {
     "name": "stdout",
     "output_type": "stream",
     "text": [
      "11\r"
     ]
    }
   ],
   "source": [
    "k_max = 12\n",
    "\n",
    "silhouettes = []\n",
    "sse = []\n",
    "for k in range(2, k_max): # Try multiple k\n",
    "    print(k,end=\"\\r\")\n",
    "    # Cluster the data and assign the labels\n",
    "    kmeans =  KMeans(n_clusters=k, random_state=42)\n",
    "    labels =  kmeans.fit_predict(X_train)\n",
    "    # Get the Silhouette score\n",
    "    score = silhouette_score(X_train, labels)\n",
    "    silhouettes.append({\"k\": k, \"score\": score})\n",
    "    \n",
    "    sse.append({\"k\": k, \"sse\": kmeans.inertia_})\n",
    "    \n",
    "# Convert to dataframes\n",
    "silhouettes = pd.DataFrame(silhouettes)\n",
    "sse = pd.DataFrame(sse)"
   ]
  },
  {
   "cell_type": "code",
   "execution_count": 19,
   "id": "6688c52f",
   "metadata": {},
   "outputs": [
    {
     "data": {
      "text/html": [
       "<div>\n",
       "<style scoped>\n",
       "    .dataframe tbody tr th:only-of-type {\n",
       "        vertical-align: middle;\n",
       "    }\n",
       "\n",
       "    .dataframe tbody tr th {\n",
       "        vertical-align: top;\n",
       "    }\n",
       "\n",
       "    .dataframe thead th {\n",
       "        text-align: right;\n",
       "    }\n",
       "</style>\n",
       "<table border=\"1\" class=\"dataframe\">\n",
       "  <thead>\n",
       "    <tr style=\"text-align: right;\">\n",
       "      <th></th>\n",
       "      <th>k</th>\n",
       "      <th>sse</th>\n",
       "      <th>score</th>\n",
       "    </tr>\n",
       "  </thead>\n",
       "  <tbody>\n",
       "    <tr>\n",
       "      <th>0</th>\n",
       "      <td>2</td>\n",
       "      <td>5.737619e+12</td>\n",
       "      <td>0.526668</td>\n",
       "    </tr>\n",
       "    <tr>\n",
       "      <th>1</th>\n",
       "      <td>3</td>\n",
       "      <td>4.049046e+12</td>\n",
       "      <td>0.453559</td>\n",
       "    </tr>\n",
       "    <tr>\n",
       "      <th>2</th>\n",
       "      <td>4</td>\n",
       "      <td>3.403431e+12</td>\n",
       "      <td>0.385761</td>\n",
       "    </tr>\n",
       "    <tr>\n",
       "      <th>3</th>\n",
       "      <td>5</td>\n",
       "      <td>2.797745e+12</td>\n",
       "      <td>0.402679</td>\n",
       "    </tr>\n",
       "    <tr>\n",
       "      <th>4</th>\n",
       "      <td>6</td>\n",
       "      <td>2.362281e+12</td>\n",
       "      <td>0.404276</td>\n",
       "    </tr>\n",
       "    <tr>\n",
       "      <th>5</th>\n",
       "      <td>7</td>\n",
       "      <td>2.033488e+12</td>\n",
       "      <td>0.365955</td>\n",
       "    </tr>\n",
       "    <tr>\n",
       "      <th>6</th>\n",
       "      <td>8</td>\n",
       "      <td>1.767601e+12</td>\n",
       "      <td>0.393447</td>\n",
       "    </tr>\n",
       "    <tr>\n",
       "      <th>7</th>\n",
       "      <td>9</td>\n",
       "      <td>1.608149e+12</td>\n",
       "      <td>0.398613</td>\n",
       "    </tr>\n",
       "    <tr>\n",
       "      <th>8</th>\n",
       "      <td>10</td>\n",
       "      <td>1.451835e+12</td>\n",
       "      <td>0.414726</td>\n",
       "    </tr>\n",
       "    <tr>\n",
       "      <th>9</th>\n",
       "      <td>11</td>\n",
       "      <td>1.351035e+12</td>\n",
       "      <td>0.424972</td>\n",
       "    </tr>\n",
       "  </tbody>\n",
       "</table>\n",
       "</div>"
      ],
      "text/plain": [
       "    k           sse     score\n",
       "0   2  5.737619e+12  0.526668\n",
       "1   3  4.049046e+12  0.453559\n",
       "2   4  3.403431e+12  0.385761\n",
       "3   5  2.797745e+12  0.402679\n",
       "4   6  2.362281e+12  0.404276\n",
       "5   7  2.033488e+12  0.365955\n",
       "6   8  1.767601e+12  0.393447\n",
       "7   9  1.608149e+12  0.398613\n",
       "8  10  1.451835e+12  0.414726\n",
       "9  11  1.351035e+12  0.424972"
      ]
     },
     "execution_count": 19,
     "metadata": {},
     "output_type": "execute_result"
    }
   ],
   "source": []
  },
  {
   "cell_type": "code",
   "execution_count": 16,
   "id": "acd53777",
   "metadata": {},
   "outputs": [
    {
     "name": "stderr",
     "output_type": "stream",
     "text": [
      "/scratch/izar/kapps/DEX-Cyclic-Arbitrage/opt/venv-gcc/lib/python3.7/site-packages/seaborn/_decorators.py:43: FutureWarning: Pass the following variables as keyword args: x, y. From version 0.12, the only valid positional argument will be `data`, and passing other arguments without an explicit keyword will result in an error or misinterpretation.\n",
      "  FutureWarning\n",
      "/scratch/izar/kapps/DEX-Cyclic-Arbitrage/opt/venv-gcc/lib/python3.7/site-packages/seaborn/_decorators.py:43: FutureWarning: Pass the following variables as keyword args: x, y. From version 0.12, the only valid positional argument will be `data`, and passing other arguments without an explicit keyword will result in an error or misinterpretation.\n",
      "  FutureWarning\n"
     ]
    },
    {
     "data": {
      "image/png": "[encoded data removed]",
      "text/plain": [
       "<Figure size 1008x360 with 2 Axes>"
      ]
     },
     "metadata": {
      "needs_background": "light"
     },
     "output_type": "display_data"
    }
   ],
   "source": [
    "fig, axs = plt.subplots(2, 1, figsize=(14,5))\n",
    "# Plot silhouettes\n",
    "plt.subplot(121)\n",
    "sns.lineplot(silhouettes.k, silhouettes.score)\n",
    "plt.xlabel(\"K\")\n",
    "plt.ylabel(\"Silhouette score\")\n",
    "plt.title(\"Silhouette method\")\n",
    "# Plot sse\n",
    "plt.subplot(122)\n",
    "sns.lineplot(sse.k, sse.sse)\n",
    "plt.xlabel(\"K\")\n",
    "plt.ylabel(\"Sum of Squared Errors\")\n",
    "plt.title(\"SSE method\")\n",
    "fig.suptitle(\"K-means: evaluation metrics for different k\",fontsize=25)\n",
    "plt.show()"
   ]
  },
  {
   "cell_type": "markdown",
   "id": "a085efa9",
   "metadata": {},
   "source": []
  }
 ],
 "metadata": {
  "kernelspec": {
   "display_name": "Python 3",
   "language": "python",
   "name": "python3"
  },
  "language_info": {
   "codemirror_mode": {
    "name": "ipython",
    "version": 3
   },
   "file_extension": ".py",
   "mimetype": "text/x-python",
   "name": "python",
   "nbconvert_exporter": "python",
   "pygments_lexer": "ipython3",
   "version": "3.6.8"
  }
 },
 "nbformat": 4,
 "nbformat_minor": 5
}
