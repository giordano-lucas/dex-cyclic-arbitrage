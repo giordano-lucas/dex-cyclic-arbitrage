{
 "cells": [
  {
   "cell_type": "code",
   "execution_count": 1,
   "metadata": {},
   "outputs": [
    {
     "name": "stderr",
     "output_type": "stream",
     "text": [
      "2021-12-21 15:01:59.181394: I tensorflow/stream_executor/platform/default/dso_loader.cc:48] Successfully opened dynamic library libcudart.so.10.2\n"
     ]
    }
   ],
   "source": [
    "import numpy as np\n",
    "import pandas as pd\n",
    "import matplotlib.pyplot as plt\n",
    "import tensorflow as tf\n",
    "%load_ext autoreload\n",
    "%autoreload 2\n",
    "plt.style.use('ggplot')"
   ]
  },
  {
   "cell_type": "code",
   "execution_count": 2,
   "metadata": {},
   "outputs": [],
   "source": [
    "from tensorflow import keras\n",
    "from tensorflow.keras import layers"
   ]
  },
  {
   "cell_type": "code",
   "execution_count": 3,
   "metadata": {},
   "outputs": [],
   "source": [
    "import sys \n",
    "sys.path.append(\"/scratch/izar/kapps/DEX-Cyclic-Arbitrage/\")\n",
    "from config.get import cfg"
   ]
  },
  {
   "cell_type": "markdown",
   "metadata": {},
   "source": [
    "# Data loading & preprocessing"
   ]
  },
  {
   "cell_type": "markdown",
   "metadata": {},
   "source": [
    "## Transform `tokens` into dummy variables (one hot encoding)"
   ]
  },
  {
   "cell_type": "code",
   "execution_count": 13,
   "metadata": {},
   "outputs": [],
   "source": [
    "# transform tokens into dummies\n",
    "from sklearn.preprocessing import OneHotEncoder\n",
    "token_columns = list(filter(lambda c: c.startswith('token'),log_data.columns))\n",
    "def one_hot_tokens():\n",
    "    one_enc = OneHotEncoder(sparse=False) \n",
    "    unique_tokens = np.unique(pd.concat([log_data[token] for token in token_columns],axis=0))\n",
    "    one_enc.fit(unique_tokens.reshape(-1, 1))\n",
    "    # transform\n",
    "    encode = lambda col: one_enc.transform(log_data[col].to_numpy().reshape(-1, 1))\n",
    "    # encode and convert as dataframes\n",
    "    \n",
    "    encoded = [pd.DataFrame(encode(token)).add_prefix(f\"token_{key}_\") for key,token in enumerate(token_columns)]\n",
    "    return pd.concat(encoded, axis='columns')"
   ]
  },
  {
   "cell_type": "code",
   "execution_count": 14,
   "metadata": {},
   "outputs": [
    {
     "ename": "KeyboardInterrupt",
     "evalue": "",
     "output_type": "error",
     "traceback": [
      "\u001b[0;31m---------------------------------------------------------------------------\u001b[0m",
      "\u001b[0;31mKeyboardInterrupt\u001b[0m                         Traceback (most recent call last)",
      "\u001b[0;32m/tmp/ipykernel_15373/3440479160.py\u001b[0m in \u001b[0;36m<module>\u001b[0;34m\u001b[0m\n\u001b[0;32m----> 1\u001b[0;31m \u001b[0mX\u001b[0m \u001b[0;34m=\u001b[0m \u001b[0mpd\u001b[0m\u001b[0;34m.\u001b[0m\u001b[0mconcat\u001b[0m\u001b[0;34m(\u001b[0m\u001b[0;34m[\u001b[0m\u001b[0mlog_data\u001b[0m\u001b[0;34m.\u001b[0m\u001b[0mdrop\u001b[0m\u001b[0;34m(\u001b[0m\u001b[0mcolumns\u001b[0m\u001b[0;34m=\u001b[0m\u001b[0mtoken_columns\u001b[0m\u001b[0;34m)\u001b[0m\u001b[0;34m,\u001b[0m\u001b[0mone_hot_tokens\u001b[0m\u001b[0;34m(\u001b[0m\u001b[0;34m)\u001b[0m\u001b[0;34m]\u001b[0m\u001b[0;34m,\u001b[0m \u001b[0maxis\u001b[0m\u001b[0;34m=\u001b[0m\u001b[0;34m'columns'\u001b[0m\u001b[0;34m)\u001b[0m\u001b[0;34m\u001b[0m\u001b[0;34m\u001b[0m\u001b[0m\n\u001b[0m",
      "\u001b[0;32m/tmp/ipykernel_15373/2903111306.py\u001b[0m in \u001b[0;36mone_hot_tokens\u001b[0;34m()\u001b[0m\n\u001b[1;32m      4\u001b[0m \u001b[0;32mdef\u001b[0m \u001b[0mone_hot_tokens\u001b[0m\u001b[0;34m(\u001b[0m\u001b[0;34m)\u001b[0m\u001b[0;34m:\u001b[0m\u001b[0;34m\u001b[0m\u001b[0;34m\u001b[0m\u001b[0m\n\u001b[1;32m      5\u001b[0m     \u001b[0mone_enc\u001b[0m \u001b[0;34m=\u001b[0m \u001b[0mOneHotEncoder\u001b[0m\u001b[0;34m(\u001b[0m\u001b[0msparse\u001b[0m\u001b[0;34m=\u001b[0m\u001b[0;32mFalse\u001b[0m\u001b[0;34m)\u001b[0m\u001b[0;34m\u001b[0m\u001b[0;34m\u001b[0m\u001b[0m\n\u001b[0;32m----> 6\u001b[0;31m     \u001b[0munique_tokens\u001b[0m \u001b[0;34m=\u001b[0m \u001b[0mnp\u001b[0m\u001b[0;34m.\u001b[0m\u001b[0munique\u001b[0m\u001b[0;34m(\u001b[0m\u001b[0mpd\u001b[0m\u001b[0;34m.\u001b[0m\u001b[0mconcat\u001b[0m\u001b[0;34m(\u001b[0m\u001b[0;34m[\u001b[0m\u001b[0mlog_data\u001b[0m\u001b[0;34m[\u001b[0m\u001b[0mtoken\u001b[0m\u001b[0;34m]\u001b[0m \u001b[0;32mfor\u001b[0m \u001b[0mtoken\u001b[0m \u001b[0;32min\u001b[0m \u001b[0mtoken_columns\u001b[0m\u001b[0;34m]\u001b[0m\u001b[0;34m,\u001b[0m\u001b[0maxis\u001b[0m\u001b[0;34m=\u001b[0m\u001b[0;36m0\u001b[0m\u001b[0;34m)\u001b[0m\u001b[0;34m)\u001b[0m\u001b[0;34m\u001b[0m\u001b[0;34m\u001b[0m\u001b[0m\n\u001b[0m\u001b[1;32m      7\u001b[0m     \u001b[0mone_enc\u001b[0m\u001b[0;34m.\u001b[0m\u001b[0mfit\u001b[0m\u001b[0;34m(\u001b[0m\u001b[0munique_tokens\u001b[0m\u001b[0;34m.\u001b[0m\u001b[0mreshape\u001b[0m\u001b[0;34m(\u001b[0m\u001b[0;34m-\u001b[0m\u001b[0;36m1\u001b[0m\u001b[0;34m,\u001b[0m \u001b[0;36m1\u001b[0m\u001b[0;34m)\u001b[0m\u001b[0;34m)\u001b[0m\u001b[0;34m\u001b[0m\u001b[0;34m\u001b[0m\u001b[0m\n\u001b[1;32m      8\u001b[0m     \u001b[0;31m# transform\u001b[0m\u001b[0;34m\u001b[0m\u001b[0;34m\u001b[0m\u001b[0;34m\u001b[0m\u001b[0m\n",
      "\u001b[0;32m<__array_function__ internals>\u001b[0m in \u001b[0;36munique\u001b[0;34m(*args, **kwargs)\u001b[0m\n",
      "\u001b[0;32m/ssoft/spack/arvine/v1/opt/spack/linux-rhel7-skylake_avx512/gcc-8.4.0/python-3.7.7-drpdlwdbo3lmtkcbckq227ypnzno4ek3/lib/python3.7/site-packages/numpy/lib/arraysetops.py\u001b[0m in \u001b[0;36munique\u001b[0;34m(ar, return_index, return_inverse, return_counts, axis)\u001b[0m\n\u001b[1;32m    261\u001b[0m     \u001b[0mar\u001b[0m \u001b[0;34m=\u001b[0m \u001b[0mnp\u001b[0m\u001b[0;34m.\u001b[0m\u001b[0masanyarray\u001b[0m\u001b[0;34m(\u001b[0m\u001b[0mar\u001b[0m\u001b[0;34m)\u001b[0m\u001b[0;34m\u001b[0m\u001b[0;34m\u001b[0m\u001b[0m\n\u001b[1;32m    262\u001b[0m     \u001b[0;32mif\u001b[0m \u001b[0maxis\u001b[0m \u001b[0;32mis\u001b[0m \u001b[0;32mNone\u001b[0m\u001b[0;34m:\u001b[0m\u001b[0;34m\u001b[0m\u001b[0;34m\u001b[0m\u001b[0m\n\u001b[0;32m--> 263\u001b[0;31m         \u001b[0mret\u001b[0m \u001b[0;34m=\u001b[0m \u001b[0m_unique1d\u001b[0m\u001b[0;34m(\u001b[0m\u001b[0mar\u001b[0m\u001b[0;34m,\u001b[0m \u001b[0mreturn_index\u001b[0m\u001b[0;34m,\u001b[0m \u001b[0mreturn_inverse\u001b[0m\u001b[0;34m,\u001b[0m \u001b[0mreturn_counts\u001b[0m\u001b[0;34m)\u001b[0m\u001b[0;34m\u001b[0m\u001b[0;34m\u001b[0m\u001b[0m\n\u001b[0m\u001b[1;32m    264\u001b[0m         \u001b[0;32mreturn\u001b[0m \u001b[0m_unpack_tuple\u001b[0m\u001b[0;34m(\u001b[0m\u001b[0mret\u001b[0m\u001b[0;34m)\u001b[0m\u001b[0;34m\u001b[0m\u001b[0;34m\u001b[0m\u001b[0m\n\u001b[1;32m    265\u001b[0m \u001b[0;34m\u001b[0m\u001b[0m\n",
      "\u001b[0;32m/ssoft/spack/arvine/v1/opt/spack/linux-rhel7-skylake_avx512/gcc-8.4.0/python-3.7.7-drpdlwdbo3lmtkcbckq227ypnzno4ek3/lib/python3.7/site-packages/numpy/lib/arraysetops.py\u001b[0m in \u001b[0;36m_unique1d\u001b[0;34m(ar, return_index, return_inverse, return_counts)\u001b[0m\n\u001b[1;32m    309\u001b[0m         \u001b[0maux\u001b[0m \u001b[0;34m=\u001b[0m \u001b[0mar\u001b[0m\u001b[0;34m[\u001b[0m\u001b[0mperm\u001b[0m\u001b[0;34m]\u001b[0m\u001b[0;34m\u001b[0m\u001b[0;34m\u001b[0m\u001b[0m\n\u001b[1;32m    310\u001b[0m     \u001b[0;32melse\u001b[0m\u001b[0;34m:\u001b[0m\u001b[0;34m\u001b[0m\u001b[0;34m\u001b[0m\u001b[0m\n\u001b[0;32m--> 311\u001b[0;31m         \u001b[0mar\u001b[0m\u001b[0;34m.\u001b[0m\u001b[0msort\u001b[0m\u001b[0;34m(\u001b[0m\u001b[0;34m)\u001b[0m\u001b[0;34m\u001b[0m\u001b[0;34m\u001b[0m\u001b[0m\n\u001b[0m\u001b[1;32m    312\u001b[0m         \u001b[0maux\u001b[0m \u001b[0;34m=\u001b[0m \u001b[0mar\u001b[0m\u001b[0;34m\u001b[0m\u001b[0;34m\u001b[0m\u001b[0m\n\u001b[1;32m    313\u001b[0m     \u001b[0mmask\u001b[0m \u001b[0;34m=\u001b[0m \u001b[0mnp\u001b[0m\u001b[0;34m.\u001b[0m\u001b[0mempty\u001b[0m\u001b[0;34m(\u001b[0m\u001b[0maux\u001b[0m\u001b[0;34m.\u001b[0m\u001b[0mshape\u001b[0m\u001b[0;34m,\u001b[0m \u001b[0mdtype\u001b[0m\u001b[0;34m=\u001b[0m\u001b[0mnp\u001b[0m\u001b[0;34m.\u001b[0m\u001b[0mbool_\u001b[0m\u001b[0;34m)\u001b[0m\u001b[0;34m\u001b[0m\u001b[0;34m\u001b[0m\u001b[0m\n",
      "\u001b[0;31mKeyboardInterrupt\u001b[0m: "
     ]
    }
   ],
   "source": [
    "X = pd.concat([log_data.drop(columns=token_columns),one_hot_tokens()], axis='columns')"
   ]
  },
  {
   "cell_type": "markdown",
   "metadata": {},
   "source": [
    "#  Transform each cycle into a feature matrix  & Zero-padding"
   ]
  },
  {
   "cell_type": "code",
   "execution_count": 4,
   "metadata": {},
   "outputs": [],
   "source": [
    "X = np.load(cfg['files'][\"raw_features\"])"
   ]
  },
  {
   "cell_type": "code",
   "execution_count": 5,
   "metadata": {},
   "outputs": [],
   "source": [
    "from sklearn.model_selection import train_test_split\n",
    "# train/test split and standard scaling \n",
    "test_size = 0.3\n",
    "N =  X.shape[0]\n",
    "N_train = int(N * (1 - test_size))\n",
    "X_train, X_test, train_id, test_id = train_test_split(X, np.arange(X.shape[0]),test_size=test_size, random_state=123)\n",
    "\n",
    "\n",
    "#scaler = StandardScaler()\n",
    "#scaler.fit(X_train)\n",
    "\n",
    "#X_train_scaled = scaler.transform(X_train)\n",
    "#X_test_scaled  = scaler.transform(X_test)\n",
    "\n",
    "X_train_scaled = X_train\n",
    "X_test_scaled = X_test"
   ]
  },
  {
   "cell_type": "code",
   "execution_count": 24,
   "metadata": {},
   "outputs": [],
   "source": [
    "np.save(cfg['files']['raw_test_features'] , X_test)\n",
    "np.save(cfg['files']['raw_train_features'] ,X_train)\n",
    "np.save(cfg['files']['raw_test_ids'] , test_id)\n",
    "np.save(cfg['files']['raw_train_ids'] , train_id)"
   ]
  },
  {
   "cell_type": "markdown",
   "metadata": {},
   "source": [
    "# Model definition"
   ]
  },
  {
   "cell_type": "code",
   "execution_count": 6,
   "metadata": {},
   "outputs": [],
   "source": [
    "def build_model():\n",
    "    input_img = keras.Input(shape=(3,600, 2))\n",
    "    x = layers.Conv2D(8, (3, 3), activation='relu', padding='same')(input_img)\n",
    "    x = layers.MaxPooling2D((3, 3), padding='same')(x)\n",
    "    x = layers.Conv2D(4, (3, 3), activation='relu', padding='same')(x)\n",
    "    x = layers.MaxPooling2D((2, 2), padding='same')(x)\n",
    "    encoded = layers.Conv2D(1, (2, 2), activation='relu', padding='same')(x)\n",
    "    # at this point the representation is 100-dimensional\n",
    "    x = layers.Conv2D(4, (2, 2), activation='relu', padding='same')(encoded)\n",
    "    x = layers.UpSampling2D((1, 2))(x)\n",
    "    x = layers.Conv2D(8, (3, 3), activation='relu', padding='same')(x)\n",
    "    x = layers.UpSampling2D((3, 3))(x)\n",
    "    decoded = layers.Conv2D(2, (3, 3), activation='relu', padding='same')(x)\n",
    "\n",
    "    autoencoder = keras.Model(input_img, decoded)\n",
    "    autoencoder.compile(optimizer='adam', metrics=['accuracy'],loss='mean_squared_error',)\n",
    "    \n",
    "    return autoencoder"
   ]
  },
  {
   "cell_type": "code",
   "execution_count": 7,
   "metadata": {},
   "outputs": [
    {
     "name": "stderr",
     "output_type": "stream",
     "text": [
      "2021-12-21 15:02:20.413863: I tensorflow/stream_executor/platform/default/dso_loader.cc:48] Successfully opened dynamic library libcuda.so.1\n",
      "2021-12-21 15:02:20.625999: E tensorflow/stream_executor/cuda/cuda_driver.cc:314] failed call to cuInit: CUDA_ERROR_NO_DEVICE: no CUDA-capable device is detected\n",
      "2021-12-21 15:02:20.626040: I tensorflow/stream_executor/cuda/cuda_diagnostics.cc:156] kernel driver does not appear to be running on this host (izar): /proc/driver/nvidia/version does not exist\n"
     ]
    },
    {
     "name": "stdout",
     "output_type": "stream",
     "text": [
      "Model: \"functional_1\"\n",
      "_________________________________________________________________\n",
      "Layer (type)                 Output Shape              Param #   \n",
      "=================================================================\n",
      "input_1 (InputLayer)         [(None, 3, 600, 2)]       0         \n",
      "_________________________________________________________________\n",
      "conv2d (Conv2D)              (None, 3, 600, 8)         152       \n",
      "_________________________________________________________________\n",
      "max_pooling2d (MaxPooling2D) (None, 1, 200, 8)         0         \n",
      "_________________________________________________________________\n",
      "conv2d_1 (Conv2D)            (None, 1, 200, 4)         292       \n",
      "_________________________________________________________________\n",
      "max_pooling2d_1 (MaxPooling2 (None, 1, 100, 4)         0         \n",
      "_________________________________________________________________\n",
      "conv2d_2 (Conv2D)            (None, 1, 100, 1)         17        \n",
      "_________________________________________________________________\n",
      "conv2d_3 (Conv2D)            (None, 1, 100, 4)         20        \n",
      "_________________________________________________________________\n",
      "up_sampling2d (UpSampling2D) (None, 1, 200, 4)         0         \n",
      "_________________________________________________________________\n",
      "conv2d_4 (Conv2D)            (None, 1, 200, 8)         296       \n",
      "_________________________________________________________________\n",
      "up_sampling2d_1 (UpSampling2 (None, 3, 600, 8)         0         \n",
      "_________________________________________________________________\n",
      "conv2d_5 (Conv2D)            (None, 3, 600, 2)         146       \n",
      "=================================================================\n",
      "Total params: 923\n",
      "Trainable params: 923\n",
      "Non-trainable params: 0\n",
      "_________________________________________________________________\n"
     ]
    }
   ],
   "source": [
    "autoencoder = build_model()\n",
    "autoencoder.summary()"
   ]
  },
  {
   "cell_type": "code",
   "execution_count": 9,
   "metadata": {},
   "outputs": [
    {
     "name": "stdout",
     "output_type": "stream",
     "text": [
      "Epoch 1/100\n",
      "90/90 [==============================] - 10s 117ms/step - loss: 54098.7344 - accuracy: 0.8029\n",
      "Epoch 2/100\n",
      "90/90 [==============================] - 10s 110ms/step - loss: 36887.2656 - accuracy: 0.8141\n",
      "Epoch 3/100\n",
      "90/90 [==============================] - 10s 107ms/step - loss: 35729.7266 - accuracy: 0.8141\n",
      "Epoch 4/100\n",
      "90/90 [==============================] - 10s 108ms/step - loss: 35427.8008 - accuracy: 0.8141\n",
      "Epoch 5/100\n",
      "90/90 [==============================] - 10s 108ms/step - loss: 35287.6328 - accuracy: 0.8141\n",
      "Epoch 6/100\n",
      "90/90 [==============================] - 10s 109ms/step - loss: 35187.2227 - accuracy: 0.8141\n",
      "Epoch 7/100\n",
      "90/90 [==============================] - 10s 108ms/step - loss: 35129.7500 - accuracy: 0.8141\n",
      "Epoch 8/100\n",
      "90/90 [==============================] - 10s 108ms/step - loss: 35063.3984 - accuracy: 0.8141\n",
      "Epoch 9/100\n",
      "90/90 [==============================] - 10s 108ms/step - loss: 35020.9531 - accuracy: 0.8141\n",
      "Epoch 10/100\n",
      "90/90 [==============================] - 10s 107ms/step - loss: 34985.0508 - accuracy: 0.8141\n",
      "Epoch 11/100\n",
      "90/90 [==============================] - 10s 108ms/step - loss: 34933.6602 - accuracy: 0.8141\n",
      "Epoch 12/100\n",
      "90/90 [==============================] - 10s 107ms/step - loss: 34886.0312 - accuracy: 0.8141\n",
      "Epoch 13/100\n",
      "90/90 [==============================] - 10s 108ms/step - loss: 34840.4531 - accuracy: 0.8141\n",
      "Epoch 14/100\n",
      "90/90 [==============================] - 10s 110ms/step - loss: 34797.8008 - accuracy: 0.8141\n",
      "Epoch 15/100\n",
      "90/90 [==============================] - 10s 108ms/step - loss: 34738.4922 - accuracy: 0.8141\n",
      "Epoch 16/100\n",
      "90/90 [==============================] - 10s 107ms/step - loss: 34697.0234 - accuracy: 0.8141s - loss: 3\n",
      "Epoch 17/100\n",
      "90/90 [==============================] - 10s 108ms/step - loss: 34666.8242 - accuracy: 0.8141\n",
      "Epoch 18/100\n",
      "90/90 [==============================] - 10s 108ms/step - loss: 34627.7930 - accuracy: 0.8141\n",
      "Epoch 19/100\n",
      "90/90 [==============================] - 10s 108ms/step - loss: 34607.6719 - accuracy: 0.8141\n",
      "Epoch 20/100\n",
      "90/90 [==============================] - 10s 108ms/step - loss: 34542.2109 - accuracy: 0.8141\n",
      "Epoch 21/100\n",
      "90/90 [==============================] - 10s 108ms/step - loss: 34490.3008 - accuracy: 0.8141\n",
      "Epoch 22/100\n",
      "90/90 [==============================] - 10s 107ms/step - loss: 34407.6016 - accuracy: 0.8141\n",
      "Epoch 23/100\n",
      "90/90 [==============================] - 10s 108ms/step - loss: 34356.6094 - accuracy: 0.8141\n",
      "Epoch 24/100\n",
      "90/90 [==============================] - 10s 108ms/step - loss: 34293.7812 - accuracy: 0.8140s - loss: 34175.3\n",
      "Epoch 25/100\n",
      "90/90 [==============================] - 10s 108ms/step - loss: 34227.4570 - accuracy: 0.8140\n",
      "Epoch 26/100\n",
      "90/90 [==============================] - 10s 110ms/step - loss: 34161.2617 - accuracy: 0.8138\n",
      "Epoch 27/100\n",
      "90/90 [==============================] - 10s 108ms/step - loss: 34014.1055 - accuracy: 0.8136\n",
      "Epoch 28/100\n",
      "90/90 [==============================] - 10s 108ms/step - loss: 33871.1836 - accuracy: 0.8135\n",
      "Epoch 29/100\n",
      "90/90 [==============================] - 10s 107ms/step - loss: 33713.5664 - accuracy: 0.8134\n",
      "Epoch 30/100\n",
      "90/90 [==============================] - 10s 107ms/step - loss: 33575.9570 - accuracy: 0.8131\n",
      "Epoch 31/100\n",
      "90/90 [==============================] - 10s 108ms/step - loss: 33410.0195 - accuracy: 0.8127\n",
      "Epoch 32/100\n",
      "90/90 [==============================] - 10s 107ms/step - loss: 33205.6094 - accuracy: 0.8121\n",
      "Epoch 33/100\n",
      "90/90 [==============================] - 10s 107ms/step - loss: 32922.6641 - accuracy: 0.8106\n",
      "Epoch 34/100\n",
      "90/90 [==============================] - 10s 108ms/step - loss: 32578.1387 - accuracy: 0.8093\n",
      "Epoch 35/100\n",
      "90/90 [==============================] - 10s 108ms/step - loss: 32195.1074 - accuracy: 0.8083\n",
      "Epoch 36/100\n",
      "90/90 [==============================] - 10s 108ms/step - loss: 31785.2500 - accuracy: 0.8072\n",
      "Epoch 37/100\n",
      "90/90 [==============================] - 10s 107ms/step - loss: 31348.5273 - accuracy: 0.8057\n",
      "Epoch 38/100\n",
      "90/90 [==============================] - 10s 108ms/step - loss: 30879.2559 - accuracy: 0.8023\n",
      "Epoch 39/100\n",
      "90/90 [==============================] - 10s 110ms/step - loss: 30377.6797 - accuracy: 0.7987\n",
      "Epoch 40/100\n",
      "90/90 [==============================] - 10s 108ms/step - loss: 29800.0078 - accuracy: 0.7978\n",
      "Epoch 41/100\n",
      "90/90 [==============================] - 10s 108ms/step - loss: 29262.1484 - accuracy: 0.7976\n",
      "Epoch 42/100\n",
      "90/90 [==============================] - 10s 108ms/step - loss: 28858.7227 - accuracy: 0.7976\n",
      "Epoch 43/100\n",
      "90/90 [==============================] - 10s 107ms/step - loss: 28634.0586 - accuracy: 0.7978\n",
      "Epoch 44/100\n",
      "90/90 [==============================] - 10s 108ms/step - loss: 28377.7676 - accuracy: 0.7981\n",
      "Epoch 45/100\n",
      "90/90 [==============================] - 10s 108ms/step - loss: 28204.5488 - accuracy: 0.7981\n",
      "Epoch 46/100\n",
      "90/90 [==============================] - 10s 109ms/step - loss: 28067.1484 - accuracy: 0.7980s - loss: 28232.7852 - ac\n",
      "Epoch 47/100\n",
      "90/90 [==============================] - 10s 108ms/step - loss: 27948.8203 - accuracy: 0.7978\n",
      "Epoch 48/100\n",
      "90/90 [==============================] - 10s 108ms/step - loss: 27780.5332 - accuracy: 0.7980\n",
      "Epoch 49/100\n",
      "90/90 [==============================] - 10s 108ms/step - loss: 27736.0391 - accuracy: 0.7980\n",
      "Epoch 50/100\n",
      "90/90 [==============================] - 10s 108ms/step - loss: 27594.5078 - accuracy: 0.7980\n",
      "Epoch 51/100\n",
      "90/90 [==============================] - 10s 109ms/step - loss: 27542.3008 - accuracy: 0.7980\n",
      "Epoch 52/100\n",
      "90/90 [==============================] - 10s 108ms/step - loss: 27474.1562 - accuracy: 0.7978\n",
      "Epoch 53/100\n",
      "90/90 [==============================] - 10s 108ms/step - loss: 27364.8984 - accuracy: 0.7980\n",
      "Epoch 54/100\n",
      "90/90 [==============================] - 10s 110ms/step - loss: 27287.6406 - accuracy: 0.7979\n",
      "Epoch 55/100\n",
      "90/90 [==============================] - 10s 107ms/step - loss: 27252.0332 - accuracy: 0.7978\n",
      "Epoch 56/100\n",
      "90/90 [==============================] - 10s 108ms/step - loss: 27071.4395 - accuracy: 0.7977\n",
      "Epoch 57/100\n",
      "90/90 [==============================] - 10s 108ms/step - loss: 27040.0137 - accuracy: 0.7977\n",
      "Epoch 58/100\n",
      "90/90 [==============================] - 10s 108ms/step - loss: 26726.9961 - accuracy: 0.7975\n",
      "Epoch 59/100\n",
      "90/90 [==============================] - 10s 108ms/step - loss: 26628.8789 - accuracy: 0.7973\n",
      "Epoch 60/100\n",
      "90/90 [==============================] - 10s 107ms/step - loss: 26438.9629 - accuracy: 0.7974\n",
      "Epoch 61/100\n",
      "90/90 [==============================] - 10s 109ms/step - loss: 26337.0156 - accuracy: 0.7974\n",
      "Epoch 62/100\n",
      "90/90 [==============================] - 10s 107ms/step - loss: 26240.2402 - accuracy: 0.7973\n",
      "Epoch 63/100\n",
      "90/90 [==============================] - 10s 109ms/step - loss: 26134.5293 - accuracy: 0.7976\n",
      "Epoch 64/100\n",
      "90/90 [==============================] - 10s 108ms/step - loss: 26167.9238 - accuracy: 0.7974\n",
      "Epoch 65/100\n",
      "90/90 [==============================] - 10s 108ms/step - loss: 26055.7148 - accuracy: 0.7977\n",
      "Epoch 66/100\n",
      "90/90 [==============================] - 10s 108ms/step - loss: 26037.7324 - accuracy: 0.7977\n",
      "Epoch 67/100\n",
      "90/90 [==============================] - 10s 107ms/step - loss: 25977.7070 - accuracy: 0.7977\n",
      "Epoch 68/100\n",
      "90/90 [==============================] - 10s 108ms/step - loss: 26000.6270 - accuracy: 0.7978\n",
      "Epoch 69/100\n",
      "90/90 [==============================] - 10s 107ms/step - loss: 25984.9512 - accuracy: 0.7978\n",
      "Epoch 70/100\n",
      "90/90 [==============================] - 10s 108ms/step - loss: 25946.5723 - accuracy: 0.7976\n",
      "Epoch 71/100\n",
      "90/90 [==============================] - 10s 108ms/step - loss: 25901.5566 - accuracy: 0.7980\n",
      "Epoch 72/100\n",
      "90/90 [==============================] - 10s 109ms/step - loss: 25836.2402 - accuracy: 0.7981\n",
      "Epoch 73/100\n",
      "90/90 [==============================] - 10s 108ms/step - loss: 25808.6270 - accuracy: 0.7981\n",
      "Epoch 74/100\n",
      "90/90 [==============================] - 10s 108ms/step - loss: 25819.2227 - accuracy: 0.7981\n",
      "Epoch 75/100\n",
      "90/90 [==============================] - 10s 109ms/step - loss: 25848.6797 - accuracy: 0.7984\n",
      "Epoch 76/100\n"
     ]
    },
    {
     "name": "stdout",
     "output_type": "stream",
     "text": [
      "90/90 [==============================] - 10s 107ms/step - loss: 25782.6641 - accuracy: 0.7984s - loss: 25834\n",
      "Epoch 77/100\n",
      "90/90 [==============================] - 10s 107ms/step - loss: 25770.3652 - accuracy: 0.7985\n",
      "Epoch 78/100\n",
      "90/90 [==============================] - 10s 107ms/step - loss: 25792.7578 - accuracy: 0.7985\n",
      "Epoch 79/100\n",
      "90/90 [==============================] - 10s 106ms/step - loss: 25731.7129 - accuracy: 0.7984\n",
      "Epoch 80/100\n",
      "90/90 [==============================] - 10s 107ms/step - loss: 25786.8555 - accuracy: 0.7988\n",
      "Epoch 81/100\n",
      "90/90 [==============================] - 10s 106ms/step - loss: 25766.4883 - accuracy: 0.7988\n",
      "Epoch 82/100\n",
      "90/90 [==============================] - 10s 106ms/step - loss: 25691.6680 - accuracy: 0.7990\n",
      "Epoch 83/100\n",
      "90/90 [==============================] - 10s 107ms/step - loss: 25679.7969 - accuracy: 0.7990\n",
      "Epoch 84/100\n",
      "90/90 [==============================] - 10s 106ms/step - loss: 25682.1367 - accuracy: 0.7990\n",
      "Epoch 85/100\n",
      "90/90 [==============================] - 10s 106ms/step - loss: 25641.5137 - accuracy: 0.7991\n",
      "Epoch 86/100\n",
      "90/90 [==============================] - 10s 106ms/step - loss: 25653.8320 - accuracy: 0.7991\n",
      "Epoch 87/100\n",
      "90/90 [==============================] - 10s 107ms/step - loss: 25628.5215 - accuracy: 0.7992\n",
      "Epoch 88/100\n",
      "90/90 [==============================] - 10s 109ms/step - loss: 25689.2715 - accuracy: 0.7994\n",
      "Epoch 89/100\n",
      "90/90 [==============================] - 10s 106ms/step - loss: 25678.4570 - accuracy: 0.7994\n",
      "Epoch 90/100\n",
      "90/90 [==============================] - 10s 106ms/step - loss: 25608.2012 - accuracy: 0.7997\n",
      "Epoch 91/100\n",
      "90/90 [==============================] - 9s 106ms/step - loss: 25568.3926 - accuracy: 0.7997\n",
      "Epoch 92/100\n",
      "90/90 [==============================] - 10s 106ms/step - loss: 25617.1836 - accuracy: 0.7997\n",
      "Epoch 93/100\n",
      "90/90 [==============================] - 10s 106ms/step - loss: 25568.0449 - accuracy: 0.7995\n",
      "Epoch 94/100\n",
      "90/90 [==============================] - 10s 106ms/step - loss: 25549.9590 - accuracy: 0.7997\n",
      "Epoch 95/100\n",
      "90/90 [==============================] - 10s 106ms/step - loss: 25544.8730 - accuracy: 0.7997\n",
      "Epoch 96/100\n",
      "90/90 [==============================] - 10s 106ms/step - loss: 25574.3457 - accuracy: 0.7997\n",
      "Epoch 97/100\n",
      "90/90 [==============================] - 9s 106ms/step - loss: 25562.1035 - accuracy: 0.79970s - loss: 25852.363\n",
      "Epoch 98/100\n",
      "90/90 [==============================] - 10s 107ms/step - loss: 25532.7422 - accuracy: 0.7999\n",
      "Epoch 99/100\n",
      "90/90 [==============================] - 10s 106ms/step - loss: 25495.0215 - accuracy: 0.7999\n",
      "Epoch 100/100\n",
      "90/90 [==============================] - 10s 109ms/step - loss: 25493.0742 - accuracy: 0.7999\n"
     ]
    },
    {
     "data": {
      "image/png": "[encoded data removed]",
      "text/plain": [
       "<Figure size 432x288 with 1 Axes>"
      ]
     },
     "metadata": {},
     "output_type": "display_data"
    }
   ],
   "source": [
    "hist = autoencoder.fit(X_train_scaled, X_train_scaled,\n",
    "                epochs=100,\n",
    "                batch_size=32,\n",
    "                shuffle=True,\n",
    "                verbose=1)\n",
    "plt.plot(hist.history[\"loss\"])\n",
    "plt.show()"
   ]
  },
  {
   "cell_type": "code",
   "execution_count": 10,
   "metadata": {
    "scrolled": true
   },
   "outputs": [
    {
     "name": "stdout",
     "output_type": "stream",
     "text": [
      "MSE train : 25541.59590293752 \n",
      "MSE test  : 26834.885744139337\n"
     ]
    }
   ],
   "source": [
    "from sklearn.metrics import mean_squared_error\n",
    "def print_mse(compute_pred = lambda x :autoencoder.predict(x)):\n",
    "    ae_of_train = mean_squared_error(X_train_scaled.reshape(-1),compute_pred(X_train_scaled).reshape(-1))\n",
    "    ae_of_test = mean_squared_error(X_test_scaled.reshape(-1), compute_pred(X_test_scaled).reshape(-1))\n",
    "    print(f\"MSE train : {ae_of_train} \\nMSE test  : {ae_of_test}\")\n",
    "print_mse()"
   ]
  },
  {
   "cell_type": "code",
   "execution_count": 11,
   "metadata": {},
   "outputs": [
    {
     "name": "stdout",
     "output_type": "stream",
     "text": [
      "MSE train : 1237.185732071038 \n",
      "MSE test  : 1838.7659055421211\n"
     ]
    }
   ],
   "source": [
    "from sklearn import decomposition\n",
    "pca = decomposition.PCA(n_components=100)\n",
    "tX_train = X_train_scaled.reshape(N_train,-1)\n",
    "tX_test = X_test_scaled.reshape(N - N_train,-1)\n",
    "pca.fit(tX_train)\n",
    "#print_mse(lambda x: pca.inverse_transform(pca.transform(tX_train)))\n",
    "pca_train = mean_squared_error(tX_train, pca.inverse_transform(pca.transform(tX_train)))\n",
    "pca_test =  mean_squared_error(tX_test, pca.inverse_transform(pca.transform(tX_test)))\n",
    "print(f\"MSE train : {pca_train} \\nMSE test  : {pca_test}\")"
   ]
  },
  {
   "cell_type": "code",
   "execution_count": 12,
   "metadata": {
    "scrolled": true
   },
   "outputs": [
    {
     "name": "stderr",
     "output_type": "stream",
     "text": [
      "2021-12-21 15:20:06.729392: W tensorflow/python/util/util.cc:348] Sets are not currently considered sequences, but this may change in the future, so consider avoiding using them.\n"
     ]
    }
   ],
   "source": [
    "autoencoder.save('autoencoder_model')"
   ]
  },
  {
   "cell_type": "markdown",
   "metadata": {},
   "source": [
    "# Load model"
   ]
  },
  {
   "cell_type": "code",
   "execution_count": 13,
   "metadata": {},
   "outputs": [],
   "source": [
    "autoencoder = keras.models.load_model('autoencoder_model')\n",
    "X = np.load(cfg['files'][\"raw_features\"])"
   ]
  },
  {
   "cell_type": "code",
   "execution_count": 20,
   "metadata": {},
   "outputs": [
    {
     "data": {
      "text/plain": [
       "array([[[[ -5.32015037,  17.99999898],\n",
       "         [ -4.45695528,  16.99999949],\n",
       "         [ -4.49284688,  16.99999949],\n",
       "         ...,\n",
       "         [ -1.6863906 ,  41.00999987],\n",
       "         [ -1.66454188,  41.00999987],\n",
       "         [ -1.6680385 ,  32.99999949]],\n",
       "\n",
       "        [[  7.29062134,  25.99999898],\n",
       "         [  9.47089524,  30.00000102],\n",
       "         [  9.10894194,  28.99999949],\n",
       "         ...,\n",
       "         [  0.        ,   0.        ],\n",
       "         [  0.        ,   0.        ],\n",
       "         [  0.        ,   0.        ]],\n",
       "\n",
       "        [[-11.6484556 ,  44.23192576],\n",
       "         [-11.07534862,  35.00000051],\n",
       "         [-11.04633346, 101.00000358],\n",
       "         ...,\n",
       "         [-10.09539986,  20.99999949],\n",
       "         [-10.08533068,  18.7499991 ],\n",
       "         [-10.12098522,  28.        ]]]])"
      ]
     },
     "execution_count": 20,
     "metadata": {},
     "output_type": "execute_result"
    }
   ],
   "source": [
    "X[:1]"
   ]
  },
  {
   "cell_type": "code",
   "execution_count": 21,
   "metadata": {
    "scrolled": false
   },
   "outputs": [
    {
     "data": {
      "text/plain": [
       "<tf.Tensor: shape=(1, 3, 600, 2), dtype=float32, numpy=\n",
       "array([[[[ 0.       , 11.931336 ],\n",
       "         [ 0.       , 11.46713  ],\n",
       "         [ 0.       , 11.851921 ],\n",
       "         ...,\n",
       "         [ 0.       ,  0.       ],\n",
       "         [ 0.       ,  0.       ],\n",
       "         [ 0.       ,  0.       ]],\n",
       "\n",
       "        [[ 0.       , 30.082447 ],\n",
       "         [ 0.       , 47.8061   ],\n",
       "         [ 0.       , 29.722042 ],\n",
       "         ...,\n",
       "         [ 0.       ,  0.       ],\n",
       "         [ 0.       ,  0.       ],\n",
       "         [ 0.       ,  0.       ]],\n",
       "\n",
       "        [[ 0.       ,  1.2651794],\n",
       "         [ 0.       ,  0.       ],\n",
       "         [ 0.       ,  3.905907 ],\n",
       "         ...,\n",
       "         [ 0.       ,  0.       ],\n",
       "         [ 0.       ,  0.       ],\n",
       "         [ 0.       ,  0.       ]]]], dtype=float32)>"
      ]
     },
     "execution_count": 21,
     "metadata": {},
     "output_type": "execute_result"
    }
   ],
   "source": [
    "autoencoder(X[4:5])"
   ]
  },
  {
   "cell_type": "code",
   "execution_count": 22,
   "metadata": {},
   "outputs": [
    {
     "data": {
      "text/plain": [
       "<tf.Tensor: shape=(1, 3, 600, 2), dtype=float32, numpy=\n",
       "array([[[[  0.      ,  33.47847 ],\n",
       "         [  0.      ,  34.10285 ],\n",
       "         [  0.      ,  34.3735  ],\n",
       "         ...,\n",
       "         [  0.      ,   0.      ],\n",
       "         [  0.      ,   0.      ],\n",
       "         [  0.      ,   0.      ]],\n",
       "\n",
       "        [[  0.      ,  92.61729 ],\n",
       "         [  0.      , 152.37823 ],\n",
       "         [  0.      , 103.295334],\n",
       "         ...,\n",
       "         [  0.      ,   0.      ],\n",
       "         [  0.      ,   0.      ],\n",
       "         [  0.      ,   0.      ]],\n",
       "\n",
       "        [[  0.      ,  10.691814],\n",
       "         [  0.      ,   0.      ],\n",
       "         [  0.      ,  27.942345],\n",
       "         ...,\n",
       "         [  0.      ,   0.      ],\n",
       "         [  0.      ,   0.      ],\n",
       "         [  0.      ,   0.      ]]]], dtype=float32)>"
      ]
     },
     "execution_count": 22,
     "metadata": {},
     "output_type": "execute_result"
    }
   ],
   "source": [
    "autoencoder(X[100:101])"
   ]
  },
  {
   "cell_type": "code",
   "execution_count": 6,
   "metadata": {},
   "outputs": [],
   "source": [
    "encoding_layer = 5\n",
    "\n",
    "def extract_layers(main_model, starting_layer_ix, ending_layer_ix):\n",
    "    \"\"\"extract layers between starting_layer_ix and ending_layer_ix from a given model\"\"\"\n",
    "     # create an empty model\n",
    "    new_model = keras.Sequential()\n",
    "    for ix in range(starting_layer_ix, ending_layer_ix + 1):\n",
    "        curr_layer = main_model.get_layer(index=ix)\n",
    "    # copy this layer over to the new model\n",
    "        new_model.add(curr_layer)\n",
    "    return new_model\n",
    "# extract en encoder part of the autoencoder\n",
    "encoder = extract_layers(autoencoder,0,encoding_layer)"
   ]
  },
  {
   "cell_type": "code",
   "execution_count": 27,
   "metadata": {},
   "outputs": [
    {
     "data": {
      "text/plain": [
       "False"
      ]
     },
     "execution_count": 27,
     "metadata": {},
     "output_type": "execute_result"
    }
   ],
   "source": [
    "X_train = np.load(cfg['files']['raw_train_features'])\n",
    "np.isnan(X_train).any()\n",
    "#encoder(X_train)"
   ]
  },
  {
   "cell_type": "code",
   "execution_count": 8,
   "metadata": {},
   "outputs": [
    {
     "data": {
      "text/plain": [
       "0.0"
      ]
     },
     "execution_count": 8,
     "metadata": {},
     "output_type": "execute_result"
    }
   ],
   "source": [
    "X_train[0].min()"
   ]
  },
  {
   "cell_type": "code",
   "execution_count": 9,
   "metadata": {},
   "outputs": [],
   "source": [
    "train_id  =np.load(cfg['files']['train_ids'])"
   ]
  },
  {
   "cell_type": "code",
   "execution_count": 10,
   "metadata": {},
   "outputs": [
    {
     "data": {
      "text/plain": [
       "array([3144, 9939, 7925, ..., 5218, 1346, 3582])"
      ]
     },
     "execution_count": 10,
     "metadata": {},
     "output_type": "execute_result"
    }
   ],
   "source": [
    "train_id"
   ]
  },
  {
   "cell_type": "code",
   "execution_count": 12,
   "metadata": {},
   "outputs": [
    {
     "data": {
      "text/plain": [
       "0.0"
      ]
     },
     "execution_count": 12,
     "metadata": {},
     "output_type": "execute_result"
    }
   ],
   "source": [
    "X[3144].min()"
   ]
  },
  {
   "cell_type": "code",
   "execution_count": 45,
   "metadata": {},
   "outputs": [
    {
     "data": {
      "text/plain": [
       "672"
      ]
     },
     "execution_count": 45,
     "metadata": {},
     "output_type": "execute_result"
    }
   ],
   "source": [
    "a = []\n",
    "for i in range(X_train.shape[0]):\n",
    "    a.append(X_train[i].max())\n",
    "a = np.array(a)\n",
    "a.argmax()"
   ]
  },
  {
   "cell_type": "code",
   "execution_count": 7,
   "metadata": {},
   "outputs": [
    {
     "data": {
      "text/plain": [
       "0.0"
      ]
     },
     "execution_count": 7,
     "metadata": {},
     "output_type": "execute_result"
    }
   ],
   "source": [
    "len(a[a == 0])/len(a)"
   ]
  },
  {
   "cell_type": "code",
   "execution_count": 6,
   "metadata": {},
   "outputs": [
    {
     "data": {
      "text/plain": [
       "2000"
      ]
     },
     "execution_count": 6,
     "metadata": {},
     "output_type": "execute_result"
    }
   ],
   "source": [
    "a = []\n",
    "for i in range(X.shape[0]):\n",
    "    a.append(X[i].max())\n",
    "a = np.array(a)\n",
    "a.argmax()"
   ]
  },
  {
   "cell_type": "code",
   "execution_count": 32,
   "metadata": {},
   "outputs": [
    {
     "data": {
      "text/plain": [
       "array([[[11.74618272, 14.        ],\n",
       "        [11.72472664, 30.00000102],\n",
       "        [11.68929914, 46.00000102],\n",
       "        ...,\n",
       "        [ 0.        ,  0.        ],\n",
       "        [ 0.        ,  0.        ],\n",
       "        [ 0.        ,  0.        ]],\n",
       "\n",
       "       [[-6.44173954, 30.00000102],\n",
       "        [-6.38766396, 30.00000102],\n",
       "        [-6.29579457, 28.        ],\n",
       "        ...,\n",
       "        [ 0.        ,  0.        ],\n",
       "        [ 0.        ,  0.        ],\n",
       "        [ 0.        ,  0.        ]],\n",
       "\n",
       "       [[-5.29522908, 12.99999949],\n",
       "        [-5.29489376, 33.99999898],\n",
       "        [-5.29439048, 35.99999795],\n",
       "        ...,\n",
       "        [ 0.        ,  0.        ],\n",
       "        [ 0.        ,  0.        ],\n",
       "        [ 0.        ,  0.        ]]])"
      ]
     },
     "execution_count": 32,
     "metadata": {},
     "output_type": "execute_result"
    }
   ],
   "source": [
    "X_train[672]"
   ]
  },
  {
   "cell_type": "code",
   "execution_count": null,
   "metadata": {},
   "outputs": [],
   "source": []
  }
 ],
 "metadata": {
  "interpreter": {
   "hash": "c80cda4c1eab7d6fd1dc9dde18fc294f1832305a125f1fb8ec87a584595fc9f7"
  },
  "kernelspec": {
   "display_name": "Python 3 (ipykernel)",
   "language": "python",
   "name": "python3"
  },
  "language_info": {
   "codemirror_mode": {
    "name": "ipython",
    "version": 3
   },
   "file_extension": ".py",
   "mimetype": "text/x-python",
   "name": "python",
   "nbconvert_exporter": "python",
   "pygments_lexer": "ipython3",
   "version": "3.7.7"
  }
 },
 "nbformat": 4,
 "nbformat_minor": 2
}
