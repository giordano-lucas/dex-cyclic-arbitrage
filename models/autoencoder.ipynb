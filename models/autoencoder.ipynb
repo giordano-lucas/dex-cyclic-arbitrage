{
 "cells": [
  {
   "cell_type": "code",
   "execution_count": 1,
   "metadata": {},
   "outputs": [
    {
     "name": "stderr",
     "output_type": "stream",
     "text": [
      "2021-12-14 16:50:33.606981: I tensorflow/stream_executor/platform/default/dso_loader.cc:48] Successfully opened dynamic library libcudart.so.10.2\n",
      "WARNING: Logging before flag parsing goes to stderr.\n",
      "W1214 16:50:45.215559 47430702768960 __init__.py:333] Limited tf.compat.v2.summary API due to missing TensorBoard installation.\n",
      "W1214 16:50:45.272868 47430702768960 __init__.py:333] Limited tf.compat.v2.summary API due to missing TensorBoard installation.\n",
      "W1214 16:50:45.274479 47430702768960 __init__.py:333] Limited tf.compat.v2.summary API due to missing TensorBoard installation.\n",
      "W1214 16:50:45.429379 47430702768960 __init__.py:366] Limited tf.summary API due to missing TensorBoard installation.\n"
     ]
    }
   ],
   "source": [
    "import numpy as np\n",
    "import pandas as pd\n",
    "import matplotlib.pyplot as plt\n",
    "import tensorflow as tf\n",
    "%load_ext autoreload\n",
    "%autoreload 2\n",
    "plt.style.use('ggplot')"
   ]
  },
  {
   "cell_type": "code",
   "execution_count": 2,
   "metadata": {},
   "outputs": [],
   "source": [
    "from tensorflow import keras\n",
    "from tensorflow.keras import layers"
   ]
  },
  {
   "cell_type": "code",
   "execution_count": 3,
   "metadata": {},
   "outputs": [],
   "source": [
    "import sys \n",
    "sys.path.append(\"/scratch/izar/kapps/DEX-Cyclic-Arbitrage/\")\n",
    "from config.get import cfg"
   ]
  },
  {
   "cell_type": "markdown",
   "metadata": {},
   "source": [
    "# Data loading & preprocessing"
   ]
  },
  {
   "cell_type": "code",
   "execution_count": 4,
   "metadata": {
    "scrolled": false
   },
   "outputs": [
    {
     "data": {
      "text/html": [
       "<div>\n",
       "<style scoped>\n",
       "    .dataframe tbody tr th:only-of-type {\n",
       "        vertical-align: middle;\n",
       "    }\n",
       "\n",
       "    .dataframe tbody tr th {\n",
       "        vertical-align: top;\n",
       "    }\n",
       "\n",
       "    .dataframe thead th {\n",
       "        text-align: right;\n",
       "    }\n",
       "</style>\n",
       "<table border=\"1\" class=\"dataframe\">\n",
       "  <thead>\n",
       "    <tr style=\"text-align: right;\">\n",
       "      <th></th>\n",
       "      <th>cycle_id</th>\n",
       "      <th>token1</th>\n",
       "      <th>token2</th>\n",
       "      <th>baseAmount</th>\n",
       "      <th>quoteAmount</th>\n",
       "      <th>quotePrice</th>\n",
       "      <th>gasPrice</th>\n",
       "      <th>gasValue</th>\n",
       "      <th>time</th>\n",
       "    </tr>\n",
       "  </thead>\n",
       "  <tbody>\n",
       "    <tr>\n",
       "      <th>0</th>\n",
       "      <td>0</td>\n",
       "      <td>WETH</td>\n",
       "      <td>SHUF</td>\n",
       "      <td>0.010000</td>\n",
       "      <td>10.620910</td>\n",
       "      <td>1062.091006</td>\n",
       "      <td>34.100011</td>\n",
       "      <td>0.009516</td>\n",
       "      <td>2020-05-18 17:48:23</td>\n",
       "    </tr>\n",
       "    <tr>\n",
       "      <th>1</th>\n",
       "      <td>0</td>\n",
       "      <td>WETH</td>\n",
       "      <td>SHUF</td>\n",
       "      <td>0.009372</td>\n",
       "      <td>10.000000</td>\n",
       "      <td>1067.003380</td>\n",
       "      <td>33.210001</td>\n",
       "      <td>0.006049</td>\n",
       "      <td>2020-05-18 17:59:48</td>\n",
       "    </tr>\n",
       "    <tr>\n",
       "      <th>2</th>\n",
       "      <td>0</td>\n",
       "      <td>WETH</td>\n",
       "      <td>SHUF</td>\n",
       "      <td>0.010000</td>\n",
       "      <td>10.592990</td>\n",
       "      <td>1059.298991</td>\n",
       "      <td>33.100009</td>\n",
       "      <td>0.005471</td>\n",
       "      <td>2020-05-18 18:01:30</td>\n",
       "    </tr>\n",
       "    <tr>\n",
       "      <th>3</th>\n",
       "      <td>0</td>\n",
       "      <td>WETH</td>\n",
       "      <td>SHUF</td>\n",
       "      <td>0.010000</td>\n",
       "      <td>10.143472</td>\n",
       "      <td>1014.347243</td>\n",
       "      <td>33.100009</td>\n",
       "      <td>0.007748</td>\n",
       "      <td>2020-05-18 18:04:30</td>\n",
       "    </tr>\n",
       "    <tr>\n",
       "      <th>4</th>\n",
       "      <td>0</td>\n",
       "      <td>WETH</td>\n",
       "      <td>SHUF</td>\n",
       "      <td>0.009804</td>\n",
       "      <td>10.000000</td>\n",
       "      <td>1020.026068</td>\n",
       "      <td>33.100009</td>\n",
       "      <td>0.006029</td>\n",
       "      <td>2020-05-18 18:04:54</td>\n",
       "    </tr>\n",
       "  </tbody>\n",
       "</table>\n",
       "</div>"
      ],
      "text/plain": [
       "   cycle_id token1 token2  baseAmount  quoteAmount   quotePrice   gasPrice  \\\n",
       "0         0   WETH   SHUF    0.010000    10.620910  1062.091006  34.100011   \n",
       "1         0   WETH   SHUF    0.009372    10.000000  1067.003380  33.210001   \n",
       "2         0   WETH   SHUF    0.010000    10.592990  1059.298991  33.100009   \n",
       "3         0   WETH   SHUF    0.010000    10.143472  1014.347243  33.100009   \n",
       "4         0   WETH   SHUF    0.009804    10.000000  1020.026068  33.100009   \n",
       "\n",
       "   gasValue                 time  \n",
       "0  0.009516  2020-05-18 17:48:23  \n",
       "1  0.006049  2020-05-18 17:59:48  \n",
       "2  0.005471  2020-05-18 18:01:30  \n",
       "3  0.007748  2020-05-18 18:04:30  \n",
       "4  0.006029  2020-05-18 18:04:54  "
      ]
     },
     "execution_count": 4,
     "metadata": {},
     "output_type": "execute_result"
    }
   ],
   "source": [
    "data = pd.read_csv(cfg['directories']['preprocessed_data'])\n",
    "data.head()"
   ]
  },
  {
   "cell_type": "code",
   "execution_count": 5,
   "metadata": {
    "scrolled": false
   },
   "outputs": [
    {
     "name": "stdout",
     "output_type": "stream",
     "text": [
      "Requirement already satisfied: sklearn in /scratch/izar/kapps/DEX-Cyclic-Arbitrage/opt/venv-gcc/lib/python3.7/site-packages (0.0)\n",
      "Requirement already satisfied: scikit-learn in /scratch/izar/kapps/DEX-Cyclic-Arbitrage/opt/venv-gcc/lib/python3.7/site-packages (from sklearn) (1.0.1)\n",
      "Requirement already satisfied: joblib>=0.11 in /scratch/izar/kapps/DEX-Cyclic-Arbitrage/opt/venv-gcc/lib/python3.7/site-packages (from scikit-learn->sklearn) (1.1.0)\n",
      "Requirement already satisfied: scipy>=1.1.0 in /ssoft/spack/arvine/v1/opt/spack/linux-rhel7-skylake_avx512/gcc-8.4.0/python-3.7.7-drpdlwdbo3lmtkcbckq227ypnzno4ek3/lib/python3.7/site-packages (from scikit-learn->sklearn) (1.5.0)\n",
      "Requirement already satisfied: threadpoolctl>=2.0.0 in /scratch/izar/kapps/DEX-Cyclic-Arbitrage/opt/venv-gcc/lib/python3.7/site-packages (from scikit-learn->sklearn) (3.0.0)\n",
      "Requirement already satisfied: numpy>=1.14.6 in /ssoft/spack/arvine/v1/opt/spack/linux-rhel7-skylake_avx512/gcc-8.4.0/python-3.7.7-drpdlwdbo3lmtkcbckq227ypnzno4ek3/lib/python3.7/site-packages (from scikit-learn->sklearn) (1.18.5)\n"
     ]
    }
   ],
   "source": [
    "#!pip install sklearn"
   ]
  },
  {
   "cell_type": "markdown",
   "metadata": {},
   "source": [
    "## Log scaling"
   ]
  },
  {
   "cell_type": "code",
   "execution_count": 5,
   "metadata": {},
   "outputs": [],
   "source": [
    "from sklearn.model_selection import train_test_split\n",
    "from sklearn.preprocessing import StandardScaler, MinMaxScaler\n",
    "# from data exploration log was found to be a good normaliser\n",
    "def log_scaling(data):\n",
    "    data['baseAmount']  = np.log(data.baseAmount)\n",
    "    data['quoteAmount'] = np.log(data.quoteAmount)\n",
    "    data['quotePrice']  = np.log(data.quotePrice)\n",
    "    return data;\n",
    "\n",
    "log_data = log_scaling(data)"
   ]
  },
  {
   "cell_type": "markdown",
   "metadata": {},
   "source": [
    "## Transform `tokens` into dummy variables (one hot encoding)"
   ]
  },
  {
   "cell_type": "code",
   "execution_count": 7,
   "metadata": {},
   "outputs": [],
   "source": [
    "# transform tokens into dummies\n",
    "from sklearn.preprocessing import OneHotEncoder\n",
    "token_columns = list(filter(lambda c: c.startswith('token'),log_data.columns))\n",
    "def one_hot_tokens():\n",
    "    one_enc = OneHotEncoder(sparse=False) \n",
    "    unique_tokens = np.unique(pd.concat([log_data[token] for token in token_columns],axis=0))\n",
    "    one_enc.fit(unique_tokens.reshape(-1, 1))\n",
    "    # transform\n",
    "    encode = lambda col: one_enc.transform(log_data[col].to_numpy().reshape(-1, 1))\n",
    "    # encode and convert as dataframes\n",
    "    \n",
    "    encoded = [pd.DataFrame(encode(token)).add_prefix(f\"token_{key}_\") for key,token in enumerate(token_columns)]\n",
    "    return pd.concat(encoded, axis='columns')"
   ]
  },
  {
   "cell_type": "code",
   "execution_count": 8,
   "metadata": {},
   "outputs": [],
   "source": [
    "X = pd.concat([log_data.drop(columns=token_columns),one_hot_tokens()], axis='columns')"
   ]
  },
  {
   "cell_type": "code",
   "execution_count": 12,
   "metadata": {},
   "outputs": [
    {
     "data": {
      "text/html": [
       "<div>\n",
       "<style scoped>\n",
       "    .dataframe tbody tr th:only-of-type {\n",
       "        vertical-align: middle;\n",
       "    }\n",
       "\n",
       "    .dataframe tbody tr th {\n",
       "        vertical-align: top;\n",
       "    }\n",
       "\n",
       "    .dataframe thead th {\n",
       "        text-align: right;\n",
       "    }\n",
       "</style>\n",
       "<table border=\"1\" class=\"dataframe\">\n",
       "  <thead>\n",
       "    <tr style=\"text-align: right;\">\n",
       "      <th></th>\n",
       "      <th>cycle_id</th>\n",
       "      <th>baseAmount</th>\n",
       "      <th>quoteAmount</th>\n",
       "      <th>quotePrice</th>\n",
       "      <th>gasPrice</th>\n",
       "      <th>gasValue</th>\n",
       "      <th>time</th>\n",
       "      <th>token_0_0</th>\n",
       "      <th>token_0_1</th>\n",
       "      <th>token_0_2</th>\n",
       "      <th>...</th>\n",
       "      <th>token_1_84</th>\n",
       "      <th>token_1_85</th>\n",
       "      <th>token_1_86</th>\n",
       "      <th>token_1_87</th>\n",
       "      <th>token_1_88</th>\n",
       "      <th>token_1_89</th>\n",
       "      <th>token_1_90</th>\n",
       "      <th>token_1_91</th>\n",
       "      <th>token_1_92</th>\n",
       "      <th>token_1_93</th>\n",
       "    </tr>\n",
       "  </thead>\n",
       "  <tbody>\n",
       "    <tr>\n",
       "      <th>0</th>\n",
       "      <td>0</td>\n",
       "      <td>-4.605170</td>\n",
       "      <td>2.362825</td>\n",
       "      <td>6.967995</td>\n",
       "      <td>34.100011</td>\n",
       "      <td>0.009516</td>\n",
       "      <td>2020-05-18 17:48:23</td>\n",
       "      <td>0.0</td>\n",
       "      <td>0.0</td>\n",
       "      <td>0.0</td>\n",
       "      <td>...</td>\n",
       "      <td>0.0</td>\n",
       "      <td>0.0</td>\n",
       "      <td>0.0</td>\n",
       "      <td>0.0</td>\n",
       "      <td>0.0</td>\n",
       "      <td>0.0</td>\n",
       "      <td>0.0</td>\n",
       "      <td>0.0</td>\n",
       "      <td>0.0</td>\n",
       "      <td>0.0</td>\n",
       "    </tr>\n",
       "    <tr>\n",
       "      <th>1</th>\n",
       "      <td>0</td>\n",
       "      <td>-4.670024</td>\n",
       "      <td>2.302585</td>\n",
       "      <td>6.972609</td>\n",
       "      <td>33.210001</td>\n",
       "      <td>0.006049</td>\n",
       "      <td>2020-05-18 17:59:48</td>\n",
       "      <td>0.0</td>\n",
       "      <td>0.0</td>\n",
       "      <td>0.0</td>\n",
       "      <td>...</td>\n",
       "      <td>0.0</td>\n",
       "      <td>0.0</td>\n",
       "      <td>0.0</td>\n",
       "      <td>0.0</td>\n",
       "      <td>0.0</td>\n",
       "      <td>0.0</td>\n",
       "      <td>0.0</td>\n",
       "      <td>0.0</td>\n",
       "      <td>0.0</td>\n",
       "      <td>0.0</td>\n",
       "    </tr>\n",
       "    <tr>\n",
       "      <th>2</th>\n",
       "      <td>0</td>\n",
       "      <td>-4.605170</td>\n",
       "      <td>2.360192</td>\n",
       "      <td>6.965363</td>\n",
       "      <td>33.100009</td>\n",
       "      <td>0.005471</td>\n",
       "      <td>2020-05-18 18:01:30</td>\n",
       "      <td>0.0</td>\n",
       "      <td>0.0</td>\n",
       "      <td>0.0</td>\n",
       "      <td>...</td>\n",
       "      <td>0.0</td>\n",
       "      <td>0.0</td>\n",
       "      <td>0.0</td>\n",
       "      <td>0.0</td>\n",
       "      <td>0.0</td>\n",
       "      <td>0.0</td>\n",
       "      <td>0.0</td>\n",
       "      <td>0.0</td>\n",
       "      <td>0.0</td>\n",
       "      <td>0.0</td>\n",
       "    </tr>\n",
       "    <tr>\n",
       "      <th>3</th>\n",
       "      <td>0</td>\n",
       "      <td>-4.605170</td>\n",
       "      <td>2.316830</td>\n",
       "      <td>6.922001</td>\n",
       "      <td>33.100009</td>\n",
       "      <td>0.007748</td>\n",
       "      <td>2020-05-18 18:04:30</td>\n",
       "      <td>0.0</td>\n",
       "      <td>0.0</td>\n",
       "      <td>0.0</td>\n",
       "      <td>...</td>\n",
       "      <td>0.0</td>\n",
       "      <td>0.0</td>\n",
       "      <td>0.0</td>\n",
       "      <td>0.0</td>\n",
       "      <td>0.0</td>\n",
       "      <td>0.0</td>\n",
       "      <td>0.0</td>\n",
       "      <td>0.0</td>\n",
       "      <td>0.0</td>\n",
       "      <td>0.0</td>\n",
       "    </tr>\n",
       "    <tr>\n",
       "      <th>4</th>\n",
       "      <td>0</td>\n",
       "      <td>-4.624998</td>\n",
       "      <td>2.302585</td>\n",
       "      <td>6.927583</td>\n",
       "      <td>33.100009</td>\n",
       "      <td>0.006029</td>\n",
       "      <td>2020-05-18 18:04:54</td>\n",
       "      <td>0.0</td>\n",
       "      <td>0.0</td>\n",
       "      <td>0.0</td>\n",
       "      <td>...</td>\n",
       "      <td>0.0</td>\n",
       "      <td>0.0</td>\n",
       "      <td>0.0</td>\n",
       "      <td>0.0</td>\n",
       "      <td>0.0</td>\n",
       "      <td>0.0</td>\n",
       "      <td>0.0</td>\n",
       "      <td>0.0</td>\n",
       "      <td>0.0</td>\n",
       "      <td>0.0</td>\n",
       "    </tr>\n",
       "  </tbody>\n",
       "</table>\n",
       "<p>5 rows × 195 columns</p>\n",
       "</div>"
      ],
      "text/plain": [
       "   cycle_id  baseAmount  quoteAmount  quotePrice   gasPrice  gasValue  \\\n",
       "0         0   -4.605170     2.362825    6.967995  34.100011  0.009516   \n",
       "1         0   -4.670024     2.302585    6.972609  33.210001  0.006049   \n",
       "2         0   -4.605170     2.360192    6.965363  33.100009  0.005471   \n",
       "3         0   -4.605170     2.316830    6.922001  33.100009  0.007748   \n",
       "4         0   -4.624998     2.302585    6.927583  33.100009  0.006029   \n",
       "\n",
       "                  time  token_0_0  token_0_1  token_0_2  ...  token_1_84  \\\n",
       "0  2020-05-18 17:48:23        0.0        0.0        0.0  ...         0.0   \n",
       "1  2020-05-18 17:59:48        0.0        0.0        0.0  ...         0.0   \n",
       "2  2020-05-18 18:01:30        0.0        0.0        0.0  ...         0.0   \n",
       "3  2020-05-18 18:04:30        0.0        0.0        0.0  ...         0.0   \n",
       "4  2020-05-18 18:04:54        0.0        0.0        0.0  ...         0.0   \n",
       "\n",
       "   token_1_85  token_1_86  token_1_87  token_1_88  token_1_89  token_1_90  \\\n",
       "0         0.0         0.0         0.0         0.0         0.0         0.0   \n",
       "1         0.0         0.0         0.0         0.0         0.0         0.0   \n",
       "2         0.0         0.0         0.0         0.0         0.0         0.0   \n",
       "3         0.0         0.0         0.0         0.0         0.0         0.0   \n",
       "4         0.0         0.0         0.0         0.0         0.0         0.0   \n",
       "\n",
       "   token_1_91  token_1_92  token_1_93  \n",
       "0         0.0         0.0         0.0  \n",
       "1         0.0         0.0         0.0  \n",
       "2         0.0         0.0         0.0  \n",
       "3         0.0         0.0         0.0  \n",
       "4         0.0         0.0         0.0  \n",
       "\n",
       "[5 rows x 195 columns]"
      ]
     },
     "execution_count": 12,
     "metadata": {},
     "output_type": "execute_result"
    }
   ],
   "source": [
    "X.head()"
   ]
  },
  {
   "cell_type": "markdown",
   "metadata": {},
   "source": [
    "#  Transform each cycle into a feature matrix  & Zero-padding"
   ]
  },
  {
   "cell_type": "code",
   "execution_count": 79,
   "metadata": {
    "scrolled": true
   },
   "outputs": [],
   "source": [
    "N_TOKEN = 3 # cycle length\n",
    "K = 2       # quote price & gasPrice\n",
    "N = 1000    # number of cycles\n",
    "P = 600     # max time series length per cycle\n",
    "\n",
    "def build_tensor(data):\n",
    "    tensor = np.zeros((N, N_TOKEN,P, K))\n",
    "    i = 0\n",
    "    def get_sorted_token_map(g):\n",
    "        t = g[['token1','token2']].values\n",
    "        u, ind = np.unique(t, return_index=True)\n",
    "        u_sorted =  u[np.argsort(ind)]\n",
    "        return dict(zip(u_sorted, range(len(u_sorted))))\n",
    "\n",
    "    for _, group in iter(data.groupby('cycle_id')):\n",
    "        token_map = get_sorted_token_map(group)\n",
    "        for _, g in iter(group.groupby(['token1','token2'])):\n",
    "            a = g[['quotePrice','gasPrice']].values\n",
    "            # zero padding\n",
    "            padded = np.pad(a, [(0, P - len(a)),(0,0)])\n",
    "            # assign and reshape into a matrix\n",
    "            first_token = g.token1.iloc[0]\n",
    "            token_ind = token_map[first_token]\n",
    "            tensor[i,token_ind,:,:] = padded.reshape(1,P,K)\n",
    "        i = i+1\n",
    "    return tensor\n",
    "    \n",
    "X = build_tensor(log_data)"
   ]
  },
  {
   "cell_type": "code",
   "execution_count": 91,
   "metadata": {},
   "outputs": [
    {
     "data": {
      "text/plain": [
       "array([[[ 0,  1],\n",
       "        [ 2,  3]],\n",
       "\n",
       "       [[ 4,  5],\n",
       "        [ 6,  7]],\n",
       "\n",
       "       [[ 8,  9],\n",
       "        [10, 11]],\n",
       "\n",
       "       [[12, 13],\n",
       "        [14, 15]]])"
      ]
     },
     "execution_count": 91,
     "metadata": {},
     "output_type": "execute_result"
    }
   ],
   "source": [
    "a = np.array([[[0,1],[2,3]],[[4,5],[6,7]],[[8,9],[10,11]],[[12,13],[14,15]]])\n",
    "a"
   ]
  },
  {
   "cell_type": "code",
   "execution_count": 114,
   "metadata": {},
   "outputs": [],
   "source": [
    "# train/test split and standard scaling \n",
    "X_train, X_test = train_test_split(X, test_size=0.3, random_state=123)\n",
    "\n",
    "\n",
    "#scaler = StandardScaler()\n",
    "#scaler.fit(X_train)\n",
    "\n",
    "#X_train_scaled = scaler.transform(X_train)\n",
    "#X_test_scaled  = scaler.transform(X_test)\n",
    "\n",
    "X_train_scaled = X_train\n",
    "X_test_scaled = X_test"
   ]
  },
  {
   "cell_type": "markdown",
   "metadata": {},
   "source": [
    "# Model definition"
   ]
  },
  {
   "cell_type": "code",
   "execution_count": 115,
   "metadata": {},
   "outputs": [],
   "source": [
    "def build_model():\n",
    "    input_img = keras.Input(shape=(3,600, 2))\n",
    "    x = layers.Conv2D(8, (3, 3), activation='relu', padding='same')(input_img)\n",
    "    x = layers.MaxPooling2D((3, 3), padding='same')(x)\n",
    "    x = layers.Conv2D(4, (3, 3), activation='relu', padding='same')(x)\n",
    "    x = layers.MaxPooling2D((2, 2), padding='same')(x)\n",
    "    encoded = layers.Conv2D(1, (2, 2), activation='relu', padding='same')(x)\n",
    "    # at this point the representation is (4, 4, 8) i.e. 128-dimensional\n",
    "    x = layers.Conv2D(4, (2, 2), activation='relu', padding='same')(encoded)\n",
    "    x = layers.UpSampling2D((1, 2))(x)\n",
    "    x = layers.Conv2D(8, (3, 3), activation='relu', padding='same')(x)\n",
    "    x = layers.UpSampling2D((3, 3))(x)\n",
    "    decoded = layers.Conv2D(2, (3, 3), activation='relu', padding='same')(x)\n",
    "\n",
    "    autoencoder = keras.Model(input_img, decoded)\n",
    "    autoencoder.compile(optimizer='adam', loss='binary_crossentropy')\n",
    "    \n",
    "    return autoencoder"
   ]
  },
  {
   "cell_type": "code",
   "execution_count": 116,
   "metadata": {},
   "outputs": [
    {
     "name": "stdout",
     "output_type": "stream",
     "text": [
      "Model: \"functional_19\"\n",
      "_________________________________________________________________\n",
      "Layer (type)                 Output Shape              Param #   \n",
      "=================================================================\n",
      "input_11 (InputLayer)        [(None, 3, 600, 2)]       0         \n",
      "_________________________________________________________________\n",
      "conv2d_58 (Conv2D)           (None, 3, 600, 8)         152       \n",
      "_________________________________________________________________\n",
      "max_pooling2d_20 (MaxPooling (None, 1, 200, 8)         0         \n",
      "_________________________________________________________________\n",
      "conv2d_59 (Conv2D)           (None, 1, 200, 4)         292       \n",
      "_________________________________________________________________\n",
      "max_pooling2d_21 (MaxPooling (None, 1, 100, 4)         0         \n",
      "_________________________________________________________________\n",
      "conv2d_60 (Conv2D)           (None, 1, 100, 1)         17        \n",
      "_________________________________________________________________\n",
      "conv2d_61 (Conv2D)           (None, 1, 100, 4)         20        \n",
      "_________________________________________________________________\n",
      "up_sampling2d_19 (UpSampling (None, 1, 200, 4)         0         \n",
      "_________________________________________________________________\n",
      "conv2d_62 (Conv2D)           (None, 1, 200, 8)         296       \n",
      "_________________________________________________________________\n",
      "up_sampling2d_20 (UpSampling (None, 3, 600, 8)         0         \n",
      "_________________________________________________________________\n",
      "conv2d_63 (Conv2D)           (None, 3, 600, 2)         146       \n",
      "=================================================================\n",
      "Total params: 923\n",
      "Trainable params: 923\n",
      "Non-trainable params: 0\n",
      "_________________________________________________________________\n"
     ]
    }
   ],
   "source": [
    "autoencoder = build_model()\n",
    "autoencoder.summary()"
   ]
  },
  {
   "cell_type": "code",
   "execution_count": 119,
   "metadata": {},
   "outputs": [
    {
     "data": {
      "text/plain": [
       "<tensorflow.python.keras.callbacks.History at 0x2b25025b6a50>"
      ]
     },
     "execution_count": 119,
     "metadata": {},
     "output_type": "execute_result"
    }
   ],
   "source": [
    "autoencoder.fit(X_train_scaled, X_train_scaled,\n",
    "                epochs=10,\n",
    "                batch_size=32,\n",
    "                shuffle=True,\n",
    "                verbose=0)"
   ]
  },
  {
   "cell_type": "code",
   "execution_count": null,
   "metadata": {},
   "outputs": [],
   "source": []
  },
  {
   "cell_type": "code",
   "execution_count": null,
   "metadata": {},
   "outputs": [],
   "source": []
  }
 ],
 "metadata": {
  "interpreter": {
   "hash": "c80cda4c1eab7d6fd1dc9dde18fc294f1832305a125f1fb8ec87a584595fc9f7"
  },
  "kernelspec": {
   "display_name": "Python 3 (ipykernel)",
   "language": "python",
   "name": "python3"
  },
  "language_info": {
   "codemirror_mode": {
    "name": "ipython",
    "version": 3
   },
   "file_extension": ".py",
   "mimetype": "text/x-python",
   "name": "python",
   "nbconvert_exporter": "python",
   "pygments_lexer": "ipython3",
   "version": "3.6.8"
  }
 },
 "nbformat": 4,
 "nbformat_minor": 2
}
