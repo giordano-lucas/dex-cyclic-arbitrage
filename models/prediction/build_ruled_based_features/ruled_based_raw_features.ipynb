{
 "cells": [
  {
   "cell_type": "code",
   "execution_count": 5,
   "id": "33b0a1e3",
   "metadata": {},
   "outputs": [],
   "source": [
    "import pandas as pd\n",
    "import numpy as np\n",
    "import tensorflow as tf\n",
    "\n",
    "import sys, os\n",
    "sys.path.append('/'.join(os.getcwd().split('/')[:4]))\n",
    "from config.get import cfg\n",
    "import gc"
   ]
  },
  {
   "cell_type": "code",
   "execution_count": 6,
   "id": "e47e72d4",
   "metadata": {},
   "outputs": [],
   "source": [
    "X_train = pd.read_csv(cfg['files'][\"liquid\"]['ae_train_features']).drop(columns=['Unnamed: 0'])\n",
    "X_test  = pd.read_csv(cfg['files'][\"liquid\"]['ae_test_features']).drop(columns=['Unnamed: 0'])"
   ]
  },
  {
   "cell_type": "markdown",
   "id": "9f3771ab",
   "metadata": {},
   "source": [
    "\n"
   ]
  },
  {
   "cell_type": "code",
   "execution_count": 7,
   "id": "adffbc49",
   "metadata": {},
   "outputs": [],
   "source": [
    "def logret(data, cols = ['quotePrice', 'gasPrice']):\n",
    "    \"\"\"Constructs log return series for each col in cols per token pair data\"\"\"\n",
    "    fcols = []\n",
    "    for col in cols:\n",
    "        ncol = f'logret_{col}'\n",
    "        data[ncol] = np.log(data[col])\n",
    "        fcols.append(ncol)\n",
    "    \n",
    "    grouped = data.groupby(['cycle_id', 'token1','token2'])[fcols]\n",
    "    log_ret = grouped.diff()\n",
    "    data.drop(columns=fcols,inplace=True)\n",
    "    return log_ret"
   ]
  },
  {
   "cell_type": "code",
   "execution_count": 8,
   "id": "d9248440",
   "metadata": {},
   "outputs": [],
   "source": [
    "def get_ta_data(data, window):\n",
    "    g = data.groupby(['cycle_id', 'token1','token2']).rolling(window).agg({\n",
    "                     'quotePrice'        : ['mean','std'],\n",
    "                     'gasPrice'          : ['mean','std'],\n",
    "                     'logret_quotePrice' : ['mean','std'],\n",
    "                     'logret_gasPrice'   : ['mean','std'], \n",
    "            })\n",
    "    new_cols = [f'quotePrice_{window}'       ,f'gasPrice_{window}',\n",
    "                f'logret_quotePrice_{window}',f'logret_gasPrice_{window}' ]\n",
    "    g.columns.set_levels(new_cols,level=0,inplace=True)\n",
    "    return g.fillna(0.0)"
   ]
  },
  {
   "cell_type": "code",
   "execution_count": 9,
   "id": "23000b3c",
   "metadata": {
    "scrolled": true
   },
   "outputs": [],
   "source": [
    "def pipeline(data):\n",
    "    # compute log return times series\n",
    "    logret_data = logret(data)\n",
    "    # add these series into the original dataframe\n",
    "    for c in logret_data.columns:\n",
    "        data[c] = logret_data[c]\n",
    "    del logret_data\n",
    "    # compute the indicators for 5 and 20 window\n",
    "    print(\"Window = 20\")\n",
    "    ta_data_20 = get_ta_data(data, 20)\n",
    "    print(\"Window = 5\")\n",
    "    ta_data_5 = get_ta_data(data , 5)\n",
    "    # concatenate ta columns\n",
    "    ruled_based_embedding = pd.concat((ta_data_5, ta_data_20),axis=1)\n",
    "    del ta_data_20\n",
    "    del ta_data_5\n",
    "    gc.collect()\n",
    "    # reshape multiIndex columns => simple index \n",
    "    ruled_based_embedding.columns = [\"_\".join(a) for a in ruled_based_embedding.columns.to_flat_index()]\n",
    "    return ruled_based_embedding.reset_index()"
   ]
  },
  {
   "cell_type": "code",
   "execution_count": 10,
   "id": "8514db56",
   "metadata": {},
   "outputs": [
    {
     "name": "stderr",
     "output_type": "stream",
     "text": [
      "/ssoft/spack/arvine/v1/opt/spack/linux-rhel7-skylake_avx512/gcc-8.4.0/python-3.7.7-drpdlwdbo3lmtkcbckq227ypnzno4ek3/lib/python3.7/site-packages/pandas/core/series.py:679: RuntimeWarning: invalid value encountered in log\n",
      "  result = getattr(ufunc, method)(*inputs, **kwargs)\n"
     ]
    },
    {
     "name": "stdout",
     "output_type": "stream",
     "text": [
      "Window = 20\n",
      "Window = 5\n"
     ]
    }
   ],
   "source": [
    "ta_train = pipeline(X_train)\n"
   ]
  },
  {
   "cell_type": "code",
   "execution_count": 12,
   "id": "640b8f20",
   "metadata": {},
   "outputs": [],
   "source": [
    "ta_train.to_csv(cfg['files']['liquid']['ruled_based']['encoded_train_features'])\n",
    "del ta_train\n",
    "gc.collect()"
   ]
  },
  {
   "cell_type": "code",
   "execution_count": 14,
   "id": "e791266f",
   "metadata": {},
   "outputs": [
    {
     "name": "stdout",
     "output_type": "stream",
     "text": [
      "Window = 20\n",
      "Window = 5\n"
     ]
    }
   ],
   "source": [
    "ta_test = pipeline(X_test)\n",
    "ta_train.to_csv(cfg['files']['liquid']['ruled_based']['encoded_test_features'])"
   ]
  },
  {
   "cell_type": "code",
   "execution_count": null,
   "id": "e39b3b46",
   "metadata": {},
   "outputs": [],
   "source": []
  }
 ],
 "metadata": {
  "kernelspec": {
   "display_name": "Python 3 (ipykernel)",
   "language": "python",
   "name": "python3"
  },
  "language_info": {
   "codemirror_mode": {
    "name": "ipython",
    "version": 3
   },
   "file_extension": ".py",
   "mimetype": "text/x-python",
   "name": "python",
   "nbconvert_exporter": "python",
   "pygments_lexer": "ipython3",
   "version": "3.7.7"
  }
 },
 "nbformat": 4,
 "nbformat_minor": 5
}
