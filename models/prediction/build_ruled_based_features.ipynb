{
 "cells": [
  {
   "cell_type": "code",
   "execution_count": 1,
   "id": "6b7d0d09",
   "metadata": {},
   "outputs": [
    {
     "name": "stderr",
     "output_type": "stream",
     "text": [
      "2022-01-11 14:03:46.449535: I tensorflow/stream_executor/platform/default/dso_loader.cc:48] Successfully opened dynamic library libcudart.so.10.2\n"
     ]
    }
   ],
   "source": [
    "import pandas as pd\n",
    "import numpy as np\n",
    "import tensorflow as tf\n",
    "\n",
    "import sys, os\n",
    "sys.path.append('/'.join(os.getcwd().split('/')[:4]))\n",
    "from config.get import cfg"
   ]
  },
  {
   "cell_type": "code",
   "execution_count": 2,
   "id": "3a39d1bb",
   "metadata": {},
   "outputs": [],
   "source": [
    "import pandas_ta as ta"
   ]
  },
  {
   "cell_type": "code",
   "execution_count": 3,
   "id": "ac5ad17f",
   "metadata": {},
   "outputs": [],
   "source": [
    "data = pd.read_csv(cfg['files']['liquid']['preprocessed_data'],nrows=10_000_000).drop(columns=['Unnamed: 0', 'baseAmount','quoteAmount', 'gasValue','time'])"
   ]
  },
  {
   "cell_type": "code",
   "execution_count": 4,
   "id": "2c33c647",
   "metadata": {},
   "outputs": [
    {
     "data": {
      "text/html": [
       "<div>\n",
       "<style scoped>\n",
       "    .dataframe tbody tr th:only-of-type {\n",
       "        vertical-align: middle;\n",
       "    }\n",
       "\n",
       "    .dataframe tbody tr th {\n",
       "        vertical-align: top;\n",
       "    }\n",
       "\n",
       "    .dataframe thead th {\n",
       "        text-align: right;\n",
       "    }\n",
       "</style>\n",
       "<table border=\"1\" class=\"dataframe\">\n",
       "  <thead>\n",
       "    <tr style=\"text-align: right;\">\n",
       "      <th></th>\n",
       "      <th>cycle_id</th>\n",
       "      <th>token1</th>\n",
       "      <th>token2</th>\n",
       "      <th>quotePrice</th>\n",
       "      <th>gasPrice</th>\n",
       "    </tr>\n",
       "  </thead>\n",
       "  <tbody>\n",
       "    <tr>\n",
       "      <th>0</th>\n",
       "      <td>1002</td>\n",
       "      <td>WETH</td>\n",
       "      <td>BUIDL</td>\n",
       "      <td>22550.438239</td>\n",
       "      <td>20.000000</td>\n",
       "    </tr>\n",
       "    <tr>\n",
       "      <th>1</th>\n",
       "      <td>1002</td>\n",
       "      <td>WETH</td>\n",
       "      <td>BUIDL</td>\n",
       "      <td>9462.858024</td>\n",
       "      <td>101.000004</td>\n",
       "    </tr>\n",
       "    <tr>\n",
       "      <th>2</th>\n",
       "      <td>1002</td>\n",
       "      <td>WETH</td>\n",
       "      <td>BUIDL</td>\n",
       "      <td>32966.161101</td>\n",
       "      <td>30.000001</td>\n",
       "    </tr>\n",
       "    <tr>\n",
       "      <th>3</th>\n",
       "      <td>1002</td>\n",
       "      <td>WETH</td>\n",
       "      <td>BUIDL</td>\n",
       "      <td>20101.046750</td>\n",
       "      <td>31.000001</td>\n",
       "    </tr>\n",
       "    <tr>\n",
       "      <th>4</th>\n",
       "      <td>1002</td>\n",
       "      <td>WETH</td>\n",
       "      <td>BUIDL</td>\n",
       "      <td>14104.537180</td>\n",
       "      <td>31.000300</td>\n",
       "    </tr>\n",
       "  </tbody>\n",
       "</table>\n",
       "</div>"
      ],
      "text/plain": [
       "   cycle_id token1 token2    quotePrice    gasPrice\n",
       "0      1002   WETH  BUIDL  22550.438239   20.000000\n",
       "1      1002   WETH  BUIDL   9462.858024  101.000004\n",
       "2      1002   WETH  BUIDL  32966.161101   30.000001\n",
       "3      1002   WETH  BUIDL  20101.046750   31.000001\n",
       "4      1002   WETH  BUIDL  14104.537180   31.000300"
      ]
     },
     "execution_count": 4,
     "metadata": {},
     "output_type": "execute_result"
    }
   ],
   "source": [
    "data.head()"
   ]
  },
  {
   "cell_type": "markdown",
   "id": "1525b7bf",
   "metadata": {},
   "source": [
    "# Rule based indicators\n",
    "\n",
    "> **Note**: we tried to use the ta.Strategy but it was too slow on a Grouper object\n",
    "\n",
    "The following indicators are builts using two windows(5 and 20) on both prices and log returns:\n",
    "\n",
    "1. SMA\n",
    "5. volatily\n",
    "  \n"
   ]
  },
  {
   "cell_type": "code",
   "execution_count": 5,
   "id": "bf6138c4",
   "metadata": {},
   "outputs": [],
   "source": [
    "def logret(data, cols = ['quotePrice', 'gasPrice']):\n",
    "    \"\"\"Constructs log return series for each col in cols per token pair data\"\"\"\n",
    "    fcols = []\n",
    "    for col in cols:\n",
    "        ncol = f'logret_{col}'\n",
    "        data[ncol] = np.log(data[col])\n",
    "        fcols.append(ncol)\n",
    "    \n",
    "    grouped = data.groupby(['cycle_id', 'token1','token2'])[fcols]\n",
    "    log_ret = grouped.diff()\n",
    "    data.drop(columns=fcols,inplace=True)\n",
    "    return log_ret"
   ]
  },
  {
   "cell_type": "code",
   "execution_count": 6,
   "id": "bf9a281f",
   "metadata": {
    "scrolled": true
   },
   "outputs": [
    {
     "name": "stderr",
     "output_type": "stream",
     "text": [
      "/ssoft/spack/arvine/v1/opt/spack/linux-rhel7-skylake_avx512/gcc-8.4.0/python-3.7.7-drpdlwdbo3lmtkcbckq227ypnzno4ek3/lib/python3.7/site-packages/pandas/core/series.py:679: RuntimeWarning: invalid value encountered in log\n",
      "  result = getattr(ufunc, method)(*inputs, **kwargs)\n"
     ]
    }
   ],
   "source": [
    "logret_data = logret(data)"
   ]
  },
  {
   "cell_type": "code",
   "execution_count": 7,
   "id": "dfad5e24",
   "metadata": {},
   "outputs": [],
   "source": [
    "for c in logret_data.columns:\n",
    "    data[c] = logret_data[c]"
   ]
  },
  {
   "cell_type": "code",
   "execution_count": 8,
   "id": "9ebe8a81",
   "metadata": {},
   "outputs": [
    {
     "data": {
      "text/html": [
       "<div>\n",
       "<style scoped>\n",
       "    .dataframe tbody tr th:only-of-type {\n",
       "        vertical-align: middle;\n",
       "    }\n",
       "\n",
       "    .dataframe tbody tr th {\n",
       "        vertical-align: top;\n",
       "    }\n",
       "\n",
       "    .dataframe thead th {\n",
       "        text-align: right;\n",
       "    }\n",
       "</style>\n",
       "<table border=\"1\" class=\"dataframe\">\n",
       "  <thead>\n",
       "    <tr style=\"text-align: right;\">\n",
       "      <th></th>\n",
       "      <th>cycle_id</th>\n",
       "      <th>token1</th>\n",
       "      <th>token2</th>\n",
       "      <th>quotePrice</th>\n",
       "      <th>gasPrice</th>\n",
       "      <th>logret_quotePrice</th>\n",
       "      <th>logret_gasPrice</th>\n",
       "    </tr>\n",
       "  </thead>\n",
       "  <tbody>\n",
       "    <tr>\n",
       "      <th>0</th>\n",
       "      <td>1002</td>\n",
       "      <td>WETH</td>\n",
       "      <td>BUIDL</td>\n",
       "      <td>22550.438239</td>\n",
       "      <td>20.000000</td>\n",
       "      <td>NaN</td>\n",
       "      <td>NaN</td>\n",
       "    </tr>\n",
       "    <tr>\n",
       "      <th>1</th>\n",
       "      <td>1002</td>\n",
       "      <td>WETH</td>\n",
       "      <td>BUIDL</td>\n",
       "      <td>9462.858024</td>\n",
       "      <td>101.000004</td>\n",
       "      <td>-0.868380</td>\n",
       "      <td>1.619388</td>\n",
       "    </tr>\n",
       "    <tr>\n",
       "      <th>2</th>\n",
       "      <td>1002</td>\n",
       "      <td>WETH</td>\n",
       "      <td>BUIDL</td>\n",
       "      <td>32966.161101</td>\n",
       "      <td>30.000001</td>\n",
       "      <td>1.248107</td>\n",
       "      <td>-1.213923</td>\n",
       "    </tr>\n",
       "    <tr>\n",
       "      <th>3</th>\n",
       "      <td>1002</td>\n",
       "      <td>WETH</td>\n",
       "      <td>BUIDL</td>\n",
       "      <td>20101.046750</td>\n",
       "      <td>31.000001</td>\n",
       "      <td>-0.494710</td>\n",
       "      <td>0.032790</td>\n",
       "    </tr>\n",
       "    <tr>\n",
       "      <th>4</th>\n",
       "      <td>1002</td>\n",
       "      <td>WETH</td>\n",
       "      <td>BUIDL</td>\n",
       "      <td>14104.537180</td>\n",
       "      <td>31.000300</td>\n",
       "      <td>-0.354275</td>\n",
       "      <td>0.000010</td>\n",
       "    </tr>\n",
       "  </tbody>\n",
       "</table>\n",
       "</div>"
      ],
      "text/plain": [
       "   cycle_id token1 token2    quotePrice    gasPrice  logret_quotePrice  \\\n",
       "0      1002   WETH  BUIDL  22550.438239   20.000000                NaN   \n",
       "1      1002   WETH  BUIDL   9462.858024  101.000004          -0.868380   \n",
       "2      1002   WETH  BUIDL  32966.161101   30.000001           1.248107   \n",
       "3      1002   WETH  BUIDL  20101.046750   31.000001          -0.494710   \n",
       "4      1002   WETH  BUIDL  14104.537180   31.000300          -0.354275   \n",
       "\n",
       "   logret_gasPrice  \n",
       "0              NaN  \n",
       "1         1.619388  \n",
       "2        -1.213923  \n",
       "3         0.032790  \n",
       "4         0.000010  "
      ]
     },
     "execution_count": 8,
     "metadata": {},
     "output_type": "execute_result"
    }
   ],
   "source": [
    "data.head()"
   ]
  },
  {
   "cell_type": "code",
   "execution_count": 34,
   "id": "4f8b7ad7",
   "metadata": {},
   "outputs": [],
   "source": [
    "def get_ta_data(data, windows):\n",
    "    dfs = []\n",
    "    grouped = data.groupby(['cycle_id', 'token1','token2'])\n",
    "    for window in windows:\n",
    "        print(\"////////////\")\n",
    "        g = grouped.rolling(window).agg({\n",
    "                 'quotePrice'        : ['mean','std'],\n",
    "                 'gasPrice'          : ['mean','std'],\n",
    "                 'logret_quotePrice' : ['mean','std'],\n",
    "                 'logret_gasPrice'   : ['mean','std'], \n",
    "             })\n",
    "        new_cols = [f'quotePrice_{window}'       ,f'gasPrice_{window}',\n",
    "                    f'logret_quotePrice_{window}',f'logret_gasPrice_{window}' ]\n",
    "        g.columns.set_levels(new_cols,level=0,inplace=True)\n",
    "        dfs.append(g)\n",
    "    return pd.concat(dfs, axis=1)"
   ]
  },
  {
   "cell_type": "code",
   "execution_count": 35,
   "id": "02a7326f",
   "metadata": {},
   "outputs": [
    {
     "name": "stdout",
     "output_type": "stream",
     "text": [
      "////////////\n"
     ]
    },
    {
     "ename": "TypeError",
     "evalue": "aggregate() missing 1 required positional argument: 'func'",
     "output_type": "error",
     "traceback": [
      "\u001b[0;31m---------------------------------------------------------------------------\u001b[0m",
      "\u001b[0;31mTypeError\u001b[0m                                 Traceback (most recent call last)",
      "\u001b[0;32m/tmp/ipykernel_15814/2785737146.py\u001b[0m in \u001b[0;36m<module>\u001b[0;34m\u001b[0m\n\u001b[0;32m----> 1\u001b[0;31m \u001b[0mget_ta_data\u001b[0m\u001b[0;34m(\u001b[0m\u001b[0mpd\u001b[0m\u001b[0;34m.\u001b[0m\u001b[0mconcat\u001b[0m\u001b[0;34m(\u001b[0m\u001b[0;34m(\u001b[0m\u001b[0mdata\u001b[0m\u001b[0;34m,\u001b[0m \u001b[0mlogret_data\u001b[0m\u001b[0;34m)\u001b[0m\u001b[0;34m,\u001b[0m\u001b[0maxis\u001b[0m\u001b[0;34m=\u001b[0m\u001b[0;36m1\u001b[0m\u001b[0;34m)\u001b[0m\u001b[0;34m,\u001b[0m\u001b[0;34m[\u001b[0m\u001b[0;36m5\u001b[0m\u001b[0;34m,\u001b[0m\u001b[0;36m20\u001b[0m\u001b[0;34m]\u001b[0m\u001b[0;34m)\u001b[0m\u001b[0;34m\u001b[0m\u001b[0;34m\u001b[0m\u001b[0m\n\u001b[0m",
      "\u001b[0;32m/tmp/ipykernel_15814/371502175.py\u001b[0m in \u001b[0;36mget_ta_data\u001b[0;34m(data, windows)\u001b[0m\n\u001b[1;32m     12\u001b[0m         g = grouped.rolling(window).agg(\n\u001b[1;32m     13\u001b[0m             \u001b[0mmean_quotePrice\u001b[0m \u001b[0;34m=\u001b[0m \u001b[0;34m(\u001b[0m\u001b[0;34m'quotePrice'\u001b[0m\u001b[0;34m,\u001b[0m \u001b[0;34m'mean'\u001b[0m\u001b[0;34m)\u001b[0m\u001b[0;34m,\u001b[0m\u001b[0;34m\u001b[0m\u001b[0;34m\u001b[0m\u001b[0m\n\u001b[0;32m---> 14\u001b[0;31m             \u001b[0mstd_quotePrice\u001b[0m \u001b[0;34m=\u001b[0m \u001b[0;34m(\u001b[0m\u001b[0;34m'quotePrice'\u001b[0m\u001b[0;34m,\u001b[0m \u001b[0;34m'std'\u001b[0m\u001b[0;34m)\u001b[0m\u001b[0;34m,\u001b[0m\u001b[0;34m\u001b[0m\u001b[0;34m\u001b[0m\u001b[0m\n\u001b[0m\u001b[1;32m     15\u001b[0m         )\n\u001b[1;32m     16\u001b[0m         \u001b[0;31m#new_cols = [f'quotePrice_{window}'       ,f'gasPrice_{window}', f'logret_quotePrice_{window}',f'logret_gasPrice_{window}' ]\u001b[0m\u001b[0;34m\u001b[0m\u001b[0;34m\u001b[0m\u001b[0;34m\u001b[0m\u001b[0m\n",
      "\u001b[0;31mTypeError\u001b[0m: aggregate() missing 1 required positional argument: 'func'"
     ]
    }
   ],
   "source": [
    "get_ta_data(pd.concat((data, logret_data),axis=1),[5,20])"
   ]
  },
  {
   "cell_type": "code",
   "execution_count": 44,
   "id": "13ec3d85",
   "metadata": {},
   "outputs": [],
   "source": [
    "window = 5\n",
    "def get_ta_data(window):\n",
    "    g = data.groupby(['cycle_id', 'token1','token2']).rolling(window).agg({\n",
    "                     'quotePrice'        : ['mean','std'],\n",
    "                     'gasPrice'          : ['mean','std'],\n",
    "                     'logret_quotePrice' : ['mean','std'],\n",
    "                     'logret_gasPrice'   : ['mean','std'], \n",
    "            })\n",
    "    new_cols = [f'quotePrice_{window}'       ,f'gasPrice_{window}',\n",
    "                f'logret_quotePrice_{window}',f'logret_gasPrice_{window}' ]\n",
    "    g.columns.set_levels(new_cols,level=0,inplace=True)\n",
    "    return g.fillna(0.0)"
   ]
  },
  {
   "cell_type": "code",
   "execution_count": null,
   "id": "00b949bb",
   "metadata": {},
   "outputs": [],
   "source": [
    "ta_data_20 = get_ta_data(20)"
   ]
  },
  {
   "cell_type": "code",
   "execution_count": 39,
   "id": "a2a7e19a",
   "metadata": {},
   "outputs": [],
   "source": [
    "ta_data_5 = g"
   ]
  },
  {
   "cell_type": "code",
   "execution_count": 41,
   "id": "9157e34d",
   "metadata": {},
   "outputs": [
    {
     "data": {
      "text/html": [
       "<div>\n",
       "<style scoped>\n",
       "    .dataframe tbody tr th:only-of-type {\n",
       "        vertical-align: middle;\n",
       "    }\n",
       "\n",
       "    .dataframe tbody tr th {\n",
       "        vertical-align: top;\n",
       "    }\n",
       "\n",
       "    .dataframe thead tr th {\n",
       "        text-align: left;\n",
       "    }\n",
       "\n",
       "    .dataframe thead tr:last-of-type th {\n",
       "        text-align: right;\n",
       "    }\n",
       "</style>\n",
       "<table border=\"1\" class=\"dataframe\">\n",
       "  <thead>\n",
       "    <tr>\n",
       "      <th></th>\n",
       "      <th></th>\n",
       "      <th></th>\n",
       "      <th></th>\n",
       "      <th colspan=\"2\" halign=\"left\">quotePrice_5</th>\n",
       "      <th colspan=\"2\" halign=\"left\">gasPrice_5</th>\n",
       "      <th colspan=\"2\" halign=\"left\">logret_quotePrice_5</th>\n",
       "      <th colspan=\"2\" halign=\"left\">logret_gasPrice_5</th>\n",
       "    </tr>\n",
       "    <tr>\n",
       "      <th></th>\n",
       "      <th></th>\n",
       "      <th></th>\n",
       "      <th></th>\n",
       "      <th>mean</th>\n",
       "      <th>std</th>\n",
       "      <th>mean</th>\n",
       "      <th>std</th>\n",
       "      <th>mean</th>\n",
       "      <th>std</th>\n",
       "      <th>mean</th>\n",
       "      <th>std</th>\n",
       "    </tr>\n",
       "    <tr>\n",
       "      <th>cycle_id</th>\n",
       "      <th>token1</th>\n",
       "      <th>token2</th>\n",
       "      <th></th>\n",
       "      <th></th>\n",
       "      <th></th>\n",
       "      <th></th>\n",
       "      <th></th>\n",
       "      <th></th>\n",
       "      <th></th>\n",
       "      <th></th>\n",
       "      <th></th>\n",
       "    </tr>\n",
       "  </thead>\n",
       "  <tbody>\n",
       "    <tr>\n",
       "      <th rowspan=\"5\" valign=\"top\">1002</th>\n",
       "      <th rowspan=\"5\" valign=\"top\">BUIDL</th>\n",
       "      <th rowspan=\"5\" valign=\"top\">STA</th>\n",
       "      <th>600</th>\n",
       "      <td>0.000000</td>\n",
       "      <td>0.000000</td>\n",
       "      <td>0.000000</td>\n",
       "      <td>0.000000</td>\n",
       "      <td>0.000000</td>\n",
       "      <td>0.000000</td>\n",
       "      <td>0.000000</td>\n",
       "      <td>0.000000</td>\n",
       "    </tr>\n",
       "    <tr>\n",
       "      <th>601</th>\n",
       "      <td>0.000000</td>\n",
       "      <td>0.000000</td>\n",
       "      <td>0.000000</td>\n",
       "      <td>0.000000</td>\n",
       "      <td>0.000000</td>\n",
       "      <td>0.000000</td>\n",
       "      <td>0.000000</td>\n",
       "      <td>0.000000</td>\n",
       "    </tr>\n",
       "    <tr>\n",
       "      <th>602</th>\n",
       "      <td>0.000000</td>\n",
       "      <td>0.000000</td>\n",
       "      <td>0.000000</td>\n",
       "      <td>0.000000</td>\n",
       "      <td>0.000000</td>\n",
       "      <td>0.000000</td>\n",
       "      <td>0.000000</td>\n",
       "      <td>0.000000</td>\n",
       "    </tr>\n",
       "    <tr>\n",
       "      <th>603</th>\n",
       "      <td>0.000000</td>\n",
       "      <td>0.000000</td>\n",
       "      <td>0.000000</td>\n",
       "      <td>0.000000</td>\n",
       "      <td>0.000000</td>\n",
       "      <td>0.000000</td>\n",
       "      <td>0.000000</td>\n",
       "      <td>0.000000</td>\n",
       "    </tr>\n",
       "    <tr>\n",
       "      <th>604</th>\n",
       "      <td>8.742736</td>\n",
       "      <td>3.170428</td>\n",
       "      <td>46.423853</td>\n",
       "      <td>13.554863</td>\n",
       "      <td>0.000000</td>\n",
       "      <td>0.000000</td>\n",
       "      <td>0.000000</td>\n",
       "      <td>0.000000</td>\n",
       "    </tr>\n",
       "    <tr>\n",
       "      <th>...</th>\n",
       "      <th>...</th>\n",
       "      <th>...</th>\n",
       "      <th>...</th>\n",
       "      <td>...</td>\n",
       "      <td>...</td>\n",
       "      <td>...</td>\n",
       "      <td>...</td>\n",
       "      <td>...</td>\n",
       "      <td>...</td>\n",
       "      <td>...</td>\n",
       "      <td>...</td>\n",
       "    </tr>\n",
       "    <tr>\n",
       "      <th rowspan=\"5\" valign=\"top\">47099</th>\n",
       "      <th rowspan=\"5\" valign=\"top\">WETH</th>\n",
       "      <th rowspan=\"5\" valign=\"top\">SUSHI</th>\n",
       "      <th>9998906</th>\n",
       "      <td>93.903858</td>\n",
       "      <td>0.820166</td>\n",
       "      <td>195.599997</td>\n",
       "      <td>75.427452</td>\n",
       "      <td>-0.000384</td>\n",
       "      <td>0.010213</td>\n",
       "      <td>0.018387</td>\n",
       "      <td>0.605447</td>\n",
       "    </tr>\n",
       "    <tr>\n",
       "      <th>9998907</th>\n",
       "      <td>93.590110</td>\n",
       "      <td>0.935031</td>\n",
       "      <td>170.599996</td>\n",
       "      <td>26.959229</td>\n",
       "      <td>-0.003356</td>\n",
       "      <td>0.007403</td>\n",
       "      <td>-0.097102</td>\n",
       "      <td>0.430007</td>\n",
       "    </tr>\n",
       "    <tr>\n",
       "      <th>9998908</th>\n",
       "      <td>93.576702</td>\n",
       "      <td>0.916728</td>\n",
       "      <td>167.099997</td>\n",
       "      <td>30.406413</td>\n",
       "      <td>-0.000142</td>\n",
       "      <td>0.012788</td>\n",
       "      <td>-0.023960</td>\n",
       "      <td>0.306635</td>\n",
       "    </tr>\n",
       "    <tr>\n",
       "      <th>9998909</th>\n",
       "      <td>93.845372</td>\n",
       "      <td>1.368933</td>\n",
       "      <td>154.403997</td>\n",
       "      <td>26.196298</td>\n",
       "      <td>0.002821</td>\n",
       "      <td>0.014302</td>\n",
       "      <td>-0.076369</td>\n",
       "      <td>0.266876</td>\n",
       "    </tr>\n",
       "    <tr>\n",
       "      <th>9998910</th>\n",
       "      <td>93.910761</td>\n",
       "      <td>1.331022</td>\n",
       "      <td>152.204000</td>\n",
       "      <td>27.104759</td>\n",
       "      <td>0.000701</td>\n",
       "      <td>0.018058</td>\n",
       "      <td>-0.015232</td>\n",
       "      <td>0.240029</td>\n",
       "    </tr>\n",
       "  </tbody>\n",
       "</table>\n",
       "<p>10000000 rows × 8 columns</p>\n",
       "</div>"
      ],
      "text/plain": [
       "                               quotePrice_5            gasPrice_5             \\\n",
       "                                       mean       std        mean        std   \n",
       "cycle_id token1 token2                                                         \n",
       "1002     BUIDL  STA    600         0.000000  0.000000    0.000000   0.000000   \n",
       "                       601         0.000000  0.000000    0.000000   0.000000   \n",
       "                       602         0.000000  0.000000    0.000000   0.000000   \n",
       "                       603         0.000000  0.000000    0.000000   0.000000   \n",
       "                       604         8.742736  3.170428   46.423853  13.554863   \n",
       "...                                     ...       ...         ...        ...   \n",
       "47099    WETH   SUSHI  9998906    93.903858  0.820166  195.599997  75.427452   \n",
       "                       9998907    93.590110  0.935031  170.599996  26.959229   \n",
       "                       9998908    93.576702  0.916728  167.099997  30.406413   \n",
       "                       9998909    93.845372  1.368933  154.403997  26.196298   \n",
       "                       9998910    93.910761  1.331022  152.204000  27.104759   \n",
       "\n",
       "                               logret_quotePrice_5            \\\n",
       "                                              mean       std   \n",
       "cycle_id token1 token2                                         \n",
       "1002     BUIDL  STA    600                0.000000  0.000000   \n",
       "                       601                0.000000  0.000000   \n",
       "                       602                0.000000  0.000000   \n",
       "                       603                0.000000  0.000000   \n",
       "                       604                0.000000  0.000000   \n",
       "...                                            ...       ...   \n",
       "47099    WETH   SUSHI  9998906           -0.000384  0.010213   \n",
       "                       9998907           -0.003356  0.007403   \n",
       "                       9998908           -0.000142  0.012788   \n",
       "                       9998909            0.002821  0.014302   \n",
       "                       9998910            0.000701  0.018058   \n",
       "\n",
       "                               logret_gasPrice_5            \n",
       "                                            mean       std  \n",
       "cycle_id token1 token2                                      \n",
       "1002     BUIDL  STA    600              0.000000  0.000000  \n",
       "                       601              0.000000  0.000000  \n",
       "                       602              0.000000  0.000000  \n",
       "                       603              0.000000  0.000000  \n",
       "                       604              0.000000  0.000000  \n",
       "...                                          ...       ...  \n",
       "47099    WETH   SUSHI  9998906          0.018387  0.605447  \n",
       "                       9998907         -0.097102  0.430007  \n",
       "                       9998908         -0.023960  0.306635  \n",
       "                       9998909         -0.076369  0.266876  \n",
       "                       9998910         -0.015232  0.240029  \n",
       "\n",
       "[10000000 rows x 8 columns]"
      ]
     },
     "execution_count": 41,
     "metadata": {},
     "output_type": "execute_result"
    }
   ],
   "source": [
    "ta_data_5.fillna(0.0)"
   ]
  },
  {
   "cell_type": "code",
   "execution_count": null,
   "id": "c6f45ed1",
   "metadata": {},
   "outputs": [],
   "source": []
  },
  {
   "cell_type": "code",
   "execution_count": null,
   "id": "303f1c15",
   "metadata": {},
   "outputs": [],
   "source": [
    "def build_ta(np_array):\n",
    "    df = pd.DataFrame(data=np.array, columns=['quotePrice','gasPrice'])\n",
    "    df.rolling(window).agg({\n",
    "                 'quotePrice'        : ['mean','std'],\n",
    "                 'gasPrice'          : ['mean','std'],\n",
    "                 'logret_quotePrice' : ['mean','std'],\n",
    "                 'logret_gasPrice'   : ['mean','std'], \n",
    "             })"
   ]
  },
  {
   "cell_type": "markdown",
   "id": "f42ba8fc",
   "metadata": {},
   "source": [
    "# From numpy"
   ]
  },
  {
   "cell_type": "code",
   "execution_count": 14,
   "id": "8dad482f",
   "metadata": {},
   "outputs": [],
   "source": [
    "X_train = np.load(cfg['files']['liquid'][\"raw_train_features\"])\n",
    "X_test  = np.load(cfg['files']['liquid'][\"raw_test_features\"])"
   ]
  },
  {
   "cell_type": "code",
   "execution_count": 16,
   "id": "99263af3",
   "metadata": {},
   "outputs": [],
   "source": [
    "N, T, P, K = X_train.shape"
   ]
  },
  {
   "cell_type": "code",
   "execution_count": 19,
   "id": "e90141e1",
   "metadata": {},
   "outputs": [],
   "source": [
    "tX_train = np.zeros((N, T, P, K * 2 * 2))\n",
    "for n in range(N):\n",
    "    for t in range(T):\n",
    "        np_array = X_train[n,t,:,:]\n",
    "        break\n",
    "    break\n",
    "        #tX_train[n,t,:,:] "
   ]
  },
  {
   "cell_type": "code",
   "execution_count": 20,
   "id": "1b1fd87e",
   "metadata": {},
   "outputs": [
    {
     "data": {
      "text/plain": [
       "(600, 2)"
      ]
     },
     "execution_count": 20,
     "metadata": {},
     "output_type": "execute_result"
    }
   ],
   "source": [
    "np_array.shape"
   ]
  },
  {
   "cell_type": "code",
   "execution_count": null,
   "id": "cc0b0fed",
   "metadata": {},
   "outputs": [],
   "source": [
    "df = pd.DataFrame(data=np_array, columns=['quotePrice','gasPrice'])\n",
    "def logret(data):\n",
    "    print(np.diff(np.log(data.quotePrice)).shape)\n",
    "    data['logret_quotePrice'] = np.diff(np.log(data.quotePrice))\n",
    "    data['logret_gasPrice']   = np.diff(np.log(data.gasPrice))\n",
    "logret(df)\n",
    "df.rolling(2).agg({\n",
    "                 'quotePrice'        : ['mean','std'],\n",
    "                 'gasPrice'          : ['mean','std'],\n",
    "                 'logret_quotePrice' : ['mean','std'],\n",
    "                 'logret_gasPrice'   : ['mean','std'], \n",
    "             })"
   ]
  },
  {
   "cell_type": "code",
   "execution_count": null,
   "id": "8ef94287",
   "metadata": {},
   "outputs": [],
   "source": []
  }
 ],
 "metadata": {
  "kernelspec": {
   "display_name": "Python 3 (ipykernel)",
   "language": "python",
   "name": "python3"
  },
  "language_info": {
   "codemirror_mode": {
    "name": "ipython",
    "version": 3
   },
   "file_extension": ".py",
   "mimetype": "text/x-python",
   "name": "python",
   "nbconvert_exporter": "python",
   "pygments_lexer": "ipython3",
   "version": "3.7.7"
  }
 },
 "nbformat": 4,
 "nbformat_minor": 5
}
